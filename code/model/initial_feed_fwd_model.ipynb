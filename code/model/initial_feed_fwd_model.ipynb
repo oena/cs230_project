{
  "nbformat": 4,
  "nbformat_minor": 0,
  "metadata": {
    "colab": {
      "provenance": [],
      "machine_shape": "hm",
      "gpuType": "A100"
    },
    "kernelspec": {
      "name": "python3",
      "display_name": "Python 3"
    },
    "language_info": {
      "name": "python"
    },
    "accelerator": "GPU"
  },
  "cells": [
    {
      "cell_type": "code",
      "execution_count": 53,
      "metadata": {
        "id": "aNw6v_yeKcoh"
      },
      "outputs": [],
      "source": [
        "import numpy as np\n",
        "import pandas as pd\n",
        "import seaborn as sns\n",
        "import matplotlib.pyplot as plt\n",
        "\n",
        "import torch\n",
        "import torch.nn as nn\n",
        "import torch.optim as optim\n",
        "from torch.utils.data import Dataset, DataLoader\n",
        "from torchmetrics.classification import BinaryConfusionMatrix\n",
        "\n",
        "import tqdm\n",
        "\n",
        "import copy\n",
        "\n",
        "from sklearn.preprocessing import StandardScaler    \n",
        "from sklearn.model_selection import train_test_split, StratifiedKFold\n",
        "from sklearn.metrics import f1_score, confusion_matrix, classification_report\n",
        "\n",
        "import torch.utils.data as data_utils"
      ]
    },
    {
      "cell_type": "code",
      "source": [
        "device = torch.device(\"cuda:0\")"
      ],
      "metadata": {
        "id": "BtHibYwzXxuO"
      },
      "execution_count": 2,
      "outputs": []
    },
    {
      "cell_type": "markdown",
      "source": [
        "## Read in data "
      ],
      "metadata": {
        "id": "3se9GEr5LoiP"
      }
    },
    {
      "cell_type": "code",
      "source": [
        "#train = np.load('/content/baseline_train_smote.npz')\n",
        "train = np.load(\"/content/baseline_train.npz\")"
      ],
      "metadata": {
        "id": "GThfy3ccLn27"
      },
      "execution_count": 30,
      "outputs": []
    },
    {
      "cell_type": "code",
      "source": [
        "train[\"x\"].shape"
      ],
      "metadata": {
        "id": "KrEi-cSOKlew",
        "colab": {
          "base_uri": "https://localhost:8080/"
        },
        "outputId": "f5e73feb-230d-4903-f153-30a41939ef3c"
      },
      "execution_count": 32,
      "outputs": [
        {
          "output_type": "execute_result",
          "data": {
            "text/plain": [
              "(756075, 106)"
            ]
          },
          "metadata": {},
          "execution_count": 32
        }
      ]
    },
    {
      "cell_type": "code",
      "source": [
        "train[\"y\"].shape"
      ],
      "metadata": {
        "colab": {
          "base_uri": "https://localhost:8080/"
        },
        "id": "xJ8MpV49ZTs4",
        "outputId": "724c424f-0d9d-4a18-e9f3-964b4e9116f3"
      },
      "execution_count": 31,
      "outputs": [
        {
          "output_type": "execute_result",
          "data": {
            "text/plain": [
              "(756075,)"
            ]
          },
          "metadata": {},
          "execution_count": 31
        }
      ]
    },
    {
      "cell_type": "code",
      "source": [
        "#validation = np.load('/content/baseline_validation_smote.npz')\n",
        "validation = np.load('/content/baseline_validation.npz')"
      ],
      "metadata": {
        "id": "P7qV4WVR0_gz"
      },
      "execution_count": 33,
      "outputs": []
    },
    {
      "cell_type": "code",
      "source": [
        "validation[\"x\"].shape"
      ],
      "metadata": {
        "colab": {
          "base_uri": "https://localhost:8080/"
        },
        "id": "O4bfDZqv1DYH",
        "outputId": "22410573-a883-43b9-a900-e48045380cff"
      },
      "execution_count": 34,
      "outputs": [
        {
          "output_type": "execute_result",
          "data": {
            "text/plain": [
              "(161492, 106)"
            ]
          },
          "metadata": {},
          "execution_count": 34
        }
      ]
    },
    {
      "cell_type": "code",
      "source": [
        "validation[\"y\"].shape"
      ],
      "metadata": {
        "colab": {
          "base_uri": "https://localhost:8080/"
        },
        "id": "1kakPUBm1E_W",
        "outputId": "ef254368-7eb0-4c0d-d2d2-c0831ff1e1c3"
      },
      "execution_count": 35,
      "outputs": [
        {
          "output_type": "execute_result",
          "data": {
            "text/plain": [
              "(161492,)"
            ]
          },
          "metadata": {},
          "execution_count": 35
        }
      ]
    },
    {
      "cell_type": "code",
      "source": [],
      "metadata": {
        "id": "d8H8PP9S1G6k"
      },
      "execution_count": 35,
      "outputs": []
    },
    {
      "cell_type": "code",
      "source": [
        "#test = np.load(\"/content/baseline_test_smote.npz\")\n",
        "test = np.load(\"/content/baseline_test.npz\")"
      ],
      "metadata": {
        "id": "kI2gjDDvaZjN"
      },
      "execution_count": 36,
      "outputs": []
    },
    {
      "cell_type": "code",
      "source": [
        "test[\"x\"].shape "
      ],
      "metadata": {
        "colab": {
          "base_uri": "https://localhost:8080/"
        },
        "id": "tFxLaqIHagPx",
        "outputId": "1912e6be-408d-4516-c501-ac18c9c7ad03"
      },
      "execution_count": 37,
      "outputs": [
        {
          "output_type": "execute_result",
          "data": {
            "text/plain": [
              "(161924, 106)"
            ]
          },
          "metadata": {},
          "execution_count": 37
        }
      ]
    },
    {
      "cell_type": "code",
      "source": [
        "test[\"y\"].shape"
      ],
      "metadata": {
        "colab": {
          "base_uri": "https://localhost:8080/"
        },
        "id": "4IFLH1wxajHr",
        "outputId": "bd5b038a-8919-4e11-e85f-f090a04ff7cc"
      },
      "execution_count": 38,
      "outputs": [
        {
          "output_type": "execute_result",
          "data": {
            "text/plain": [
              "(161924,)"
            ]
          },
          "metadata": {},
          "execution_count": 38
        }
      ]
    },
    {
      "cell_type": "code",
      "source": [
        "# Load data \n",
        "minibatch_size = 500\n",
        "\n",
        "X_train = torch.tensor(train[\"x\"], dtype=torch.float32).to(device)\n",
        "y_train = torch.tensor(train[\"y\"], dtype=torch.float32).reshape(-1,1).to(device)\n",
        "train_dataset = torch.utils.data.TensorDataset(X_train, y_train)\n",
        "train_loader = torch.utils.data.DataLoader(train_dataset, batch_size=minibatch_size, shuffle=True)\n",
        "\n",
        "X_val = torch.tensor(validation[\"x\"], dtype=torch.float32).to(device)\n",
        "y_val = torch.tensor(validation[\"y\"], dtype=torch.float32).reshape(-1,1).to(device)\n",
        "val_dataset = torch.utils.data.TensorDataset(X_val, y_val)\n",
        "val_loader = torch.utils.data.DataLoader(val_dataset, batch_size=validation[\"x\"].shape[0], shuffle=False)\n",
        "\n",
        "X_test = torch.tensor(test[\"x\"], dtype=torch.float32).to(device)\n",
        "y_test = torch.tensor(test[\"y\"], dtype=torch.float32).reshape(-1,1).to(device)\n",
        "test_dataset = torch.utils.data.TensorDataset(X_test, y_test)\n",
        "test_loader = torch.utils.data.DataLoader(test_dataset, batch_size=1, shuffle=False)"
      ],
      "metadata": {
        "id": "qtce-YwBZ9sT"
      },
      "execution_count": 54,
      "outputs": []
    },
    {
      "cell_type": "markdown",
      "source": [
        "## Model setup "
      ],
      "metadata": {
        "id": "xcPtWlu2Zosi"
      }
    },
    {
      "cell_type": "code",
      "source": [
        "class FF1(nn.Module):\n",
        "    def __init__(self, input_size, hl1, hl2):\n",
        "        super().__init__()\n",
        "        self.hl1 = nn.Linear(input_size, hl1)\n",
        "        self.hl2 = nn.Linear(hl1, hl2)\n",
        "        self.output = nn.Linear(hl2, 1)\n",
        "        self.relu = nn.ReLU()\n",
        "        self.sigmoid = nn.Sigmoid()\n",
        "\n",
        "    def forward(self, x):\n",
        "        x = self.relu(self.hl1(x))\n",
        "        x = self.relu(self.hl2(x))\n",
        "        x = self.sigmoid(self.output(x))\n",
        "\n",
        "        return x"
      ],
      "metadata": {
        "id": "QmtlcRp6a7-W"
      },
      "execution_count": 45,
      "outputs": []
    },
    {
      "cell_type": "code",
      "source": [
        "# Initialize model \n",
        "input_size = 106\n",
        "hl1 = 66 \n",
        "hl2 = 44\n",
        "curr_model = FF1(input_size, hl1, hl2)\n",
        "curr_model = curr_model.to(device)\n",
        "\n",
        "# Initialize Hyperparameters\n",
        "learning_rate = 0.001\n",
        "num_epochs = 10\n",
        "criterion = nn.BCELoss()\n",
        "#criterion = nn.BCEWithLogitsLoss()\n",
        "optimizer = torch.optim.Adam(curr_model.parameters(), \n",
        "                             lr=learning_rate, \n",
        "                             weight_decay=10e-05)\n",
        "\n",
        "# To store loss for plotting \n",
        "history = {}\n",
        "history['train_loss'] = []\n",
        "history['validation_loss'] = []\n",
        "history['validation_true_label'] = []\n",
        "history['test_true_label'] = []\n",
        "\n",
        "# To store accuracy\n",
        "accuracy = {}\n",
        "accuracy['validation_accuracy'] = []\n",
        "accuracy['test_accuracy'] = []"
      ],
      "metadata": {
        "id": "zhcLtwHaHsSF"
      },
      "execution_count": 46,
      "outputs": []
    },
    {
      "cell_type": "code",
      "source": [
        "print(sum([x.reshape(-1).shape[0] for x in curr_model.parameters()])) #number of parameters "
      ],
      "metadata": {
        "colab": {
          "base_uri": "https://localhost:8080/"
        },
        "id": "8SSD8QoSa_wr",
        "outputId": "55169aca-ae80-47a6-8571-a8eb0867ac9f"
      },
      "execution_count": 42,
      "outputs": [
        {
          "output_type": "stream",
          "name": "stdout",
          "text": [
            "10055\n"
          ]
        }
      ]
    },
    {
      "cell_type": "code",
      "source": [
        "for epoch in range(num_epochs):\n",
        "  h = np.array([])\n",
        "  for data, label in train_loader:\n",
        "    # move data and label to device\n",
        "    data = data.to(device)\n",
        "    label = label.to(device)\n",
        "    \n",
        "    # forward\n",
        "    output = curr_model(data)\n",
        "    loss = criterion(output, label)\n",
        "    h = np.append(h, loss.item())\n",
        "\n",
        "    # backward \n",
        "    optimizer.zero_grad()\n",
        "    loss.backward()\n",
        "    optimizer.step()\n",
        "\n",
        "  # Record loss values \n",
        "  mean_loss = np.mean(h)\n",
        "  print('epoch [{}/{}], loss:{:.4f}'\n",
        "          .format(epoch + 1, num_epochs, mean_loss))\n",
        "  history['train_loss'].append(mean_loss)"
      ],
      "metadata": {
        "colab": {
          "base_uri": "https://localhost:8080/"
        },
        "id": "tJOMYwyzJZiW",
        "outputId": "98343c9f-d328-4f49-f596-3ab91ceb2a42"
      },
      "execution_count": 47,
      "outputs": [
        {
          "output_type": "stream",
          "name": "stdout",
          "text": [
            "epoch [1/10], loss:0.0146\n",
            "epoch [2/10], loss:0.0027\n",
            "epoch [3/10], loss:0.0027\n",
            "epoch [4/10], loss:0.0027\n",
            "epoch [5/10], loss:0.0027\n",
            "epoch [6/10], loss:0.0027\n",
            "epoch [7/10], loss:0.0027\n",
            "epoch [8/10], loss:0.0027\n",
            "epoch [9/10], loss:0.0027\n",
            "epoch [10/10], loss:0.0027\n"
          ]
        }
      ]
    },
    {
      "cell_type": "code",
      "source": [
        "# Evaluate accuracy on validation data \n",
        "curr_model.eval()\n",
        "\n",
        "with torch.no_grad():\n",
        "    for data, label in val_loader:\n",
        "        # move data and label to device\n",
        "        data = data.to(device)\n",
        "        label = label.to(device)\n",
        "\n",
        "        output = curr_model(data).to(device)\n",
        "        #print(f\"Output: {output}\")\n",
        "\n",
        "        # loss\n",
        "        loss = criterion(output, label)\n",
        "        print(f\"Loss: {loss}\")\n",
        "        history['validation_loss'].append(loss.item())\n",
        "        history['validation_true_label'].append(label)\n",
        "\n",
        "        # accuracy\n",
        "        acc = (output.round() == label).float().mean()\n",
        "        acc = float(acc)\n",
        "        print(f\"Accuracy: {acc}\")\n",
        "        accuracy[\"validation_accuracy\"].append(acc) "
      ],
      "metadata": {
        "colab": {
          "base_uri": "https://localhost:8080/"
        },
        "id": "ahKf4-Dc3ouI",
        "outputId": "3a662cf2-3ecc-4b1c-8de6-13e7d0a0e081"
      },
      "execution_count": 61,
      "outputs": [
        {
          "output_type": "stream",
          "name": "stdout",
          "text": [
            "Loss: 0.002571320394054055\n",
            "Accuracy: 0.9996966123580933\n"
          ]
        }
      ]
    },
    {
      "cell_type": "code",
      "source": [
        "bcm = BinaryConfusionMatrix().to(device)\n",
        "bcm(output, label)"
      ],
      "metadata": {
        "colab": {
          "base_uri": "https://localhost:8080/"
        },
        "id": "EDRC2HgFpQJp",
        "outputId": "046b43b1-f9ec-4861-e8a0-82eb9bfbd253"
      },
      "execution_count": 63,
      "outputs": [
        {
          "output_type": "execute_result",
          "data": {
            "text/plain": [
              "tensor([[161443,      0],\n",
              "        [    49,      0]], device='cuda:0')"
            ]
          },
          "metadata": {},
          "execution_count": 63
        }
      ]
    },
    {
      "cell_type": "code",
      "source": [
        "np.mean(history[\"validation_loss\"])"
      ],
      "metadata": {
        "id": "9ZUghfbshcH4",
        "colab": {
          "base_uri": "https://localhost:8080/"
        },
        "outputId": "63dffaf7-5a25-49ef-8e71-a9930262c302"
      },
      "execution_count": 50,
      "outputs": [
        {
          "output_type": "execute_result",
          "data": {
            "text/plain": [
              "0.002571217041936971"
            ]
          },
          "metadata": {},
          "execution_count": 50
        }
      ]
    }
  ]
}