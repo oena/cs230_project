{
 "cells": [
  {
   "cell_type": "markdown",
   "id": "9c03000b-af39-4bb3-bd61-39e80b2672f3",
   "metadata": {},
   "source": [
    "# Autoencoder train/test split"
   ]
  },
  {
   "cell_type": "markdown",
   "id": "6d8adadf-4d40-4f87-8b85-3d2a27837761",
   "metadata": {},
   "source": [
    "## Setup & read in data "
   ]
  },
  {
   "cell_type": "code",
   "execution_count": 49,
   "id": "244af88b-003f-4568-8a14-e4823f7e7324",
   "metadata": {},
   "outputs": [],
   "source": [
    "import numpy as np\n",
    "import pandas as pd\n",
    "from sklearn.preprocessing import LabelEncoder, OneHotEncoder, StandardScaler\n",
    "from sklearn.model_selection import train_test_split\n",
    "from sklearn.utils import shuffle\n",
    "import os"
   ]
  },
  {
   "cell_type": "code",
   "execution_count": 7,
   "id": "6e590f0b-0bd8-49ad-a58c-dda3c204e4e4",
   "metadata": {},
   "outputs": [],
   "source": [
    "data_df = pd.read_csv('../../data/processed/combined_processed_data.csv')"
   ]
  },
  {
   "cell_type": "code",
   "execution_count": 8,
   "id": "0e68c892-8481-4ebb-898b-503a41fbd2f0",
   "metadata": {},
   "outputs": [
    {
     "data": {
      "text/html": [
       "<div>\n",
       "<style scoped>\n",
       "    .dataframe tbody tr th:only-of-type {\n",
       "        vertical-align: middle;\n",
       "    }\n",
       "\n",
       "    .dataframe tbody tr th {\n",
       "        vertical-align: top;\n",
       "    }\n",
       "\n",
       "    .dataframe thead th {\n",
       "        text-align: right;\n",
       "    }\n",
       "</style>\n",
       "<table border=\"1\" class=\"dataframe\">\n",
       "  <thead>\n",
       "    <tr style=\"text-align: right;\">\n",
       "      <th></th>\n",
       "      <th>Rndrng_NPI</th>\n",
       "      <th>Rndrng_Prvdr_Gndr</th>\n",
       "      <th>Drug_Tot_HCPCS_Cds</th>\n",
       "      <th>Drug_Tot_Benes</th>\n",
       "      <th>Drug_Tot_Srvcs</th>\n",
       "      <th>Drug_Sbmtd_Chrg</th>\n",
       "      <th>Drug_Mdcr_Alowd_Amt</th>\n",
       "      <th>Drug_Mdcr_Pymt_Amt</th>\n",
       "      <th>Drug_Mdcr_Stdzd_Amt</th>\n",
       "      <th>Med_Tot_HCPCS_Cds</th>\n",
       "      <th>...</th>\n",
       "      <th>Rndrng_Prvdr_Type_Speech Language Pathologist</th>\n",
       "      <th>Rndrng_Prvdr_Type_Sports Medicine</th>\n",
       "      <th>Rndrng_Prvdr_Type_Surgical Oncology</th>\n",
       "      <th>Rndrng_Prvdr_Type_Thoracic Surgery</th>\n",
       "      <th>Rndrng_Prvdr_Type_Undefined Physician type</th>\n",
       "      <th>Rndrng_Prvdr_Type_Undersea and Hyperbaric Medicine</th>\n",
       "      <th>Rndrng_Prvdr_Type_Unknown Supplier/Provider Specialty</th>\n",
       "      <th>Rndrng_Prvdr_Type_Urology</th>\n",
       "      <th>Rndrng_Prvdr_Type_Vascular Surgery</th>\n",
       "      <th>excluded</th>\n",
       "    </tr>\n",
       "  </thead>\n",
       "  <tbody>\n",
       "    <tr>\n",
       "      <th>0</th>\n",
       "      <td>1003000126</td>\n",
       "      <td>1.0</td>\n",
       "      <td>0.0</td>\n",
       "      <td>0.0</td>\n",
       "      <td>0.0</td>\n",
       "      <td>0.000</td>\n",
       "      <td>0.000</td>\n",
       "      <td>0.0</td>\n",
       "      <td>0.00</td>\n",
       "      <td>18.5</td>\n",
       "      <td>...</td>\n",
       "      <td>0.0</td>\n",
       "      <td>0.0</td>\n",
       "      <td>0.0</td>\n",
       "      <td>0.0</td>\n",
       "      <td>0.0</td>\n",
       "      <td>0.0</td>\n",
       "      <td>0.0</td>\n",
       "      <td>0.0</td>\n",
       "      <td>0.0</td>\n",
       "      <td>0.0</td>\n",
       "    </tr>\n",
       "    <tr>\n",
       "      <th>1</th>\n",
       "      <td>1003000134</td>\n",
       "      <td>1.0</td>\n",
       "      <td>0.0</td>\n",
       "      <td>0.0</td>\n",
       "      <td>0.0</td>\n",
       "      <td>0.000</td>\n",
       "      <td>0.000</td>\n",
       "      <td>0.0</td>\n",
       "      <td>0.00</td>\n",
       "      <td>20.5</td>\n",
       "      <td>...</td>\n",
       "      <td>0.0</td>\n",
       "      <td>0.0</td>\n",
       "      <td>0.0</td>\n",
       "      <td>0.0</td>\n",
       "      <td>0.0</td>\n",
       "      <td>0.0</td>\n",
       "      <td>0.0</td>\n",
       "      <td>0.0</td>\n",
       "      <td>0.0</td>\n",
       "      <td>0.0</td>\n",
       "    </tr>\n",
       "    <tr>\n",
       "      <th>2</th>\n",
       "      <td>1003000407</td>\n",
       "      <td>1.0</td>\n",
       "      <td>0.0</td>\n",
       "      <td>0.0</td>\n",
       "      <td>0.0</td>\n",
       "      <td>0.000</td>\n",
       "      <td>0.000</td>\n",
       "      <td>0.0</td>\n",
       "      <td>0.00</td>\n",
       "      <td>23.0</td>\n",
       "      <td>...</td>\n",
       "      <td>0.0</td>\n",
       "      <td>0.0</td>\n",
       "      <td>0.0</td>\n",
       "      <td>0.0</td>\n",
       "      <td>0.0</td>\n",
       "      <td>0.0</td>\n",
       "      <td>0.0</td>\n",
       "      <td>0.0</td>\n",
       "      <td>0.0</td>\n",
       "      <td>1.0</td>\n",
       "    </tr>\n",
       "    <tr>\n",
       "      <th>3</th>\n",
       "      <td>1003000480</td>\n",
       "      <td>1.0</td>\n",
       "      <td>0.0</td>\n",
       "      <td>0.0</td>\n",
       "      <td>0.0</td>\n",
       "      <td>0.000</td>\n",
       "      <td>0.000</td>\n",
       "      <td>0.0</td>\n",
       "      <td>0.00</td>\n",
       "      <td>30.5</td>\n",
       "      <td>...</td>\n",
       "      <td>0.0</td>\n",
       "      <td>0.0</td>\n",
       "      <td>0.0</td>\n",
       "      <td>0.0</td>\n",
       "      <td>0.0</td>\n",
       "      <td>0.0</td>\n",
       "      <td>0.0</td>\n",
       "      <td>0.0</td>\n",
       "      <td>0.0</td>\n",
       "      <td>0.0</td>\n",
       "    </tr>\n",
       "    <tr>\n",
       "      <th>4</th>\n",
       "      <td>1003000522</td>\n",
       "      <td>1.0</td>\n",
       "      <td>9.0</td>\n",
       "      <td>144.5</td>\n",
       "      <td>167.5</td>\n",
       "      <td>38892.565</td>\n",
       "      <td>13229.245</td>\n",
       "      <td>13197.3</td>\n",
       "      <td>13262.99</td>\n",
       "      <td>40.0</td>\n",
       "      <td>...</td>\n",
       "      <td>0.0</td>\n",
       "      <td>0.0</td>\n",
       "      <td>0.0</td>\n",
       "      <td>0.0</td>\n",
       "      <td>0.0</td>\n",
       "      <td>0.0</td>\n",
       "      <td>0.0</td>\n",
       "      <td>0.0</td>\n",
       "      <td>0.0</td>\n",
       "      <td>0.0</td>\n",
       "    </tr>\n",
       "  </tbody>\n",
       "</table>\n",
       "<p>5 rows × 108 columns</p>\n",
       "</div>"
      ],
      "text/plain": [
       "   Rndrng_NPI  Rndrng_Prvdr_Gndr  Drug_Tot_HCPCS_Cds  Drug_Tot_Benes   \n",
       "0  1003000126                1.0                 0.0             0.0  \\\n",
       "1  1003000134                1.0                 0.0             0.0   \n",
       "2  1003000407                1.0                 0.0             0.0   \n",
       "3  1003000480                1.0                 0.0             0.0   \n",
       "4  1003000522                1.0                 9.0           144.5   \n",
       "\n",
       "   Drug_Tot_Srvcs  Drug_Sbmtd_Chrg  Drug_Mdcr_Alowd_Amt  Drug_Mdcr_Pymt_Amt   \n",
       "0             0.0            0.000                0.000                 0.0  \\\n",
       "1             0.0            0.000                0.000                 0.0   \n",
       "2             0.0            0.000                0.000                 0.0   \n",
       "3             0.0            0.000                0.000                 0.0   \n",
       "4           167.5        38892.565            13229.245             13197.3   \n",
       "\n",
       "   Drug_Mdcr_Stdzd_Amt  Med_Tot_HCPCS_Cds  ...   \n",
       "0                 0.00               18.5  ...  \\\n",
       "1                 0.00               20.5  ...   \n",
       "2                 0.00               23.0  ...   \n",
       "3                 0.00               30.5  ...   \n",
       "4             13262.99               40.0  ...   \n",
       "\n",
       "   Rndrng_Prvdr_Type_Speech Language Pathologist   \n",
       "0                                            0.0  \\\n",
       "1                                            0.0   \n",
       "2                                            0.0   \n",
       "3                                            0.0   \n",
       "4                                            0.0   \n",
       "\n",
       "   Rndrng_Prvdr_Type_Sports Medicine  Rndrng_Prvdr_Type_Surgical Oncology   \n",
       "0                                0.0                                  0.0  \\\n",
       "1                                0.0                                  0.0   \n",
       "2                                0.0                                  0.0   \n",
       "3                                0.0                                  0.0   \n",
       "4                                0.0                                  0.0   \n",
       "\n",
       "   Rndrng_Prvdr_Type_Thoracic Surgery   \n",
       "0                                 0.0  \\\n",
       "1                                 0.0   \n",
       "2                                 0.0   \n",
       "3                                 0.0   \n",
       "4                                 0.0   \n",
       "\n",
       "   Rndrng_Prvdr_Type_Undefined Physician type   \n",
       "0                                         0.0  \\\n",
       "1                                         0.0   \n",
       "2                                         0.0   \n",
       "3                                         0.0   \n",
       "4                                         0.0   \n",
       "\n",
       "   Rndrng_Prvdr_Type_Undersea and Hyperbaric Medicine   \n",
       "0                                                0.0   \\\n",
       "1                                                0.0    \n",
       "2                                                0.0    \n",
       "3                                                0.0    \n",
       "4                                                0.0    \n",
       "\n",
       "   Rndrng_Prvdr_Type_Unknown Supplier/Provider Specialty   \n",
       "0                                                0.0      \\\n",
       "1                                                0.0       \n",
       "2                                                0.0       \n",
       "3                                                0.0       \n",
       "4                                                0.0       \n",
       "\n",
       "   Rndrng_Prvdr_Type_Urology  Rndrng_Prvdr_Type_Vascular Surgery  excluded  \n",
       "0                        0.0                                 0.0       0.0  \n",
       "1                        0.0                                 0.0       0.0  \n",
       "2                        0.0                                 0.0       1.0  \n",
       "3                        0.0                                 0.0       0.0  \n",
       "4                        0.0                                 0.0       0.0  \n",
       "\n",
       "[5 rows x 108 columns]"
      ]
     },
     "execution_count": 8,
     "metadata": {},
     "output_type": "execute_result"
    }
   ],
   "source": [
    "data_df.head()"
   ]
  },
  {
   "cell_type": "markdown",
   "id": "3e1a20b7-3731-4b62-a3d3-f50fc169bccd",
   "metadata": {},
   "source": [
    "## Separate fraudulent vs. non-fraudulent data \n",
    "\n",
    "Note. The training data is normal only, and the test data is a mix of normal and fraudulent. "
   ]
  },
  {
   "cell_type": "code",
   "execution_count": 14,
   "id": "26bbe511-d43d-4617-bb17-91f829dc2033",
   "metadata": {},
   "outputs": [],
   "source": [
    "data_df_fraud = data_df.loc[data_df[\"excluded\"] == 1]\n",
    "data_df_nonfraud = data_df.loc[data_df[\"excluded\"] == 0]"
   ]
  },
  {
   "cell_type": "code",
   "execution_count": 17,
   "id": "e2cbc9b9-5ee2-4cb4-8676-ba4eae9975e3",
   "metadata": {},
   "outputs": [],
   "source": [
    "data_train, data_test_norm = train_test_split(data_df_nonfraud, test_size = 0.01, random_state =1) "
   ]
  },
  {
   "cell_type": "code",
   "execution_count": 19,
   "id": "61c13fd6-1bb8-45f5-9636-f824bf72c05a",
   "metadata": {},
   "outputs": [
    {
     "data": {
      "text/plain": [
       "(1068369, 108)"
      ]
     },
     "execution_count": 19,
     "metadata": {},
     "output_type": "execute_result"
    }
   ],
   "source": [
    "data_train.shape"
   ]
  },
  {
   "cell_type": "code",
   "execution_count": 21,
   "id": "781c6583-1a4d-427d-8c62-bcaba9faeb14",
   "metadata": {},
   "outputs": [
    {
     "data": {
      "text/plain": [
       "(10792, 108)"
      ]
     },
     "execution_count": 21,
     "metadata": {},
     "output_type": "execute_result"
    }
   ],
   "source": [
    "data_test_norm.shape"
   ]
  },
  {
   "cell_type": "code",
   "execution_count": 25,
   "id": "b3b95ec5-211f-41e7-97ac-e47e0cb89fd4",
   "metadata": {},
   "outputs": [
    {
     "data": {
      "text/plain": [
       "(330, 108)"
      ]
     },
     "execution_count": 25,
     "metadata": {},
     "output_type": "execute_result"
    }
   ],
   "source": [
    "data_df_fraud.shape"
   ]
  },
  {
   "cell_type": "code",
   "execution_count": 29,
   "id": "c09f2c99-c26e-4f9f-a5c6-ea8f387b02ed",
   "metadata": {},
   "outputs": [],
   "source": [
    "# concatenate normal & abnormal test cases \n",
    "data_test = pd.concat([data_test_norm, data_df_fraud], axis=0)\n",
    "data_test = shuffle(data_test, random_state=1)"
   ]
  },
  {
   "cell_type": "code",
   "execution_count": 30,
   "id": "fe5fb431-ded9-480c-8b83-2a313435c07a",
   "metadata": {},
   "outputs": [
    {
     "data": {
      "text/plain": [
       "(11122, 108)"
      ]
     },
     "execution_count": 30,
     "metadata": {},
     "output_type": "execute_result"
    }
   ],
   "source": [
    "data_test.shape "
   ]
  },
  {
   "cell_type": "markdown",
   "id": "da7e6c93-c90e-4d32-9bea-d31770bff25f",
   "metadata": {},
   "source": [
    "## Split X & y "
   ]
  },
  {
   "cell_type": "code",
   "execution_count": 38,
   "id": "7398a545-c755-48e0-b194-f362757b3329",
   "metadata": {},
   "outputs": [],
   "source": [
    "y_test = data_test['excluded'].tolist()\n",
    "X_test = data_test.drop(['excluded'], axis=1).to_numpy()"
   ]
  },
  {
   "cell_type": "code",
   "execution_count": 39,
   "id": "d4cf8e72-b56e-4cae-84cc-b28db9a02f9e",
   "metadata": {},
   "outputs": [
    {
     "data": {
      "text/plain": [
       "0.029670922495953964"
      ]
     },
     "execution_count": 39,
     "metadata": {},
     "output_type": "execute_result"
    }
   ],
   "source": [
    "sum(y_test)/len(y_test) # proportion of positive cases "
   ]
  },
  {
   "cell_type": "code",
   "execution_count": 35,
   "id": "9816f27c-67bc-45b0-9a76-c3dd2de1964a",
   "metadata": {},
   "outputs": [],
   "source": [
    "y_train = data_train[\"excluded\"].tolist()\n",
    "X_train = data_train.drop([\"excluded\"], axis=1).to_numpy()"
   ]
  },
  {
   "cell_type": "markdown",
   "id": "d1fcc2d5-be95-4e12-836b-f9439e434abc",
   "metadata": {},
   "source": [
    "## Scale X values "
   ]
  },
  {
   "cell_type": "code",
   "execution_count": 43,
   "id": "fe5853a4-0b50-41e9-a454-6ac44fbf5b0f",
   "metadata": {},
   "outputs": [],
   "source": [
    "stdsc = StandardScaler()\n",
    "\n",
    "X_train = stdsc.fit_transform(X_train) \n",
    "X_test = stdsc.transform(X_test) "
   ]
  },
  {
   "cell_type": "code",
   "execution_count": 45,
   "id": "dc23762c-f41f-4755-8676-52fb51b14081",
   "metadata": {},
   "outputs": [
    {
     "data": {
      "text/plain": [
       "(1068369, 107)"
      ]
     },
     "execution_count": 45,
     "metadata": {},
     "output_type": "execute_result"
    }
   ],
   "source": [
    "X_train.shape "
   ]
  },
  {
   "cell_type": "code",
   "execution_count": 46,
   "id": "e7f8ed6b-f514-4281-ac58-b62b1682f8bb",
   "metadata": {},
   "outputs": [
    {
     "data": {
      "text/plain": [
       "(11122, 107)"
      ]
     },
     "execution_count": 46,
     "metadata": {},
     "output_type": "execute_result"
    }
   ],
   "source": [
    "X_test.shape "
   ]
  },
  {
   "cell_type": "markdown",
   "id": "a8ed4095-20ae-41b2-b690-bed57d15a16b",
   "metadata": {},
   "source": [
    "## Save data "
   ]
  },
  {
   "cell_type": "code",
   "execution_count": 47,
   "id": "7dc5fcb5-1293-4a70-b212-4ed94d0bec8c",
   "metadata": {},
   "outputs": [],
   "source": [
    "np.savez_compressed('../../data/processed/train', a=X_train, b=y_train)"
   ]
  },
  {
   "cell_type": "code",
   "execution_count": 48,
   "id": "ecb3f867-8dde-4f13-830d-a862009af7f6",
   "metadata": {},
   "outputs": [],
   "source": [
    "np.savez_compressed('../../data/processed/test', a=X_test, b=y_test)"
   ]
  },
  {
   "cell_type": "code",
   "execution_count": null,
   "id": "42eb88e7-1a24-4472-b0f0-18e154d95e6f",
   "metadata": {},
   "outputs": [],
   "source": []
  }
 ],
 "metadata": {
  "kernelspec": {
   "display_name": "Python (cs230 proj)",
   "language": "python",
   "name": "myenv"
  },
  "language_info": {
   "codemirror_mode": {
    "name": "ipython",
    "version": 3
   },
   "file_extension": ".py",
   "mimetype": "text/x-python",
   "name": "python",
   "nbconvert_exporter": "python",
   "pygments_lexer": "ipython3",
   "version": "3.10.11"
  }
 },
 "nbformat": 4,
 "nbformat_minor": 5
}
