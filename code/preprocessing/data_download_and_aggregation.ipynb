{
 "cells": [
  {
   "cell_type": "markdown",
   "id": "f3bf6cfd-00c3-46c2-b541-5683ca20592a",
   "metadata": {},
   "source": [
    "# Data download and cleanup"
   ]
  },
  {
   "cell_type": "code",
   "execution_count": 1,
   "id": "feba496d-2fde-4d16-b200-0c1f25e1fe14",
   "metadata": {},
   "outputs": [],
   "source": [
    "import os\n",
    "import glob\n",
    "import pandas as pd"
   ]
  },
  {
   "cell_type": "markdown",
   "id": "6f8014e2-cf83-4f8e-82ae-ffac681612ee",
   "metadata": {},
   "source": [
    "## Download data \n",
    "\n",
    "Source: Data were downloaded from the [Medicare public data website](https://data.cms.gov/provider-summary-by-type-of-service/medicare-physician-other-practitioners/medicare-physician-other-practitioners-by-provider) for years 2018, 2019, 2020."
   ]
  },
  {
   "cell_type": "code",
   "execution_count": 2,
   "id": "e0e2a006-fcb6-4c4b-9a37-fa080e027fe4",
   "metadata": {},
   "outputs": [
    {
     "data": {
      "text/plain": [
       "'/Users/oana/Documents/Stanford/Spring2023/CS230/final_project/cs230_project/code/preprocessing'"
      ]
     },
     "execution_count": 2,
     "metadata": {},
     "output_type": "execute_result"
    }
   ],
   "source": [
    "os.getcwd()"
   ]
  },
  {
   "cell_type": "code",
   "execution_count": 3,
   "id": "16016722-e3d4-4f75-98e1-355d4fff07ef",
   "metadata": {},
   "outputs": [
    {
     "name": "stderr",
     "output_type": "stream",
     "text": [
      "/var/folders/6m/dcb0chc94pl7hxnxbqp281jc0000gn/T/ipykernel_90325/664181645.py:8: DtypeWarning: Columns (12) have mixed types. Specify dtype option on import or set low_memory=False.\n",
      "  df = pd.read_csv(f, header = 0, encoding = 'latin-1')\n",
      "/var/folders/6m/dcb0chc94pl7hxnxbqp281jc0000gn/T/ipykernel_90325/664181645.py:8: DtypeWarning: Columns (12) have mixed types. Specify dtype option on import or set low_memory=False.\n",
      "  df = pd.read_csv(f, header = 0, encoding = 'latin-1')\n"
     ]
    }
   ],
   "source": [
    "# assuming you're in code/preprocessing \n",
    "data_path = '../../data/raw/'\n",
    "all_data_files = glob.glob(os.path.join(data_path, 'medicare_*.csv'))\n",
    "\n",
    "data_list = []\n",
    "\n",
    "for f in all_data_files:\n",
    "    df = pd.read_csv(f, header = 0, encoding = 'latin-1')\n",
    "    df['year'] = str.split(str.split(str.split(f, '/')[-1], \"_\")[-1], \".csv\")[0]\n",
    "    data_list.append(df)\n",
    "\n",
    "data_df = pd.concat(data_list, axis=0, ignore_index = True)"
   ]
  },
  {
   "cell_type": "code",
   "execution_count": 4,
   "id": "b99fd2c3-64f3-4a4e-a6c4-71b588724a90",
   "metadata": {},
   "outputs": [
    {
     "data": {
      "text/plain": [
       "['../../data/raw/medicare_raw_2019.csv',\n",
       " '../../data/raw/medicare_raw_2018.csv']"
      ]
     },
     "execution_count": 4,
     "metadata": {},
     "output_type": "execute_result"
    }
   ],
   "source": [
    "all_data_files #just to check"
   ]
  },
  {
   "cell_type": "code",
   "execution_count": 7,
   "id": "77a11833-bb51-46e6-b29c-723c1cbe31dd",
   "metadata": {},
   "outputs": [
    {
     "data": {
      "text/plain": [
       "(2277332, 74)"
      ]
     },
     "execution_count": 7,
     "metadata": {},
     "output_type": "execute_result"
    }
   ],
   "source": [
    "data_df.shape"
   ]
  },
  {
   "cell_type": "code",
   "execution_count": 8,
   "id": "bcfae2f0-d80b-4887-9af8-bb7170ca7c16",
   "metadata": {},
   "outputs": [
    {
     "name": "stdout",
     "output_type": "stream",
     "text": [
      "Rndrng_NPI\n",
      "Rndrng_Prvdr_Last_Org_Name\n",
      "Rndrng_Prvdr_First_Name\n",
      "Rndrng_Prvdr_MI\n",
      "Rndrng_Prvdr_Crdntls\n",
      "Rndrng_Prvdr_Gndr\n",
      "Rndrng_Prvdr_Ent_Cd\n",
      "Rndrng_Prvdr_St1\n",
      "Rndrng_Prvdr_St2\n",
      "Rndrng_Prvdr_City\n",
      "Rndrng_Prvdr_State_Abrvtn\n",
      "Rndrng_Prvdr_State_FIPS\n",
      "Rndrng_Prvdr_Zip5\n",
      "Rndrng_Prvdr_RUCA\n",
      "Rndrng_Prvdr_RUCA_Desc\n",
      "Rndrng_Prvdr_Cntry\n",
      "Rndrng_Prvdr_Type\n",
      "Rndrng_Prvdr_Mdcr_Prtcptg_Ind\n",
      "Tot_HCPCS_Cds\n",
      "Tot_Benes\n",
      "Tot_Srvcs\n",
      "Tot_Sbmtd_Chrg\n",
      "Tot_Mdcr_Alowd_Amt\n",
      "Tot_Mdcr_Pymt_Amt\n",
      "Tot_Mdcr_Stdzd_Amt\n",
      "Drug_Sprsn_Ind\n",
      "Drug_Tot_HCPCS_Cds\n",
      "Drug_Tot_Benes\n",
      "Drug_Tot_Srvcs\n",
      "Drug_Sbmtd_Chrg\n",
      "Drug_Mdcr_Alowd_Amt\n",
      "Drug_Mdcr_Pymt_Amt\n",
      "Drug_Mdcr_Stdzd_Amt\n",
      "Med_Sprsn_Ind\n",
      "Med_Tot_HCPCS_Cds\n",
      "Med_Tot_Benes\n",
      "Med_Tot_Srvcs\n",
      "Med_Sbmtd_Chrg\n",
      "Med_Mdcr_Alowd_Amt\n",
      "Med_Mdcr_Pymt_Amt\n",
      "Med_Mdcr_Stdzd_Amt\n",
      "Bene_Avg_Age\n",
      "Bene_Age_LT_65_Cnt\n",
      "Bene_Age_65_74_Cnt\n",
      "Bene_Age_75_84_Cnt\n",
      "Bene_Age_GT_84_Cnt\n",
      "Bene_Feml_Cnt\n",
      "Bene_Male_Cnt\n",
      "Bene_Race_Wht_Cnt\n",
      "Bene_Race_Black_Cnt\n",
      "Bene_Race_API_Cnt\n",
      "Bene_Race_Hspnc_Cnt\n",
      "Bene_Race_NatInd_Cnt\n",
      "Bene_Race_Othr_Cnt\n",
      "Bene_Dual_Cnt\n",
      "Bene_Ndual_Cnt\n",
      "Bene_CC_AF_Pct\n",
      "Bene_CC_Alzhmr_Pct\n",
      "Bene_CC_Asthma_Pct\n",
      "Bene_CC_Cncr_Pct\n",
      "Bene_CC_CHF_Pct\n",
      "Bene_CC_CKD_Pct\n",
      "Bene_CC_COPD_Pct\n",
      "Bene_CC_Dprssn_Pct\n",
      "Bene_CC_Dbts_Pct\n",
      "Bene_CC_Hyplpdma_Pct\n",
      "Bene_CC_Hyprtnsn_Pct\n",
      "Bene_CC_IHD_Pct\n",
      "Bene_CC_Opo_Pct\n",
      "Bene_CC_RAOA_Pct\n",
      "Bene_CC_Sz_Pct\n",
      "Bene_CC_Strok_Pct\n",
      "Bene_Avg_Risk_Scre\n",
      "year\n"
     ]
    }
   ],
   "source": [
    "for c in data_df.columns:\n",
    "    print(c)"
   ]
  },
  {
   "cell_type": "markdown",
   "id": "41a060a8-6840-4065-a255-e87a2ecafdd7",
   "metadata": {},
   "source": [
    "## Keep billing-related amounts only \n",
    "\n",
    "Used data dictionary [here](https://data.cms.gov/resources/medicare-physician-other-practitioners-by-provider-data-dictionary). \n",
    "\n",
    "Assume fraud is largely defined by billing practices, but also included some demographic info as available.\n",
    "\n",
    "Kept values for drug/prescribing behavior & medical practices separately. "
   ]
  },
  {
   "cell_type": "code",
   "execution_count": 23,
   "id": "0c021559-3940-4a15-ba46-2dd74fe40132",
   "metadata": {},
   "outputs": [],
   "source": [
    "cols_to_keep = [\"Rndrng_NPI\",\n",
    "                \"Rndrng_Prvdr_Type\",\n",
    "                'Rndrng_Prvdr_Ent_Cd', # for cleaning\n",
    "                \"Rndrng_Prvdr_Mdcr_Prtcptg_Ind\", # for cleaning\n",
    "                \"Rndrng_Prvdr_Gndr\",\n",
    "                \"Rndrng_Prvdr_Cntry\", # for cleaning \n",
    "                \"Drug_Sprsn_Ind\",\n",
    "                \"Drug_Tot_HCPCS_Cds\",\n",
    "                \"Drug_Tot_Benes\",\n",
    "                \"Drug_Tot_Srvcs\",\n",
    "                \"Drug_Sbmtd_Chrg\",\n",
    "                \"Drug_Mdcr_Alowd_Amt\",\n",
    "                \"Drug_Mdcr_Pymt_Amt\",\n",
    "                \"Drug_Mdcr_Stdzd_Amt\", \n",
    "                \"Med_Sprsn_Ind\", \n",
    "                \"Med_Tot_HCPCS_Cds\", \n",
    "                \"Med_Tot_Benes\", \n",
    "                \"Med_Tot_Srvcs\", \n",
    "                \"Med_Sbmtd_Chrg\", \n",
    "                \"Med_Mdcr_Alowd_Amt\", \n",
    "                \"Med_Mdcr_Pymt_Amt\", \n",
    "                \"Med_Mdcr_Stdzd_Amt\"]"
   ]
  },
  {
   "cell_type": "code",
   "execution_count": 24,
   "id": "26016914-e2bc-4d6a-89d8-2493b84598dd",
   "metadata": {},
   "outputs": [],
   "source": [
    "data_df2 = data_df[cols_to_keep]"
   ]
  },
  {
   "cell_type": "code",
   "execution_count": 25,
   "id": "df090330-e6c4-4f98-a536-3aedbaaff3c6",
   "metadata": {},
   "outputs": [
    {
     "data": {
      "text/plain": [
       "(2277332, 22)"
      ]
     },
     "execution_count": 25,
     "metadata": {},
     "output_type": "execute_result"
    }
   ],
   "source": [
    "data_df2.shape"
   ]
  },
  {
   "cell_type": "markdown",
   "id": "bd7bede9-ded3-448e-91ce-293c463618aa",
   "metadata": {},
   "source": [
    "## Remove irrelevant columns"
   ]
  },
  {
   "cell_type": "code",
   "execution_count": 26,
   "id": "d363ca11-cf26-4f58-b23c-68e5addbfab0",
   "metadata": {},
   "outputs": [
    {
     "data": {
      "text/plain": [
       "(2156627, 22)"
      ]
     },
     "execution_count": 26,
     "metadata": {},
     "output_type": "execute_result"
    }
   ],
   "source": [
    "# Keep individuals only, denoted by 'I' \n",
    "data_df2 = data_df2.loc[data_df2['Rndrng_Prvdr_Ent_Cd'] == 'I']\n",
    "data_df2.shape"
   ]
  },
  {
   "cell_type": "code",
   "execution_count": 27,
   "id": "03038cae-7b9a-4b2c-9ce7-a065e4648994",
   "metadata": {},
   "outputs": [
    {
     "data": {
      "text/plain": [
       "(2156287, 22)"
      ]
     },
     "execution_count": 27,
     "metadata": {},
     "output_type": "execute_result"
    }
   ],
   "source": [
    "# US data only\n",
    "data_df2 = data_df2.loc[data_df2['Rndrng_Prvdr_Cntry'] == 'US']\n",
    "data_df2.shape"
   ]
  },
  {
   "cell_type": "code",
   "execution_count": 28,
   "id": "69dd09f1-7588-4037-8548-adc7b956861f",
   "metadata": {},
   "outputs": [
    {
     "data": {
      "text/plain": [
       "(2154394, 22)"
      ]
     },
     "execution_count": 28,
     "metadata": {},
     "output_type": "execute_result"
    }
   ],
   "source": [
    "# Only providers participating in Medicare\n",
    "data_df2 = data_df2.loc[data_df2['Rndrng_Prvdr_Mdcr_Prtcptg_Ind'] == 'Y']\n",
    "data_df2.shape"
   ]
  },
  {
   "cell_type": "code",
   "execution_count": 29,
   "id": "53fd9015-a11d-4ac4-96c2-67ed45e14b32",
   "metadata": {},
   "outputs": [
    {
     "data": {
      "text/plain": [
       "(1915045, 22)"
      ]
     },
     "execution_count": 29,
     "metadata": {},
     "output_type": "execute_result"
    }
   ],
   "source": [
    "# Remove data that was supressed already (Drug-related)\n",
    "data_df2 = data_df2.loc[data_df2['Drug_Sprsn_Ind'].isnull()]\n",
    "data_df2.shape"
   ]
  },
  {
   "cell_type": "code",
   "execution_count": 31,
   "id": "dea75a57-e818-407a-ac06-6d74ee857645",
   "metadata": {},
   "outputs": [
    {
     "data": {
      "text/plain": [
       "(1915045, 22)"
      ]
     },
     "execution_count": 31,
     "metadata": {},
     "output_type": "execute_result"
    }
   ],
   "source": [
    "# Remove data that was supressed already (Medical-related)\n",
    "data_df2 = data_df2.loc[data_df2['Med_Sprsn_Ind'].isnull()]\n",
    "data_df2.shape"
   ]
  },
  {
   "cell_type": "code",
   "execution_count": 33,
   "id": "d60f4cce-dc2d-4570-b7eb-14e89df31ee5",
   "metadata": {},
   "outputs": [],
   "source": [
    "# Remove columns used for cleaning only \n",
    "data_df3 = data_df2.drop(['Rndrng_Prvdr_Ent_Cd',\n",
    "                         'Rndrng_Prvdr_Cntry',\n",
    "                         'Rndrng_Prvdr_Mdcr_Prtcptg_Ind',\n",
    "                         'Drug_Sprsn_Ind',\n",
    "                         'Med_Sprsn_Ind'], axis=1)"
   ]
  },
  {
   "cell_type": "code",
   "execution_count": 34,
   "id": "d27768a0-6c8f-4b51-908c-e7b667736e75",
   "metadata": {},
   "outputs": [
    {
     "data": {
      "text/plain": [
       "(1915045, 17)"
      ]
     },
     "execution_count": 34,
     "metadata": {},
     "output_type": "execute_result"
    }
   ],
   "source": [
    "data_df3.shape"
   ]
  },
  {
   "cell_type": "markdown",
   "id": "4d873f17-9a90-41fa-b0bd-6aa348f5c738",
   "metadata": {},
   "source": [
    "## Fix dtypes"
   ]
  },
  {
   "cell_type": "code",
   "execution_count": 66,
   "id": "76834de1-0547-4ec2-b02c-94c5868f38af",
   "metadata": {},
   "outputs": [],
   "source": [
    "#data_df = data_df.convert_dtypes()"
   ]
  },
  {
   "cell_type": "code",
   "execution_count": 36,
   "id": "9a7af23f-66c7-4382-bb27-275ec7eeaaad",
   "metadata": {},
   "outputs": [],
   "source": [
    "# Turn gender into a binary column \n",
    "data_df3['Rndrng_Prvdr_Gndr'] = data_df3['Rndrng_Prvdr_Gndr'].astype('category').cat.codes"
   ]
  },
  {
   "cell_type": "code",
   "execution_count": 37,
   "id": "8dd8dca2-2d7e-4e3a-b700-96300e17f459",
   "metadata": {},
   "outputs": [],
   "source": [
    "# one hot encode categorical columns\n",
    "data_df3 = pd.get_dummies(data_df3, columns = ['Rndrng_Prvdr_Type'], dtype='int')"
   ]
  },
  {
   "cell_type": "code",
   "execution_count": 39,
   "id": "79e03c12-6e5a-4c97-8839-ba5d248eafda",
   "metadata": {},
   "outputs": [
    {
     "data": {
      "text/plain": [
       "(1915045, 107)"
      ]
     },
     "execution_count": 39,
     "metadata": {},
     "output_type": "execute_result"
    }
   ],
   "source": [
    "data_df3.shape"
   ]
  },
  {
   "cell_type": "code",
   "execution_count": 41,
   "id": "4065225f-18c7-4393-a65d-b1956e2c98ca",
   "metadata": {},
   "outputs": [
    {
     "data": {
      "text/html": [
       "<div>\n",
       "<style scoped>\n",
       "    .dataframe tbody tr th:only-of-type {\n",
       "        vertical-align: middle;\n",
       "    }\n",
       "\n",
       "    .dataframe tbody tr th {\n",
       "        vertical-align: top;\n",
       "    }\n",
       "\n",
       "    .dataframe thead th {\n",
       "        text-align: right;\n",
       "    }\n",
       "</style>\n",
       "<table border=\"1\" class=\"dataframe\">\n",
       "  <thead>\n",
       "    <tr style=\"text-align: right;\">\n",
       "      <th></th>\n",
       "      <th>Rndrng_NPI</th>\n",
       "      <th>Rndrng_Prvdr_Gndr</th>\n",
       "      <th>Drug_Tot_HCPCS_Cds</th>\n",
       "      <th>Drug_Tot_Benes</th>\n",
       "      <th>Drug_Tot_Srvcs</th>\n",
       "      <th>Drug_Sbmtd_Chrg</th>\n",
       "      <th>Drug_Mdcr_Alowd_Amt</th>\n",
       "      <th>Drug_Mdcr_Pymt_Amt</th>\n",
       "      <th>Drug_Mdcr_Stdzd_Amt</th>\n",
       "      <th>Med_Tot_HCPCS_Cds</th>\n",
       "      <th>...</th>\n",
       "      <th>Rndrng_Prvdr_Type_Slide Preparation Facility</th>\n",
       "      <th>Rndrng_Prvdr_Type_Speech Language Pathologist</th>\n",
       "      <th>Rndrng_Prvdr_Type_Sports Medicine</th>\n",
       "      <th>Rndrng_Prvdr_Type_Surgical Oncology</th>\n",
       "      <th>Rndrng_Prvdr_Type_Thoracic Surgery</th>\n",
       "      <th>Rndrng_Prvdr_Type_Undefined Physician type</th>\n",
       "      <th>Rndrng_Prvdr_Type_Undersea and Hyperbaric Medicine</th>\n",
       "      <th>Rndrng_Prvdr_Type_Unknown Supplier/Provider Specialty</th>\n",
       "      <th>Rndrng_Prvdr_Type_Urology</th>\n",
       "      <th>Rndrng_Prvdr_Type_Vascular Surgery</th>\n",
       "    </tr>\n",
       "  </thead>\n",
       "  <tbody>\n",
       "    <tr>\n",
       "      <th>0</th>\n",
       "      <td>1003000126</td>\n",
       "      <td>1</td>\n",
       "      <td>0.0</td>\n",
       "      <td>0.0</td>\n",
       "      <td>0.0</td>\n",
       "      <td>0.00</td>\n",
       "      <td>0.00</td>\n",
       "      <td>0.00</td>\n",
       "      <td>0.00</td>\n",
       "      <td>18.0</td>\n",
       "      <td>...</td>\n",
       "      <td>0</td>\n",
       "      <td>0</td>\n",
       "      <td>0</td>\n",
       "      <td>0</td>\n",
       "      <td>0</td>\n",
       "      <td>0</td>\n",
       "      <td>0</td>\n",
       "      <td>0</td>\n",
       "      <td>0</td>\n",
       "      <td>0</td>\n",
       "    </tr>\n",
       "    <tr>\n",
       "      <th>1</th>\n",
       "      <td>1003000134</td>\n",
       "      <td>1</td>\n",
       "      <td>0.0</td>\n",
       "      <td>0.0</td>\n",
       "      <td>0.0</td>\n",
       "      <td>0.00</td>\n",
       "      <td>0.00</td>\n",
       "      <td>0.00</td>\n",
       "      <td>0.00</td>\n",
       "      <td>20.0</td>\n",
       "      <td>...</td>\n",
       "      <td>0</td>\n",
       "      <td>0</td>\n",
       "      <td>0</td>\n",
       "      <td>0</td>\n",
       "      <td>0</td>\n",
       "      <td>0</td>\n",
       "      <td>0</td>\n",
       "      <td>0</td>\n",
       "      <td>0</td>\n",
       "      <td>0</td>\n",
       "    </tr>\n",
       "    <tr>\n",
       "      <th>4</th>\n",
       "      <td>1003000480</td>\n",
       "      <td>1</td>\n",
       "      <td>0.0</td>\n",
       "      <td>0.0</td>\n",
       "      <td>0.0</td>\n",
       "      <td>0.00</td>\n",
       "      <td>0.00</td>\n",
       "      <td>0.00</td>\n",
       "      <td>0.00</td>\n",
       "      <td>30.0</td>\n",
       "      <td>...</td>\n",
       "      <td>0</td>\n",
       "      <td>0</td>\n",
       "      <td>0</td>\n",
       "      <td>0</td>\n",
       "      <td>0</td>\n",
       "      <td>0</td>\n",
       "      <td>0</td>\n",
       "      <td>0</td>\n",
       "      <td>0</td>\n",
       "      <td>0</td>\n",
       "    </tr>\n",
       "    <tr>\n",
       "      <th>5</th>\n",
       "      <td>1003000522</td>\n",
       "      <td>1</td>\n",
       "      <td>8.0</td>\n",
       "      <td>122.0</td>\n",
       "      <td>140.0</td>\n",
       "      <td>36767.44</td>\n",
       "      <td>12144.39</td>\n",
       "      <td>12121.71</td>\n",
       "      <td>12233.86</td>\n",
       "      <td>38.0</td>\n",
       "      <td>...</td>\n",
       "      <td>0</td>\n",
       "      <td>0</td>\n",
       "      <td>0</td>\n",
       "      <td>0</td>\n",
       "      <td>0</td>\n",
       "      <td>0</td>\n",
       "      <td>0</td>\n",
       "      <td>0</td>\n",
       "      <td>0</td>\n",
       "      <td>0</td>\n",
       "    </tr>\n",
       "    <tr>\n",
       "      <th>6</th>\n",
       "      <td>1003000530</td>\n",
       "      <td>0</td>\n",
       "      <td>7.0</td>\n",
       "      <td>130.0</td>\n",
       "      <td>156.0</td>\n",
       "      <td>16992.00</td>\n",
       "      <td>11814.19</td>\n",
       "      <td>11811.69</td>\n",
       "      <td>11811.82</td>\n",
       "      <td>26.0</td>\n",
       "      <td>...</td>\n",
       "      <td>0</td>\n",
       "      <td>0</td>\n",
       "      <td>0</td>\n",
       "      <td>0</td>\n",
       "      <td>0</td>\n",
       "      <td>0</td>\n",
       "      <td>0</td>\n",
       "      <td>0</td>\n",
       "      <td>0</td>\n",
       "      <td>0</td>\n",
       "    </tr>\n",
       "  </tbody>\n",
       "</table>\n",
       "<p>5 rows × 107 columns</p>\n",
       "</div>"
      ],
      "text/plain": [
       "   Rndrng_NPI  Rndrng_Prvdr_Gndr  Drug_Tot_HCPCS_Cds  Drug_Tot_Benes   \n",
       "0  1003000126                  1                 0.0             0.0  \\\n",
       "1  1003000134                  1                 0.0             0.0   \n",
       "4  1003000480                  1                 0.0             0.0   \n",
       "5  1003000522                  1                 8.0           122.0   \n",
       "6  1003000530                  0                 7.0           130.0   \n",
       "\n",
       "   Drug_Tot_Srvcs  Drug_Sbmtd_Chrg  Drug_Mdcr_Alowd_Amt  Drug_Mdcr_Pymt_Amt   \n",
       "0             0.0             0.00                 0.00                0.00  \\\n",
       "1             0.0             0.00                 0.00                0.00   \n",
       "4             0.0             0.00                 0.00                0.00   \n",
       "5           140.0         36767.44             12144.39            12121.71   \n",
       "6           156.0         16992.00             11814.19            11811.69   \n",
       "\n",
       "   Drug_Mdcr_Stdzd_Amt  Med_Tot_HCPCS_Cds  ...   \n",
       "0                 0.00               18.0  ...  \\\n",
       "1                 0.00               20.0  ...   \n",
       "4                 0.00               30.0  ...   \n",
       "5             12233.86               38.0  ...   \n",
       "6             11811.82               26.0  ...   \n",
       "\n",
       "   Rndrng_Prvdr_Type_Slide Preparation Facility   \n",
       "0                                             0  \\\n",
       "1                                             0   \n",
       "4                                             0   \n",
       "5                                             0   \n",
       "6                                             0   \n",
       "\n",
       "   Rndrng_Prvdr_Type_Speech Language Pathologist   \n",
       "0                                              0  \\\n",
       "1                                              0   \n",
       "4                                              0   \n",
       "5                                              0   \n",
       "6                                              0   \n",
       "\n",
       "   Rndrng_Prvdr_Type_Sports Medicine  Rndrng_Prvdr_Type_Surgical Oncology   \n",
       "0                                  0                                    0  \\\n",
       "1                                  0                                    0   \n",
       "4                                  0                                    0   \n",
       "5                                  0                                    0   \n",
       "6                                  0                                    0   \n",
       "\n",
       "   Rndrng_Prvdr_Type_Thoracic Surgery   \n",
       "0                                   0  \\\n",
       "1                                   0   \n",
       "4                                   0   \n",
       "5                                   0   \n",
       "6                                   0   \n",
       "\n",
       "   Rndrng_Prvdr_Type_Undefined Physician type   \n",
       "0                                           0  \\\n",
       "1                                           0   \n",
       "4                                           0   \n",
       "5                                           0   \n",
       "6                                           0   \n",
       "\n",
       "   Rndrng_Prvdr_Type_Undersea and Hyperbaric Medicine   \n",
       "0                                                  0   \\\n",
       "1                                                  0    \n",
       "4                                                  0    \n",
       "5                                                  0    \n",
       "6                                                  0    \n",
       "\n",
       "   Rndrng_Prvdr_Type_Unknown Supplier/Provider Specialty   \n",
       "0                                                  0      \\\n",
       "1                                                  0       \n",
       "4                                                  0       \n",
       "5                                                  0       \n",
       "6                                                  0       \n",
       "\n",
       "   Rndrng_Prvdr_Type_Urology  Rndrng_Prvdr_Type_Vascular Surgery  \n",
       "0                          0                                   0  \n",
       "1                          0                                   0  \n",
       "4                          0                                   0  \n",
       "5                          0                                   0  \n",
       "6                          0                                   0  \n",
       "\n",
       "[5 rows x 107 columns]"
      ]
     },
     "execution_count": 41,
     "metadata": {},
     "output_type": "execute_result"
    }
   ],
   "source": [
    "data_df3.head()"
   ]
  },
  {
   "cell_type": "code",
   "execution_count": 42,
   "id": "70d158dc-4c32-448c-aa49-9911938d3990",
   "metadata": {},
   "outputs": [],
   "source": [
    "data_df4 = data_df3.dropna()"
   ]
  },
  {
   "cell_type": "code",
   "execution_count": 43,
   "id": "bcce41cf-4763-4782-b053-bfea9f7299c8",
   "metadata": {},
   "outputs": [
    {
     "data": {
      "text/plain": [
       "(1915045, 107)"
      ]
     },
     "execution_count": 43,
     "metadata": {},
     "output_type": "execute_result"
    }
   ],
   "source": [
    "data_df4.shape"
   ]
  },
  {
   "cell_type": "markdown",
   "id": "2fd924f8-a0ff-4266-9603-45aa2c7d4797",
   "metadata": {},
   "source": [
    "## Add labels \n",
    "\n",
    "The LEIE database was downloaded from [here](https://oig.hhs.gov/exclusions/exclusions_list.asp) (5/10/2023 update). This is updated montly and indicates providers who are excluded from federally funded HC programs for various reasons. In line with prior work, use indicators most likely to be associated with Medicare fraud [source](https://journalofbigdata.springeropen.com/articles/10.1186/s40537-018-0138-3)."
   ]
  },
  {
   "cell_type": "code",
   "execution_count": 44,
   "id": "d1fe3bc5-aa1d-4536-91f5-c34dd8af9c39",
   "metadata": {},
   "outputs": [],
   "source": [
    "df_leie = pd.read_csv('../../data/raw/leie_5_10_2023.csv', low_memory=False)"
   ]
  },
  {
   "cell_type": "code",
   "execution_count": 45,
   "id": "881dff7d-75ad-4dc1-9b06-f8c2ced2ba8e",
   "metadata": {},
   "outputs": [],
   "source": [
    "# Drop irrelevant columns \n",
    "df_leie = df_leie.loc[:,['NPI','EXCLTYPE','EXCLDATE', 'WAIVERDATE']]\n",
    "\n",
    "#drop NPI = 0\n",
    "df_leie = df_leie[df_leie[\"NPI\"]>0]"
   ]
  },
  {
   "cell_type": "code",
   "execution_count": 46,
   "id": "981244e0-e3b6-44f6-8732-c196fe840a88",
   "metadata": {},
   "outputs": [],
   "source": [
    "# Remove whitespace and then only keep relevant exclusion codes \n",
    "df_leie['EXCLTYPE'] = df_leie['EXCLTYPE'].str.strip()\n",
    "df_leie = df_leie[df_leie['EXCLTYPE'].isin(['1128a1','1128a2','1128a3','1128b4','1128b7'])]"
   ]
  },
  {
   "cell_type": "code",
   "execution_count": 47,
   "id": "53bda426-d888-4807-ad9c-c5358f01ce2e",
   "metadata": {},
   "outputs": [
    {
     "data": {
      "text/plain": [
       "(5461, 4)"
      ]
     },
     "execution_count": 47,
     "metadata": {},
     "output_type": "execute_result"
    }
   ],
   "source": [
    "df_leie.shape"
   ]
  },
  {
   "cell_type": "code",
   "execution_count": 48,
   "id": "0af238cd-1a29-410c-8564-3e0898e4a793",
   "metadata": {},
   "outputs": [],
   "source": [
    "df_leie['exclusion_year'] = [x[0:4] for x in df_leie['EXCLDATE'].astype(str)]\n",
    "df_leie['exclusion_year'] = df_leie['exclusion_year'].astype(int)"
   ]
  },
  {
   "cell_type": "code",
   "execution_count": 49,
   "id": "363255af-0a77-4d38-942c-c9ae298765d9",
   "metadata": {},
   "outputs": [
    {
     "data": {
      "text/html": [
       "<div>\n",
       "<style scoped>\n",
       "    .dataframe tbody tr th:only-of-type {\n",
       "        vertical-align: middle;\n",
       "    }\n",
       "\n",
       "    .dataframe tbody tr th {\n",
       "        vertical-align: top;\n",
       "    }\n",
       "\n",
       "    .dataframe thead th {\n",
       "        text-align: right;\n",
       "    }\n",
       "</style>\n",
       "<table border=\"1\" class=\"dataframe\">\n",
       "  <thead>\n",
       "    <tr style=\"text-align: right;\">\n",
       "      <th></th>\n",
       "      <th>NPI</th>\n",
       "      <th>EXCLTYPE</th>\n",
       "      <th>EXCLDATE</th>\n",
       "      <th>WAIVERDATE</th>\n",
       "      <th>exclusion_year</th>\n",
       "    </tr>\n",
       "  </thead>\n",
       "  <tbody>\n",
       "    <tr>\n",
       "      <th>6</th>\n",
       "      <td>1922348218</td>\n",
       "      <td>1128a1</td>\n",
       "      <td>20180419</td>\n",
       "      <td>0</td>\n",
       "      <td>2018</td>\n",
       "    </tr>\n",
       "    <tr>\n",
       "      <th>30</th>\n",
       "      <td>1275600959</td>\n",
       "      <td>1128a1</td>\n",
       "      <td>20130320</td>\n",
       "      <td>0</td>\n",
       "      <td>2013</td>\n",
       "    </tr>\n",
       "    <tr>\n",
       "      <th>43</th>\n",
       "      <td>1265830335</td>\n",
       "      <td>1128a1</td>\n",
       "      <td>20220818</td>\n",
       "      <td>0</td>\n",
       "      <td>2022</td>\n",
       "    </tr>\n",
       "    <tr>\n",
       "      <th>63</th>\n",
       "      <td>1851631543</td>\n",
       "      <td>1128b7</td>\n",
       "      <td>20190326</td>\n",
       "      <td>0</td>\n",
       "      <td>2019</td>\n",
       "    </tr>\n",
       "    <tr>\n",
       "      <th>64</th>\n",
       "      <td>1902198435</td>\n",
       "      <td>1128a1</td>\n",
       "      <td>20160120</td>\n",
       "      <td>0</td>\n",
       "      <td>2016</td>\n",
       "    </tr>\n",
       "  </tbody>\n",
       "</table>\n",
       "</div>"
      ],
      "text/plain": [
       "           NPI EXCLTYPE  EXCLDATE  WAIVERDATE  exclusion_year\n",
       "6   1922348218   1128a1  20180419           0            2018\n",
       "30  1275600959   1128a1  20130320           0            2013\n",
       "43  1265830335   1128a1  20220818           0            2022\n",
       "63  1851631543   1128b7  20190326           0            2019\n",
       "64  1902198435   1128a1  20160120           0            2016"
      ]
     },
     "execution_count": 49,
     "metadata": {},
     "output_type": "execute_result"
    }
   ],
   "source": [
    "df_leie.head()"
   ]
  },
  {
   "cell_type": "code",
   "execution_count": 50,
   "id": "0b3ec791-7e92-4379-a24a-ecf982ded4f0",
   "metadata": {},
   "outputs": [
    {
     "data": {
      "text/plain": [
       "5389"
      ]
     },
     "execution_count": 50,
     "metadata": {},
     "output_type": "execute_result"
    }
   ],
   "source": [
    "len(df_leie['NPI'].unique())"
   ]
  },
  {
   "cell_type": "code",
   "execution_count": 51,
   "id": "cf9e25e3-5e6d-48dc-9209-ab6fad3dc1a7",
   "metadata": {},
   "outputs": [
    {
     "data": {
      "text/plain": [
       "1468"
      ]
     },
     "execution_count": 51,
     "metadata": {},
     "output_type": "execute_result"
    }
   ],
   "source": [
    "len(df_leie['NPI'][df_leie['exclusion_year'] >= 2020].unique())"
   ]
  },
  {
   "cell_type": "code",
   "execution_count": 52,
   "id": "903226b5-f4a1-4366-8224-d431b529160e",
   "metadata": {},
   "outputs": [],
   "source": [
    "df_leie_after_2019 = df_leie.loc[df_leie['exclusion_year'] >= 2020]"
   ]
  },
  {
   "cell_type": "code",
   "execution_count": 53,
   "id": "abf1e035-780f-434a-a0fb-583d3bf93cfb",
   "metadata": {},
   "outputs": [
    {
     "data": {
      "text/plain": [
       "1468"
      ]
     },
     "execution_count": 53,
     "metadata": {},
     "output_type": "execute_result"
    }
   ],
   "source": [
    "len(df_leie_after_2019['NPI'].unique())"
   ]
  },
  {
   "cell_type": "code",
   "execution_count": 54,
   "id": "2f55c120-f59f-4b08-ab1d-e1ef2eebb927",
   "metadata": {},
   "outputs": [
    {
     "name": "stderr",
     "output_type": "stream",
     "text": [
      "/var/folders/6m/dcb0chc94pl7hxnxbqp281jc0000gn/T/ipykernel_90325/2206586674.py:1: SettingWithCopyWarning: \n",
      "A value is trying to be set on a copy of a slice from a DataFrame.\n",
      "Try using .loc[row_indexer,col_indexer] = value instead\n",
      "\n",
      "See the caveats in the documentation: https://pandas.pydata.org/pandas-docs/stable/user_guide/indexing.html#returning-a-view-versus-a-copy\n",
      "  df_leie_after_2019['excluded'] = [1] * df_leie_after_2019.shape[0]\n"
     ]
    }
   ],
   "source": [
    "df_leie_after_2019['excluded'] = [1] * df_leie_after_2019.shape[0]"
   ]
  },
  {
   "cell_type": "code",
   "execution_count": 56,
   "id": "a6ae7a0d-92f5-4d31-9080-786d01c6340f",
   "metadata": {},
   "outputs": [
    {
     "data": {
      "text/html": [
       "<div>\n",
       "<style scoped>\n",
       "    .dataframe tbody tr th:only-of-type {\n",
       "        vertical-align: middle;\n",
       "    }\n",
       "\n",
       "    .dataframe tbody tr th {\n",
       "        vertical-align: top;\n",
       "    }\n",
       "\n",
       "    .dataframe thead th {\n",
       "        text-align: right;\n",
       "    }\n",
       "</style>\n",
       "<table border=\"1\" class=\"dataframe\">\n",
       "  <thead>\n",
       "    <tr style=\"text-align: right;\">\n",
       "      <th></th>\n",
       "      <th>NPI</th>\n",
       "      <th>EXCLTYPE</th>\n",
       "      <th>EXCLDATE</th>\n",
       "      <th>WAIVERDATE</th>\n",
       "      <th>exclusion_year</th>\n",
       "      <th>excluded</th>\n",
       "    </tr>\n",
       "  </thead>\n",
       "  <tbody>\n",
       "    <tr>\n",
       "      <th>43</th>\n",
       "      <td>1265830335</td>\n",
       "      <td>1128a1</td>\n",
       "      <td>20220818</td>\n",
       "      <td>0</td>\n",
       "      <td>2022</td>\n",
       "      <td>1</td>\n",
       "    </tr>\n",
       "    <tr>\n",
       "      <th>65</th>\n",
       "      <td>1073916631</td>\n",
       "      <td>1128b7</td>\n",
       "      <td>20210816</td>\n",
       "      <td>0</td>\n",
       "      <td>2021</td>\n",
       "      <td>1</td>\n",
       "    </tr>\n",
       "    <tr>\n",
       "      <th>80</th>\n",
       "      <td>1437510278</td>\n",
       "      <td>1128a1</td>\n",
       "      <td>20230420</td>\n",
       "      <td>0</td>\n",
       "      <td>2023</td>\n",
       "      <td>1</td>\n",
       "    </tr>\n",
       "    <tr>\n",
       "      <th>119</th>\n",
       "      <td>1801231436</td>\n",
       "      <td>1128a1</td>\n",
       "      <td>20211029</td>\n",
       "      <td>0</td>\n",
       "      <td>2021</td>\n",
       "      <td>1</td>\n",
       "    </tr>\n",
       "    <tr>\n",
       "      <th>139</th>\n",
       "      <td>1750442018</td>\n",
       "      <td>1128a1</td>\n",
       "      <td>20201020</td>\n",
       "      <td>0</td>\n",
       "      <td>2020</td>\n",
       "      <td>1</td>\n",
       "    </tr>\n",
       "  </tbody>\n",
       "</table>\n",
       "</div>"
      ],
      "text/plain": [
       "            NPI EXCLTYPE  EXCLDATE  WAIVERDATE  exclusion_year  excluded\n",
       "43   1265830335   1128a1  20220818           0            2022         1\n",
       "65   1073916631   1128b7  20210816           0            2021         1\n",
       "80   1437510278   1128a1  20230420           0            2023         1\n",
       "119  1801231436   1128a1  20211029           0            2021         1\n",
       "139  1750442018   1128a1  20201020           0            2020         1"
      ]
     },
     "execution_count": 56,
     "metadata": {},
     "output_type": "execute_result"
    }
   ],
   "source": [
    "df_leie_after_2019.head()"
   ]
  },
  {
   "cell_type": "markdown",
   "id": "8b7b18e7-b2e2-46ce-8e61-4f5fd7c0f916",
   "metadata": {},
   "source": [
    "## Group values by provider \n",
    "\n",
    "Since we're trying to flag providers who are fraudulent, we assume they will be fraudulent on average across previouus years. "
   ]
  },
  {
   "cell_type": "code",
   "execution_count": 61,
   "id": "37d989f3-aa69-43e7-8301-695ca644d551",
   "metadata": {},
   "outputs": [],
   "source": [
    "data_df_grouped = data_df4.groupby(\"Rndrng_NPI\").mean()"
   ]
  },
  {
   "cell_type": "code",
   "execution_count": 62,
   "id": "969e4cfe-92ed-4554-916d-556163873c6f",
   "metadata": {},
   "outputs": [],
   "source": [
    "data_df_grouped = data_df_grouped.reset_index()"
   ]
  },
  {
   "cell_type": "code",
   "execution_count": 63,
   "id": "949ef957-6b7d-4115-b528-281009c16bea",
   "metadata": {},
   "outputs": [
    {
     "data": {
      "text/html": [
       "<div>\n",
       "<style scoped>\n",
       "    .dataframe tbody tr th:only-of-type {\n",
       "        vertical-align: middle;\n",
       "    }\n",
       "\n",
       "    .dataframe tbody tr th {\n",
       "        vertical-align: top;\n",
       "    }\n",
       "\n",
       "    .dataframe thead th {\n",
       "        text-align: right;\n",
       "    }\n",
       "</style>\n",
       "<table border=\"1\" class=\"dataframe\">\n",
       "  <thead>\n",
       "    <tr style=\"text-align: right;\">\n",
       "      <th></th>\n",
       "      <th>Rndrng_NPI</th>\n",
       "      <th>Rndrng_Prvdr_Gndr</th>\n",
       "      <th>Drug_Tot_HCPCS_Cds</th>\n",
       "      <th>Drug_Tot_Benes</th>\n",
       "      <th>Drug_Tot_Srvcs</th>\n",
       "      <th>Drug_Sbmtd_Chrg</th>\n",
       "      <th>Drug_Mdcr_Alowd_Amt</th>\n",
       "      <th>Drug_Mdcr_Pymt_Amt</th>\n",
       "      <th>Drug_Mdcr_Stdzd_Amt</th>\n",
       "      <th>Med_Tot_HCPCS_Cds</th>\n",
       "      <th>...</th>\n",
       "      <th>Rndrng_Prvdr_Type_Slide Preparation Facility</th>\n",
       "      <th>Rndrng_Prvdr_Type_Speech Language Pathologist</th>\n",
       "      <th>Rndrng_Prvdr_Type_Sports Medicine</th>\n",
       "      <th>Rndrng_Prvdr_Type_Surgical Oncology</th>\n",
       "      <th>Rndrng_Prvdr_Type_Thoracic Surgery</th>\n",
       "      <th>Rndrng_Prvdr_Type_Undefined Physician type</th>\n",
       "      <th>Rndrng_Prvdr_Type_Undersea and Hyperbaric Medicine</th>\n",
       "      <th>Rndrng_Prvdr_Type_Unknown Supplier/Provider Specialty</th>\n",
       "      <th>Rndrng_Prvdr_Type_Urology</th>\n",
       "      <th>Rndrng_Prvdr_Type_Vascular Surgery</th>\n",
       "    </tr>\n",
       "  </thead>\n",
       "  <tbody>\n",
       "    <tr>\n",
       "      <th>0</th>\n",
       "      <td>1003000126</td>\n",
       "      <td>1.0</td>\n",
       "      <td>0.0</td>\n",
       "      <td>0.0</td>\n",
       "      <td>0.0</td>\n",
       "      <td>0.000</td>\n",
       "      <td>0.000</td>\n",
       "      <td>0.0</td>\n",
       "      <td>0.00</td>\n",
       "      <td>18.5</td>\n",
       "      <td>...</td>\n",
       "      <td>0.0</td>\n",
       "      <td>0.0</td>\n",
       "      <td>0.0</td>\n",
       "      <td>0.0</td>\n",
       "      <td>0.0</td>\n",
       "      <td>0.0</td>\n",
       "      <td>0.0</td>\n",
       "      <td>0.0</td>\n",
       "      <td>0.0</td>\n",
       "      <td>0.0</td>\n",
       "    </tr>\n",
       "    <tr>\n",
       "      <th>1</th>\n",
       "      <td>1003000134</td>\n",
       "      <td>1.0</td>\n",
       "      <td>0.0</td>\n",
       "      <td>0.0</td>\n",
       "      <td>0.0</td>\n",
       "      <td>0.000</td>\n",
       "      <td>0.000</td>\n",
       "      <td>0.0</td>\n",
       "      <td>0.00</td>\n",
       "      <td>20.5</td>\n",
       "      <td>...</td>\n",
       "      <td>0.0</td>\n",
       "      <td>0.0</td>\n",
       "      <td>0.0</td>\n",
       "      <td>0.0</td>\n",
       "      <td>0.0</td>\n",
       "      <td>0.0</td>\n",
       "      <td>0.0</td>\n",
       "      <td>0.0</td>\n",
       "      <td>0.0</td>\n",
       "      <td>0.0</td>\n",
       "    </tr>\n",
       "    <tr>\n",
       "      <th>2</th>\n",
       "      <td>1003000407</td>\n",
       "      <td>1.0</td>\n",
       "      <td>0.0</td>\n",
       "      <td>0.0</td>\n",
       "      <td>0.0</td>\n",
       "      <td>0.000</td>\n",
       "      <td>0.000</td>\n",
       "      <td>0.0</td>\n",
       "      <td>0.00</td>\n",
       "      <td>23.0</td>\n",
       "      <td>...</td>\n",
       "      <td>0.0</td>\n",
       "      <td>0.0</td>\n",
       "      <td>0.0</td>\n",
       "      <td>0.0</td>\n",
       "      <td>0.0</td>\n",
       "      <td>0.0</td>\n",
       "      <td>0.0</td>\n",
       "      <td>0.0</td>\n",
       "      <td>0.0</td>\n",
       "      <td>0.0</td>\n",
       "    </tr>\n",
       "    <tr>\n",
       "      <th>3</th>\n",
       "      <td>1003000480</td>\n",
       "      <td>1.0</td>\n",
       "      <td>0.0</td>\n",
       "      <td>0.0</td>\n",
       "      <td>0.0</td>\n",
       "      <td>0.000</td>\n",
       "      <td>0.000</td>\n",
       "      <td>0.0</td>\n",
       "      <td>0.00</td>\n",
       "      <td>30.5</td>\n",
       "      <td>...</td>\n",
       "      <td>0.0</td>\n",
       "      <td>0.0</td>\n",
       "      <td>0.0</td>\n",
       "      <td>0.0</td>\n",
       "      <td>0.0</td>\n",
       "      <td>0.0</td>\n",
       "      <td>0.0</td>\n",
       "      <td>0.0</td>\n",
       "      <td>0.0</td>\n",
       "      <td>0.0</td>\n",
       "    </tr>\n",
       "    <tr>\n",
       "      <th>4</th>\n",
       "      <td>1003000522</td>\n",
       "      <td>1.0</td>\n",
       "      <td>9.0</td>\n",
       "      <td>144.5</td>\n",
       "      <td>167.5</td>\n",
       "      <td>38892.565</td>\n",
       "      <td>13229.245</td>\n",
       "      <td>13197.3</td>\n",
       "      <td>13262.99</td>\n",
       "      <td>40.0</td>\n",
       "      <td>...</td>\n",
       "      <td>0.0</td>\n",
       "      <td>0.0</td>\n",
       "      <td>0.0</td>\n",
       "      <td>0.0</td>\n",
       "      <td>0.0</td>\n",
       "      <td>0.0</td>\n",
       "      <td>0.0</td>\n",
       "      <td>0.0</td>\n",
       "      <td>0.0</td>\n",
       "      <td>0.0</td>\n",
       "    </tr>\n",
       "  </tbody>\n",
       "</table>\n",
       "<p>5 rows × 107 columns</p>\n",
       "</div>"
      ],
      "text/plain": [
       "   Rndrng_NPI  Rndrng_Prvdr_Gndr  Drug_Tot_HCPCS_Cds  Drug_Tot_Benes   \n",
       "0  1003000126                1.0                 0.0             0.0  \\\n",
       "1  1003000134                1.0                 0.0             0.0   \n",
       "2  1003000407                1.0                 0.0             0.0   \n",
       "3  1003000480                1.0                 0.0             0.0   \n",
       "4  1003000522                1.0                 9.0           144.5   \n",
       "\n",
       "   Drug_Tot_Srvcs  Drug_Sbmtd_Chrg  Drug_Mdcr_Alowd_Amt  Drug_Mdcr_Pymt_Amt   \n",
       "0             0.0            0.000                0.000                 0.0  \\\n",
       "1             0.0            0.000                0.000                 0.0   \n",
       "2             0.0            0.000                0.000                 0.0   \n",
       "3             0.0            0.000                0.000                 0.0   \n",
       "4           167.5        38892.565            13229.245             13197.3   \n",
       "\n",
       "   Drug_Mdcr_Stdzd_Amt  Med_Tot_HCPCS_Cds  ...   \n",
       "0                 0.00               18.5  ...  \\\n",
       "1                 0.00               20.5  ...   \n",
       "2                 0.00               23.0  ...   \n",
       "3                 0.00               30.5  ...   \n",
       "4             13262.99               40.0  ...   \n",
       "\n",
       "   Rndrng_Prvdr_Type_Slide Preparation Facility   \n",
       "0                                           0.0  \\\n",
       "1                                           0.0   \n",
       "2                                           0.0   \n",
       "3                                           0.0   \n",
       "4                                           0.0   \n",
       "\n",
       "   Rndrng_Prvdr_Type_Speech Language Pathologist   \n",
       "0                                            0.0  \\\n",
       "1                                            0.0   \n",
       "2                                            0.0   \n",
       "3                                            0.0   \n",
       "4                                            0.0   \n",
       "\n",
       "   Rndrng_Prvdr_Type_Sports Medicine  Rndrng_Prvdr_Type_Surgical Oncology   \n",
       "0                                0.0                                  0.0  \\\n",
       "1                                0.0                                  0.0   \n",
       "2                                0.0                                  0.0   \n",
       "3                                0.0                                  0.0   \n",
       "4                                0.0                                  0.0   \n",
       "\n",
       "   Rndrng_Prvdr_Type_Thoracic Surgery   \n",
       "0                                 0.0  \\\n",
       "1                                 0.0   \n",
       "2                                 0.0   \n",
       "3                                 0.0   \n",
       "4                                 0.0   \n",
       "\n",
       "   Rndrng_Prvdr_Type_Undefined Physician type   \n",
       "0                                         0.0  \\\n",
       "1                                         0.0   \n",
       "2                                         0.0   \n",
       "3                                         0.0   \n",
       "4                                         0.0   \n",
       "\n",
       "   Rndrng_Prvdr_Type_Undersea and Hyperbaric Medicine   \n",
       "0                                                0.0   \\\n",
       "1                                                0.0    \n",
       "2                                                0.0    \n",
       "3                                                0.0    \n",
       "4                                                0.0    \n",
       "\n",
       "   Rndrng_Prvdr_Type_Unknown Supplier/Provider Specialty   \n",
       "0                                                0.0      \\\n",
       "1                                                0.0       \n",
       "2                                                0.0       \n",
       "3                                                0.0       \n",
       "4                                                0.0       \n",
       "\n",
       "   Rndrng_Prvdr_Type_Urology  Rndrng_Prvdr_Type_Vascular Surgery  \n",
       "0                        0.0                                 0.0  \n",
       "1                        0.0                                 0.0  \n",
       "2                        0.0                                 0.0  \n",
       "3                        0.0                                 0.0  \n",
       "4                        0.0                                 0.0  \n",
       "\n",
       "[5 rows x 107 columns]"
      ]
     },
     "execution_count": 63,
     "metadata": {},
     "output_type": "execute_result"
    }
   ],
   "source": [
    "data_df_grouped.head()"
   ]
  },
  {
   "cell_type": "code",
   "execution_count": 64,
   "id": "f2e28e6f-68ca-4d86-bfdc-c977ba20d15a",
   "metadata": {},
   "outputs": [
    {
     "data": {
      "text/plain": [
       "(1079490, 107)"
      ]
     },
     "execution_count": 64,
     "metadata": {},
     "output_type": "execute_result"
    }
   ],
   "source": [
    "data_df_grouped.shape"
   ]
  },
  {
   "cell_type": "markdown",
   "id": "4d32d747-b0b4-440d-ad50-bb347fa038e9",
   "metadata": {},
   "source": [
    "## Combine"
   ]
  },
  {
   "cell_type": "code",
   "execution_count": 65,
   "id": "ef1944cf-e758-4b77-a0f7-d13a916d3475",
   "metadata": {},
   "outputs": [],
   "source": [
    "combined_df = pd.merge(data_df_grouped, \n",
    "                       df_leie_after_2019.loc[:,['NPI', 'excluded']], \n",
    "                       left_on='Rndrng_NPI', \n",
    "                       right_on='NPI', \n",
    "                       how='left')\n",
    "combined_df = combined_df.drop(['NPI'], axis=1)"
   ]
  },
  {
   "cell_type": "code",
   "execution_count": 66,
   "id": "b9e7c6fb-6edf-4a0c-a332-7af5d8d3022b",
   "metadata": {},
   "outputs": [
    {
     "data": {
      "text/plain": [
       "(1079491, 108)"
      ]
     },
     "execution_count": 66,
     "metadata": {},
     "output_type": "execute_result"
    }
   ],
   "source": [
    "combined_df.shape"
   ]
  },
  {
   "cell_type": "code",
   "execution_count": 67,
   "id": "68981047-457a-4c63-b5d3-a71e85b6cc97",
   "metadata": {},
   "outputs": [
    {
     "data": {
      "text/plain": [
       "0.0003047735504729085"
      ]
     },
     "execution_count": 67,
     "metadata": {},
     "output_type": "execute_result"
    }
   ],
   "source": [
    "# Proportion of positive cases\n",
    "num_fraudulent_providers = len(combined_df['Rndrng_NPI'][combined_df['excluded'] == 1].unique())\n",
    "num_fraudulent_providers/len(combined_df['Rndrng_NPI'].unique())"
   ]
  },
  {
   "cell_type": "code",
   "execution_count": 68,
   "id": "e6130bba-a5bf-4b3d-9fac-c2996860f5e2",
   "metadata": {},
   "outputs": [
    {
     "data": {
      "text/plain": [
       "329"
      ]
     },
     "execution_count": 68,
     "metadata": {},
     "output_type": "execute_result"
    }
   ],
   "source": [
    "num_fraudulent_providers"
   ]
  },
  {
   "cell_type": "code",
   "execution_count": 69,
   "id": "4041e2ee-d970-40a3-ad70-be88f27e3743",
   "metadata": {},
   "outputs": [
    {
     "data": {
      "text/plain": [
       "1079490"
      ]
     },
     "execution_count": 69,
     "metadata": {},
     "output_type": "execute_result"
    }
   ],
   "source": [
    "num_providers = len(combined_df['Rndrng_NPI'].unique())\n",
    "num_providers"
   ]
  },
  {
   "cell_type": "code",
   "execution_count": 70,
   "id": "f31a704d-c2bb-4099-8df4-2bb14eb378d0",
   "metadata": {},
   "outputs": [
    {
     "data": {
      "text/html": [
       "<div>\n",
       "<style scoped>\n",
       "    .dataframe tbody tr th:only-of-type {\n",
       "        vertical-align: middle;\n",
       "    }\n",
       "\n",
       "    .dataframe tbody tr th {\n",
       "        vertical-align: top;\n",
       "    }\n",
       "\n",
       "    .dataframe thead th {\n",
       "        text-align: right;\n",
       "    }\n",
       "</style>\n",
       "<table border=\"1\" class=\"dataframe\">\n",
       "  <thead>\n",
       "    <tr style=\"text-align: right;\">\n",
       "      <th></th>\n",
       "      <th>Rndrng_NPI</th>\n",
       "      <th>Rndrng_Prvdr_Gndr</th>\n",
       "      <th>Drug_Tot_HCPCS_Cds</th>\n",
       "      <th>Drug_Tot_Benes</th>\n",
       "      <th>Drug_Tot_Srvcs</th>\n",
       "      <th>Drug_Sbmtd_Chrg</th>\n",
       "      <th>Drug_Mdcr_Alowd_Amt</th>\n",
       "      <th>Drug_Mdcr_Pymt_Amt</th>\n",
       "      <th>Drug_Mdcr_Stdzd_Amt</th>\n",
       "      <th>Med_Tot_HCPCS_Cds</th>\n",
       "      <th>...</th>\n",
       "      <th>Rndrng_Prvdr_Type_Speech Language Pathologist</th>\n",
       "      <th>Rndrng_Prvdr_Type_Sports Medicine</th>\n",
       "      <th>Rndrng_Prvdr_Type_Surgical Oncology</th>\n",
       "      <th>Rndrng_Prvdr_Type_Thoracic Surgery</th>\n",
       "      <th>Rndrng_Prvdr_Type_Undefined Physician type</th>\n",
       "      <th>Rndrng_Prvdr_Type_Undersea and Hyperbaric Medicine</th>\n",
       "      <th>Rndrng_Prvdr_Type_Unknown Supplier/Provider Specialty</th>\n",
       "      <th>Rndrng_Prvdr_Type_Urology</th>\n",
       "      <th>Rndrng_Prvdr_Type_Vascular Surgery</th>\n",
       "      <th>excluded</th>\n",
       "    </tr>\n",
       "  </thead>\n",
       "  <tbody>\n",
       "    <tr>\n",
       "      <th>0</th>\n",
       "      <td>1003000126</td>\n",
       "      <td>1.0</td>\n",
       "      <td>0.0</td>\n",
       "      <td>0.0</td>\n",
       "      <td>0.0</td>\n",
       "      <td>0.000</td>\n",
       "      <td>0.000</td>\n",
       "      <td>0.0</td>\n",
       "      <td>0.00</td>\n",
       "      <td>18.5</td>\n",
       "      <td>...</td>\n",
       "      <td>0.0</td>\n",
       "      <td>0.0</td>\n",
       "      <td>0.0</td>\n",
       "      <td>0.0</td>\n",
       "      <td>0.0</td>\n",
       "      <td>0.0</td>\n",
       "      <td>0.0</td>\n",
       "      <td>0.0</td>\n",
       "      <td>0.0</td>\n",
       "      <td>NaN</td>\n",
       "    </tr>\n",
       "    <tr>\n",
       "      <th>1</th>\n",
       "      <td>1003000134</td>\n",
       "      <td>1.0</td>\n",
       "      <td>0.0</td>\n",
       "      <td>0.0</td>\n",
       "      <td>0.0</td>\n",
       "      <td>0.000</td>\n",
       "      <td>0.000</td>\n",
       "      <td>0.0</td>\n",
       "      <td>0.00</td>\n",
       "      <td>20.5</td>\n",
       "      <td>...</td>\n",
       "      <td>0.0</td>\n",
       "      <td>0.0</td>\n",
       "      <td>0.0</td>\n",
       "      <td>0.0</td>\n",
       "      <td>0.0</td>\n",
       "      <td>0.0</td>\n",
       "      <td>0.0</td>\n",
       "      <td>0.0</td>\n",
       "      <td>0.0</td>\n",
       "      <td>NaN</td>\n",
       "    </tr>\n",
       "    <tr>\n",
       "      <th>2</th>\n",
       "      <td>1003000407</td>\n",
       "      <td>1.0</td>\n",
       "      <td>0.0</td>\n",
       "      <td>0.0</td>\n",
       "      <td>0.0</td>\n",
       "      <td>0.000</td>\n",
       "      <td>0.000</td>\n",
       "      <td>0.0</td>\n",
       "      <td>0.00</td>\n",
       "      <td>23.0</td>\n",
       "      <td>...</td>\n",
       "      <td>0.0</td>\n",
       "      <td>0.0</td>\n",
       "      <td>0.0</td>\n",
       "      <td>0.0</td>\n",
       "      <td>0.0</td>\n",
       "      <td>0.0</td>\n",
       "      <td>0.0</td>\n",
       "      <td>0.0</td>\n",
       "      <td>0.0</td>\n",
       "      <td>1.0</td>\n",
       "    </tr>\n",
       "    <tr>\n",
       "      <th>3</th>\n",
       "      <td>1003000480</td>\n",
       "      <td>1.0</td>\n",
       "      <td>0.0</td>\n",
       "      <td>0.0</td>\n",
       "      <td>0.0</td>\n",
       "      <td>0.000</td>\n",
       "      <td>0.000</td>\n",
       "      <td>0.0</td>\n",
       "      <td>0.00</td>\n",
       "      <td>30.5</td>\n",
       "      <td>...</td>\n",
       "      <td>0.0</td>\n",
       "      <td>0.0</td>\n",
       "      <td>0.0</td>\n",
       "      <td>0.0</td>\n",
       "      <td>0.0</td>\n",
       "      <td>0.0</td>\n",
       "      <td>0.0</td>\n",
       "      <td>0.0</td>\n",
       "      <td>0.0</td>\n",
       "      <td>NaN</td>\n",
       "    </tr>\n",
       "    <tr>\n",
       "      <th>4</th>\n",
       "      <td>1003000522</td>\n",
       "      <td>1.0</td>\n",
       "      <td>9.0</td>\n",
       "      <td>144.5</td>\n",
       "      <td>167.5</td>\n",
       "      <td>38892.565</td>\n",
       "      <td>13229.245</td>\n",
       "      <td>13197.3</td>\n",
       "      <td>13262.99</td>\n",
       "      <td>40.0</td>\n",
       "      <td>...</td>\n",
       "      <td>0.0</td>\n",
       "      <td>0.0</td>\n",
       "      <td>0.0</td>\n",
       "      <td>0.0</td>\n",
       "      <td>0.0</td>\n",
       "      <td>0.0</td>\n",
       "      <td>0.0</td>\n",
       "      <td>0.0</td>\n",
       "      <td>0.0</td>\n",
       "      <td>NaN</td>\n",
       "    </tr>\n",
       "  </tbody>\n",
       "</table>\n",
       "<p>5 rows × 108 columns</p>\n",
       "</div>"
      ],
      "text/plain": [
       "   Rndrng_NPI  Rndrng_Prvdr_Gndr  Drug_Tot_HCPCS_Cds  Drug_Tot_Benes   \n",
       "0  1003000126                1.0                 0.0             0.0  \\\n",
       "1  1003000134                1.0                 0.0             0.0   \n",
       "2  1003000407                1.0                 0.0             0.0   \n",
       "3  1003000480                1.0                 0.0             0.0   \n",
       "4  1003000522                1.0                 9.0           144.5   \n",
       "\n",
       "   Drug_Tot_Srvcs  Drug_Sbmtd_Chrg  Drug_Mdcr_Alowd_Amt  Drug_Mdcr_Pymt_Amt   \n",
       "0             0.0            0.000                0.000                 0.0  \\\n",
       "1             0.0            0.000                0.000                 0.0   \n",
       "2             0.0            0.000                0.000                 0.0   \n",
       "3             0.0            0.000                0.000                 0.0   \n",
       "4           167.5        38892.565            13229.245             13197.3   \n",
       "\n",
       "   Drug_Mdcr_Stdzd_Amt  Med_Tot_HCPCS_Cds  ...   \n",
       "0                 0.00               18.5  ...  \\\n",
       "1                 0.00               20.5  ...   \n",
       "2                 0.00               23.0  ...   \n",
       "3                 0.00               30.5  ...   \n",
       "4             13262.99               40.0  ...   \n",
       "\n",
       "   Rndrng_Prvdr_Type_Speech Language Pathologist   \n",
       "0                                            0.0  \\\n",
       "1                                            0.0   \n",
       "2                                            0.0   \n",
       "3                                            0.0   \n",
       "4                                            0.0   \n",
       "\n",
       "   Rndrng_Prvdr_Type_Sports Medicine  Rndrng_Prvdr_Type_Surgical Oncology   \n",
       "0                                0.0                                  0.0  \\\n",
       "1                                0.0                                  0.0   \n",
       "2                                0.0                                  0.0   \n",
       "3                                0.0                                  0.0   \n",
       "4                                0.0                                  0.0   \n",
       "\n",
       "   Rndrng_Prvdr_Type_Thoracic Surgery   \n",
       "0                                 0.0  \\\n",
       "1                                 0.0   \n",
       "2                                 0.0   \n",
       "3                                 0.0   \n",
       "4                                 0.0   \n",
       "\n",
       "   Rndrng_Prvdr_Type_Undefined Physician type   \n",
       "0                                         0.0  \\\n",
       "1                                         0.0   \n",
       "2                                         0.0   \n",
       "3                                         0.0   \n",
       "4                                         0.0   \n",
       "\n",
       "   Rndrng_Prvdr_Type_Undersea and Hyperbaric Medicine   \n",
       "0                                                0.0   \\\n",
       "1                                                0.0    \n",
       "2                                                0.0    \n",
       "3                                                0.0    \n",
       "4                                                0.0    \n",
       "\n",
       "   Rndrng_Prvdr_Type_Unknown Supplier/Provider Specialty   \n",
       "0                                                0.0      \\\n",
       "1                                                0.0       \n",
       "2                                                0.0       \n",
       "3                                                0.0       \n",
       "4                                                0.0       \n",
       "\n",
       "   Rndrng_Prvdr_Type_Urology  Rndrng_Prvdr_Type_Vascular Surgery  excluded  \n",
       "0                        0.0                                 0.0       NaN  \n",
       "1                        0.0                                 0.0       NaN  \n",
       "2                        0.0                                 0.0       1.0  \n",
       "3                        0.0                                 0.0       NaN  \n",
       "4                        0.0                                 0.0       NaN  \n",
       "\n",
       "[5 rows x 108 columns]"
      ]
     },
     "execution_count": 70,
     "metadata": {},
     "output_type": "execute_result"
    }
   ],
   "source": [
    "combined_df.head()"
   ]
  },
  {
   "cell_type": "code",
   "execution_count": 71,
   "id": "ed1f7e6d-0ea6-42ed-887d-712133ba73bc",
   "metadata": {},
   "outputs": [],
   "source": [
    "combined_df['excluded'] = combined_df.excluded.fillna(0)"
   ]
  },
  {
   "cell_type": "code",
   "execution_count": 72,
   "id": "e68e0ed7-66c3-462b-843b-904d05473ae3",
   "metadata": {},
   "outputs": [
    {
     "data": {
      "text/html": [
       "<div>\n",
       "<style scoped>\n",
       "    .dataframe tbody tr th:only-of-type {\n",
       "        vertical-align: middle;\n",
       "    }\n",
       "\n",
       "    .dataframe tbody tr th {\n",
       "        vertical-align: top;\n",
       "    }\n",
       "\n",
       "    .dataframe thead th {\n",
       "        text-align: right;\n",
       "    }\n",
       "</style>\n",
       "<table border=\"1\" class=\"dataframe\">\n",
       "  <thead>\n",
       "    <tr style=\"text-align: right;\">\n",
       "      <th></th>\n",
       "      <th>Rndrng_NPI</th>\n",
       "      <th>Rndrng_Prvdr_Gndr</th>\n",
       "      <th>Drug_Tot_HCPCS_Cds</th>\n",
       "      <th>Drug_Tot_Benes</th>\n",
       "      <th>Drug_Tot_Srvcs</th>\n",
       "      <th>Drug_Sbmtd_Chrg</th>\n",
       "      <th>Drug_Mdcr_Alowd_Amt</th>\n",
       "      <th>Drug_Mdcr_Pymt_Amt</th>\n",
       "      <th>Drug_Mdcr_Stdzd_Amt</th>\n",
       "      <th>Med_Tot_HCPCS_Cds</th>\n",
       "      <th>...</th>\n",
       "      <th>Rndrng_Prvdr_Type_Speech Language Pathologist</th>\n",
       "      <th>Rndrng_Prvdr_Type_Sports Medicine</th>\n",
       "      <th>Rndrng_Prvdr_Type_Surgical Oncology</th>\n",
       "      <th>Rndrng_Prvdr_Type_Thoracic Surgery</th>\n",
       "      <th>Rndrng_Prvdr_Type_Undefined Physician type</th>\n",
       "      <th>Rndrng_Prvdr_Type_Undersea and Hyperbaric Medicine</th>\n",
       "      <th>Rndrng_Prvdr_Type_Unknown Supplier/Provider Specialty</th>\n",
       "      <th>Rndrng_Prvdr_Type_Urology</th>\n",
       "      <th>Rndrng_Prvdr_Type_Vascular Surgery</th>\n",
       "      <th>excluded</th>\n",
       "    </tr>\n",
       "  </thead>\n",
       "  <tbody>\n",
       "    <tr>\n",
       "      <th>0</th>\n",
       "      <td>1003000126</td>\n",
       "      <td>1.0</td>\n",
       "      <td>0.0</td>\n",
       "      <td>0.0</td>\n",
       "      <td>0.0</td>\n",
       "      <td>0.000</td>\n",
       "      <td>0.000</td>\n",
       "      <td>0.0</td>\n",
       "      <td>0.00</td>\n",
       "      <td>18.5</td>\n",
       "      <td>...</td>\n",
       "      <td>0.0</td>\n",
       "      <td>0.0</td>\n",
       "      <td>0.0</td>\n",
       "      <td>0.0</td>\n",
       "      <td>0.0</td>\n",
       "      <td>0.0</td>\n",
       "      <td>0.0</td>\n",
       "      <td>0.0</td>\n",
       "      <td>0.0</td>\n",
       "      <td>0.0</td>\n",
       "    </tr>\n",
       "    <tr>\n",
       "      <th>1</th>\n",
       "      <td>1003000134</td>\n",
       "      <td>1.0</td>\n",
       "      <td>0.0</td>\n",
       "      <td>0.0</td>\n",
       "      <td>0.0</td>\n",
       "      <td>0.000</td>\n",
       "      <td>0.000</td>\n",
       "      <td>0.0</td>\n",
       "      <td>0.00</td>\n",
       "      <td>20.5</td>\n",
       "      <td>...</td>\n",
       "      <td>0.0</td>\n",
       "      <td>0.0</td>\n",
       "      <td>0.0</td>\n",
       "      <td>0.0</td>\n",
       "      <td>0.0</td>\n",
       "      <td>0.0</td>\n",
       "      <td>0.0</td>\n",
       "      <td>0.0</td>\n",
       "      <td>0.0</td>\n",
       "      <td>0.0</td>\n",
       "    </tr>\n",
       "    <tr>\n",
       "      <th>2</th>\n",
       "      <td>1003000407</td>\n",
       "      <td>1.0</td>\n",
       "      <td>0.0</td>\n",
       "      <td>0.0</td>\n",
       "      <td>0.0</td>\n",
       "      <td>0.000</td>\n",
       "      <td>0.000</td>\n",
       "      <td>0.0</td>\n",
       "      <td>0.00</td>\n",
       "      <td>23.0</td>\n",
       "      <td>...</td>\n",
       "      <td>0.0</td>\n",
       "      <td>0.0</td>\n",
       "      <td>0.0</td>\n",
       "      <td>0.0</td>\n",
       "      <td>0.0</td>\n",
       "      <td>0.0</td>\n",
       "      <td>0.0</td>\n",
       "      <td>0.0</td>\n",
       "      <td>0.0</td>\n",
       "      <td>1.0</td>\n",
       "    </tr>\n",
       "    <tr>\n",
       "      <th>3</th>\n",
       "      <td>1003000480</td>\n",
       "      <td>1.0</td>\n",
       "      <td>0.0</td>\n",
       "      <td>0.0</td>\n",
       "      <td>0.0</td>\n",
       "      <td>0.000</td>\n",
       "      <td>0.000</td>\n",
       "      <td>0.0</td>\n",
       "      <td>0.00</td>\n",
       "      <td>30.5</td>\n",
       "      <td>...</td>\n",
       "      <td>0.0</td>\n",
       "      <td>0.0</td>\n",
       "      <td>0.0</td>\n",
       "      <td>0.0</td>\n",
       "      <td>0.0</td>\n",
       "      <td>0.0</td>\n",
       "      <td>0.0</td>\n",
       "      <td>0.0</td>\n",
       "      <td>0.0</td>\n",
       "      <td>0.0</td>\n",
       "    </tr>\n",
       "    <tr>\n",
       "      <th>4</th>\n",
       "      <td>1003000522</td>\n",
       "      <td>1.0</td>\n",
       "      <td>9.0</td>\n",
       "      <td>144.5</td>\n",
       "      <td>167.5</td>\n",
       "      <td>38892.565</td>\n",
       "      <td>13229.245</td>\n",
       "      <td>13197.3</td>\n",
       "      <td>13262.99</td>\n",
       "      <td>40.0</td>\n",
       "      <td>...</td>\n",
       "      <td>0.0</td>\n",
       "      <td>0.0</td>\n",
       "      <td>0.0</td>\n",
       "      <td>0.0</td>\n",
       "      <td>0.0</td>\n",
       "      <td>0.0</td>\n",
       "      <td>0.0</td>\n",
       "      <td>0.0</td>\n",
       "      <td>0.0</td>\n",
       "      <td>0.0</td>\n",
       "    </tr>\n",
       "  </tbody>\n",
       "</table>\n",
       "<p>5 rows × 108 columns</p>\n",
       "</div>"
      ],
      "text/plain": [
       "   Rndrng_NPI  Rndrng_Prvdr_Gndr  Drug_Tot_HCPCS_Cds  Drug_Tot_Benes   \n",
       "0  1003000126                1.0                 0.0             0.0  \\\n",
       "1  1003000134                1.0                 0.0             0.0   \n",
       "2  1003000407                1.0                 0.0             0.0   \n",
       "3  1003000480                1.0                 0.0             0.0   \n",
       "4  1003000522                1.0                 9.0           144.5   \n",
       "\n",
       "   Drug_Tot_Srvcs  Drug_Sbmtd_Chrg  Drug_Mdcr_Alowd_Amt  Drug_Mdcr_Pymt_Amt   \n",
       "0             0.0            0.000                0.000                 0.0  \\\n",
       "1             0.0            0.000                0.000                 0.0   \n",
       "2             0.0            0.000                0.000                 0.0   \n",
       "3             0.0            0.000                0.000                 0.0   \n",
       "4           167.5        38892.565            13229.245             13197.3   \n",
       "\n",
       "   Drug_Mdcr_Stdzd_Amt  Med_Tot_HCPCS_Cds  ...   \n",
       "0                 0.00               18.5  ...  \\\n",
       "1                 0.00               20.5  ...   \n",
       "2                 0.00               23.0  ...   \n",
       "3                 0.00               30.5  ...   \n",
       "4             13262.99               40.0  ...   \n",
       "\n",
       "   Rndrng_Prvdr_Type_Speech Language Pathologist   \n",
       "0                                            0.0  \\\n",
       "1                                            0.0   \n",
       "2                                            0.0   \n",
       "3                                            0.0   \n",
       "4                                            0.0   \n",
       "\n",
       "   Rndrng_Prvdr_Type_Sports Medicine  Rndrng_Prvdr_Type_Surgical Oncology   \n",
       "0                                0.0                                  0.0  \\\n",
       "1                                0.0                                  0.0   \n",
       "2                                0.0                                  0.0   \n",
       "3                                0.0                                  0.0   \n",
       "4                                0.0                                  0.0   \n",
       "\n",
       "   Rndrng_Prvdr_Type_Thoracic Surgery   \n",
       "0                                 0.0  \\\n",
       "1                                 0.0   \n",
       "2                                 0.0   \n",
       "3                                 0.0   \n",
       "4                                 0.0   \n",
       "\n",
       "   Rndrng_Prvdr_Type_Undefined Physician type   \n",
       "0                                         0.0  \\\n",
       "1                                         0.0   \n",
       "2                                         0.0   \n",
       "3                                         0.0   \n",
       "4                                         0.0   \n",
       "\n",
       "   Rndrng_Prvdr_Type_Undersea and Hyperbaric Medicine   \n",
       "0                                                0.0   \\\n",
       "1                                                0.0    \n",
       "2                                                0.0    \n",
       "3                                                0.0    \n",
       "4                                                0.0    \n",
       "\n",
       "   Rndrng_Prvdr_Type_Unknown Supplier/Provider Specialty   \n",
       "0                                                0.0      \\\n",
       "1                                                0.0       \n",
       "2                                                0.0       \n",
       "3                                                0.0       \n",
       "4                                                0.0       \n",
       "\n",
       "   Rndrng_Prvdr_Type_Urology  Rndrng_Prvdr_Type_Vascular Surgery  excluded  \n",
       "0                        0.0                                 0.0       0.0  \n",
       "1                        0.0                                 0.0       0.0  \n",
       "2                        0.0                                 0.0       1.0  \n",
       "3                        0.0                                 0.0       0.0  \n",
       "4                        0.0                                 0.0       0.0  \n",
       "\n",
       "[5 rows x 108 columns]"
      ]
     },
     "execution_count": 72,
     "metadata": {},
     "output_type": "execute_result"
    }
   ],
   "source": [
    "combined_df.head()"
   ]
  },
  {
   "cell_type": "code",
   "execution_count": 73,
   "id": "f8588cec-5a55-4f63-91b5-32f79b85750e",
   "metadata": {},
   "outputs": [
    {
     "data": {
      "text/plain": [
       "excluded\n",
       "0.0    1079161\n",
       "1.0        330\n",
       "dtype: int64"
      ]
     },
     "execution_count": 73,
     "metadata": {},
     "output_type": "execute_result"
    }
   ],
   "source": [
    "combined_df.groupby(['excluded']).size()"
   ]
  },
  {
   "cell_type": "code",
   "execution_count": 74,
   "id": "cd217f7a-9b50-4609-8155-d41f91cbe16c",
   "metadata": {},
   "outputs": [],
   "source": [
    "combined_df.to_csv('../../data/processed/combined_processed_data.csv', \n",
    "                   index=False)"
   ]
  },
  {
   "cell_type": "code",
   "execution_count": null,
   "id": "8abb36f1-0f8a-461c-9192-51dec81378e2",
   "metadata": {},
   "outputs": [],
   "source": []
  },
  {
   "cell_type": "code",
   "execution_count": null,
   "id": "2ceb1344-bc5b-47fc-8080-e67cb792bcba",
   "metadata": {},
   "outputs": [],
   "source": []
  },
  {
   "cell_type": "code",
   "execution_count": null,
   "id": "a64d1433-7efd-463f-8f9f-031fa28b1b85",
   "metadata": {},
   "outputs": [],
   "source": []
  },
  {
   "cell_type": "code",
   "execution_count": null,
   "id": "b778a063-79a8-4f5b-a35f-cdc4c95f06df",
   "metadata": {},
   "outputs": [],
   "source": []
  },
  {
   "cell_type": "code",
   "execution_count": null,
   "id": "1912f2c9-b699-4e37-a5aa-ed47bc3d81de",
   "metadata": {},
   "outputs": [],
   "source": []
  },
  {
   "cell_type": "code",
   "execution_count": null,
   "id": "82f6dfbb-8dbd-4a2e-b133-f35b804a715c",
   "metadata": {},
   "outputs": [],
   "source": []
  },
  {
   "cell_type": "code",
   "execution_count": null,
   "id": "1c173642-a255-4a1a-b850-a41422edbf51",
   "metadata": {},
   "outputs": [],
   "source": []
  }
 ],
 "metadata": {
  "kernelspec": {
   "display_name": "Python (cs230 proj)",
   "language": "python",
   "name": "myenv"
  },
  "language_info": {
   "codemirror_mode": {
    "name": "ipython",
    "version": 3
   },
   "file_extension": ".py",
   "mimetype": "text/x-python",
   "name": "python",
   "nbconvert_exporter": "python",
   "pygments_lexer": "ipython3",
   "version": "3.10.11"
  }
 },
 "nbformat": 4,
 "nbformat_minor": 5
}
