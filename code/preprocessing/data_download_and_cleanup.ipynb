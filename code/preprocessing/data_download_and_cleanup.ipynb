{
 "cells": [
  {
   "cell_type": "markdown",
   "id": "f3bf6cfd-00c3-46c2-b541-5683ca20592a",
   "metadata": {},
   "source": [
    "# Data download and cleanup"
   ]
  },
  {
   "cell_type": "code",
   "execution_count": 1,
   "id": "feba496d-2fde-4d16-b200-0c1f25e1fe14",
   "metadata": {},
   "outputs": [],
   "source": [
    "import os\n",
    "import glob\n",
    "import pandas as pd"
   ]
  },
  {
   "cell_type": "markdown",
   "id": "6f8014e2-cf83-4f8e-82ae-ffac681612ee",
   "metadata": {},
   "source": [
    "## Download data \n",
    "\n",
    "Source: Data were downloaded from the [Medicare public data website](https://data.cms.gov/provider-summary-by-type-of-service/medicare-physician-other-practitioners/medicare-physician-other-practitioners-by-provider) for years 2018, 2019, 2020."
   ]
  },
  {
   "cell_type": "code",
   "execution_count": 51,
   "id": "e0e2a006-fcb6-4c4b-9a37-fa080e027fe4",
   "metadata": {},
   "outputs": [
    {
     "data": {
      "text/plain": [
       "'/Users/oana/Documents/Stanford/Spring2023/CS230/final_project/cs230_project/code/preprocessing'"
      ]
     },
     "execution_count": 51,
     "metadata": {},
     "output_type": "execute_result"
    }
   ],
   "source": [
    "os.getcwd()"
   ]
  },
  {
   "cell_type": "code",
   "execution_count": 53,
   "id": "16016722-e3d4-4f75-98e1-355d4fff07ef",
   "metadata": {},
   "outputs": [
    {
     "name": "stderr",
     "output_type": "stream",
     "text": [
      "/var/folders/6m/dcb0chc94pl7hxnxbqp281jc0000gn/T/ipykernel_2701/664181645.py:8: DtypeWarning: Columns (12) have mixed types. Specify dtype option on import or set low_memory=False.\n",
      "  df = pd.read_csv(f, header = 0, encoding = 'latin-1')\n",
      "/var/folders/6m/dcb0chc94pl7hxnxbqp281jc0000gn/T/ipykernel_2701/664181645.py:8: DtypeWarning: Columns (12) have mixed types. Specify dtype option on import or set low_memory=False.\n",
      "  df = pd.read_csv(f, header = 0, encoding = 'latin-1')\n"
     ]
    }
   ],
   "source": [
    "# assuming you're in code/preprocessing \n",
    "data_path = '../../data/raw/'\n",
    "all_data_files = glob.glob(os.path.join(data_path, 'medicare_*.csv'))\n",
    "\n",
    "data_list = []\n",
    "\n",
    "for f in all_data_files:\n",
    "    df = pd.read_csv(f, header = 0, encoding = 'latin-1')\n",
    "    df['year'] = str.split(str.split(str.split(f, '/')[-1], \"_\")[-1], \".csv\")[0]\n",
    "    data_list.append(df)\n",
    "\n",
    "data_df = pd.concat(data_list, axis=0, ignore_index = True)"
   ]
  },
  {
   "cell_type": "code",
   "execution_count": 55,
   "id": "b99fd2c3-64f3-4a4e-a6c4-71b588724a90",
   "metadata": {},
   "outputs": [
    {
     "data": {
      "text/plain": [
       "['../../data/raw/medicare_raw_2019.csv',\n",
       " '../../data/raw/medicare_raw_2018.csv']"
      ]
     },
     "execution_count": 55,
     "metadata": {},
     "output_type": "execute_result"
    }
   ],
   "source": [
    "all_data_files #just to check"
   ]
  },
  {
   "cell_type": "code",
   "execution_count": 56,
   "id": "77a11833-bb51-46e6-b29c-723c1cbe31dd",
   "metadata": {},
   "outputs": [
    {
     "data": {
      "text/plain": [
       "(2277332, 74)"
      ]
     },
     "execution_count": 56,
     "metadata": {},
     "output_type": "execute_result"
    }
   ],
   "source": [
    "data_df.shape"
   ]
  },
  {
   "cell_type": "markdown",
   "id": "bd7bede9-ded3-448e-91ce-293c463618aa",
   "metadata": {},
   "source": [
    "## Remove irrelevant columns"
   ]
  },
  {
   "cell_type": "code",
   "execution_count": 58,
   "id": "d363ca11-cf26-4f58-b23c-68e5addbfab0",
   "metadata": {},
   "outputs": [
    {
     "data": {
      "text/plain": [
       "(2156627, 74)"
      ]
     },
     "execution_count": 58,
     "metadata": {},
     "output_type": "execute_result"
    }
   ],
   "source": [
    "# Keep individuals only, denoted by 'I' \n",
    "data_df = data_df.loc[data_df['Rndrng_Prvdr_Ent_Cd'] == 'I']\n",
    "data_df.shape"
   ]
  },
  {
   "cell_type": "code",
   "execution_count": 59,
   "id": "03038cae-7b9a-4b2c-9ce7-a065e4648994",
   "metadata": {},
   "outputs": [
    {
     "data": {
      "text/plain": [
       "(2156287, 74)"
      ]
     },
     "execution_count": 59,
     "metadata": {},
     "output_type": "execute_result"
    }
   ],
   "source": [
    "# US data only\n",
    "data_df = data_df.loc[data_df['Rndrng_Prvdr_Cntry'] == 'US']\n",
    "data_df.shape"
   ]
  },
  {
   "cell_type": "code",
   "execution_count": 60,
   "id": "69dd09f1-7588-4037-8548-adc7b956861f",
   "metadata": {},
   "outputs": [
    {
     "data": {
      "text/plain": [
       "(2154394, 74)"
      ]
     },
     "execution_count": 60,
     "metadata": {},
     "output_type": "execute_result"
    }
   ],
   "source": [
    "# Only providers participating in Medicare\n",
    "data_df = data_df.loc[data_df['Rndrng_Prvdr_Mdcr_Prtcptg_Ind'] == 'Y']\n",
    "data_df.shape"
   ]
  },
  {
   "cell_type": "code",
   "execution_count": 61,
   "id": "53fd9015-a11d-4ac4-96c2-67ed45e14b32",
   "metadata": {},
   "outputs": [
    {
     "data": {
      "text/plain": [
       "(1915045, 74)"
      ]
     },
     "execution_count": 61,
     "metadata": {},
     "output_type": "execute_result"
    }
   ],
   "source": [
    "# Remove data that was supressed already (Drug-related)\n",
    "data_df = data_df.loc[data_df['Drug_Sprsn_Ind'].isnull()]\n",
    "data_df.shape"
   ]
  },
  {
   "cell_type": "code",
   "execution_count": 62,
   "id": "dea75a57-e818-407a-ac06-6d74ee857645",
   "metadata": {},
   "outputs": [
    {
     "data": {
      "text/plain": [
       "(1915045, 74)"
      ]
     },
     "execution_count": 62,
     "metadata": {},
     "output_type": "execute_result"
    }
   ],
   "source": [
    "# Remove data that was supressed already (Medical-related)\n",
    "data_df = data_df.loc[data_df['Med_Sprsn_Ind'].isnull()]\n",
    "data_df.shape"
   ]
  },
  {
   "cell_type": "code",
   "execution_count": 63,
   "id": "58beaca6-2a77-4b61-b012-db6a874417a6",
   "metadata": {},
   "outputs": [
    {
     "data": {
      "text/plain": [
       "(1915045, 56)"
      ]
     },
     "execution_count": 63,
     "metadata": {},
     "output_type": "execute_result"
    }
   ],
   "source": [
    "# columns to remove are largely redundant ID-related information. Determined from the data dictionary:\n",
    "# here: https://data.cms.gov/resources/medicare-physician-other-practitioners-by-provider-data-dictionary\n",
    "\n",
    "cols_to_remove = ['Rndrng_Prvdr_Last_Org_Name', # don't need name b/c have unique ID\n",
    "                 'Rndrng_Prvdr_First_Name',\n",
    "                 'Rndrng_Prvdr_MI',\n",
    "                 'Rndrng_Prvdr_Ent_Cd', # will be all I's\n",
    "                 'Rndrng_Prvdr_St1', # only keeping zip code\n",
    "                 'Rndrng_Prvdr_St2',\n",
    "                 'Rndrng_Prvdr_City',\n",
    "                 'Rndrng_Prvdr_State_Abrvtn',\n",
    "                 'Rndrng_Prvdr_State_FIPS',\n",
    "                 'Rndrng_Prvdr_RUCA', # Determined by zip code \n",
    "                 'Rndrng_Prvdr_RUCA_Desc',\n",
    "                 'Rndrng_Prvdr_Cntry',\n",
    "                 'Rndrng_Prvdr_Mdcr_Prtcptg_Ind',\n",
    "                 'Rndrng_Prvdr_Crdntls', \n",
    "                 'Tot_Mdcr_Pymt_Amt', # Tot_Mdcr_Stdzd_Amt more specific to provider behavior\n",
    "                 'Drug_Sprsn_Ind', # indicator for supressed data (which was removed)\n",
    "                 'Med_Sprsn_Ind', # indicator for supressed data (which was removed)\n",
    "                 'Med_Mdcr_Pymt_Amt', # Med_Mdcr_Stdzd_Amt more specific to provider\n",
    "                 ]\n",
    "data_df = data_df.drop(cols_to_remove, axis=1)\n",
    "data_df.shape"
   ]
  },
  {
   "cell_type": "code",
   "execution_count": 64,
   "id": "a62df0ff-7767-486e-9392-f326eeaef9d3",
   "metadata": {},
   "outputs": [
    {
     "data": {
      "text/plain": [
       "year\n",
       "2018    941602\n",
       "2019    973443\n",
       "dtype: int64"
      ]
     },
     "execution_count": 64,
     "metadata": {},
     "output_type": "execute_result"
    }
   ],
   "source": [
    "# Check representation across years\n",
    "data_df.groupby(['year']).size()"
   ]
  },
  {
   "cell_type": "code",
   "execution_count": 65,
   "id": "8377a242-4bfe-4074-8d65-9c340134ba5e",
   "metadata": {},
   "outputs": [
    {
     "name": "stdout",
     "output_type": "stream",
     "text": [
      "<class 'pandas.core.frame.DataFrame'>\n",
      "Index: 1915045 entries, 0 to 2277331\n",
      "Data columns (total 56 columns):\n",
      " #   Column                Dtype  \n",
      "---  ------                -----  \n",
      " 0   Rndrng_NPI            int64  \n",
      " 1   Rndrng_Prvdr_Gndr     object \n",
      " 2   Rndrng_Prvdr_Zip5     object \n",
      " 3   Rndrng_Prvdr_Type     object \n",
      " 4   Tot_HCPCS_Cds         int64  \n",
      " 5   Tot_Benes             int64  \n",
      " 6   Tot_Srvcs             float64\n",
      " 7   Tot_Sbmtd_Chrg        float64\n",
      " 8   Tot_Mdcr_Alowd_Amt    float64\n",
      " 9   Tot_Mdcr_Stdzd_Amt    float64\n",
      " 10  Drug_Tot_HCPCS_Cds    float64\n",
      " 11  Drug_Tot_Benes        float64\n",
      " 12  Drug_Tot_Srvcs        float64\n",
      " 13  Drug_Sbmtd_Chrg       float64\n",
      " 14  Drug_Mdcr_Alowd_Amt   float64\n",
      " 15  Drug_Mdcr_Pymt_Amt    float64\n",
      " 16  Drug_Mdcr_Stdzd_Amt   float64\n",
      " 17  Med_Tot_HCPCS_Cds     float64\n",
      " 18  Med_Tot_Benes         float64\n",
      " 19  Med_Tot_Srvcs         float64\n",
      " 20  Med_Sbmtd_Chrg        float64\n",
      " 21  Med_Mdcr_Alowd_Amt    float64\n",
      " 22  Med_Mdcr_Stdzd_Amt    float64\n",
      " 23  Bene_Avg_Age          int64  \n",
      " 24  Bene_Age_LT_65_Cnt    float64\n",
      " 25  Bene_Age_65_74_Cnt    float64\n",
      " 26  Bene_Age_75_84_Cnt    float64\n",
      " 27  Bene_Age_GT_84_Cnt    float64\n",
      " 28  Bene_Feml_Cnt         float64\n",
      " 29  Bene_Male_Cnt         float64\n",
      " 30  Bene_Race_Wht_Cnt     float64\n",
      " 31  Bene_Race_Black_Cnt   float64\n",
      " 32  Bene_Race_API_Cnt     float64\n",
      " 33  Bene_Race_Hspnc_Cnt   float64\n",
      " 34  Bene_Race_NatInd_Cnt  float64\n",
      " 35  Bene_Race_Othr_Cnt    float64\n",
      " 36  Bene_Dual_Cnt         float64\n",
      " 37  Bene_Ndual_Cnt        float64\n",
      " 38  Bene_CC_AF_Pct        float64\n",
      " 39  Bene_CC_Alzhmr_Pct    float64\n",
      " 40  Bene_CC_Asthma_Pct    float64\n",
      " 41  Bene_CC_Cncr_Pct      float64\n",
      " 42  Bene_CC_CHF_Pct       float64\n",
      " 43  Bene_CC_CKD_Pct       float64\n",
      " 44  Bene_CC_COPD_Pct      float64\n",
      " 45  Bene_CC_Dprssn_Pct    float64\n",
      " 46  Bene_CC_Dbts_Pct      float64\n",
      " 47  Bene_CC_Hyplpdma_Pct  float64\n",
      " 48  Bene_CC_Hyprtnsn_Pct  float64\n",
      " 49  Bene_CC_IHD_Pct       float64\n",
      " 50  Bene_CC_Opo_Pct       float64\n",
      " 51  Bene_CC_RAOA_Pct      float64\n",
      " 52  Bene_CC_Sz_Pct        float64\n",
      " 53  Bene_CC_Strok_Pct     float64\n",
      " 54  Bene_Avg_Risk_Scre    float64\n",
      " 55  year                  object \n",
      "dtypes: float64(48), int64(4), object(4)\n",
      "memory usage: 832.8+ MB\n"
     ]
    }
   ],
   "source": [
    "data_df.info()"
   ]
  },
  {
   "cell_type": "markdown",
   "id": "4d873f17-9a90-41fa-b0bd-6aa348f5c738",
   "metadata": {},
   "source": [
    "## Fix dtypes"
   ]
  },
  {
   "cell_type": "code",
   "execution_count": 66,
   "id": "76834de1-0547-4ec2-b02c-94c5868f38af",
   "metadata": {},
   "outputs": [],
   "source": [
    "#data_df = data_df.convert_dtypes()"
   ]
  },
  {
   "cell_type": "code",
   "execution_count": 67,
   "id": "bbc653cc-62c5-4e89-9c22-10b0f19a7bdd",
   "metadata": {},
   "outputs": [],
   "source": [
    "# Set year to int\n",
    "data_df['year'] = pd.to_numeric(data_df['year'])"
   ]
  },
  {
   "cell_type": "code",
   "execution_count": 68,
   "id": "2450fc50-e85b-402a-8cd6-1bd3dc80936e",
   "metadata": {},
   "outputs": [],
   "source": [
    "# weird incomplete single zip code\n",
    "data_df.loc[data_df['Rndrng_Prvdr_Zip5'] == '8742-', 'Rndrng_Prvdr_Zip5'] = pd.NA\n",
    "data_df['Rndrng_Prvdr_Zip5'] = pd.to_numeric(data_df['Rndrng_Prvdr_Zip5'])"
   ]
  },
  {
   "cell_type": "code",
   "execution_count": 69,
   "id": "9a7af23f-66c7-4382-bb27-275ec7eeaaad",
   "metadata": {},
   "outputs": [],
   "source": [
    "# Turn gender into a binary column \n",
    "data_df['Rndrng_Prvdr_Gndr'] = data_df['Rndrng_Prvdr_Gndr'].astype('category').cat.codes"
   ]
  },
  {
   "cell_type": "code",
   "execution_count": 70,
   "id": "8dd8dca2-2d7e-4e3a-b700-96300e17f459",
   "metadata": {},
   "outputs": [],
   "source": [
    "# one hot encode categorical columns\n",
    "data_df = pd.get_dummies(data_df, columns = ['Rndrng_Prvdr_Type'], dtype='int')"
   ]
  },
  {
   "cell_type": "code",
   "execution_count": 71,
   "id": "79e03c12-6e5a-4c97-8839-ba5d248eafda",
   "metadata": {},
   "outputs": [
    {
     "data": {
      "text/plain": [
       "(1915045, 146)"
      ]
     },
     "execution_count": 71,
     "metadata": {},
     "output_type": "execute_result"
    }
   ],
   "source": [
    "data_df.shape"
   ]
  },
  {
   "cell_type": "code",
   "execution_count": 72,
   "id": "4065225f-18c7-4393-a65d-b1956e2c98ca",
   "metadata": {},
   "outputs": [
    {
     "data": {
      "text/html": [
       "<div>\n",
       "<style scoped>\n",
       "    .dataframe tbody tr th:only-of-type {\n",
       "        vertical-align: middle;\n",
       "    }\n",
       "\n",
       "    .dataframe tbody tr th {\n",
       "        vertical-align: top;\n",
       "    }\n",
       "\n",
       "    .dataframe thead th {\n",
       "        text-align: right;\n",
       "    }\n",
       "</style>\n",
       "<table border=\"1\" class=\"dataframe\">\n",
       "  <thead>\n",
       "    <tr style=\"text-align: right;\">\n",
       "      <th></th>\n",
       "      <th>Rndrng_NPI</th>\n",
       "      <th>Rndrng_Prvdr_Gndr</th>\n",
       "      <th>Rndrng_Prvdr_Zip5</th>\n",
       "      <th>Tot_HCPCS_Cds</th>\n",
       "      <th>Tot_Benes</th>\n",
       "      <th>Tot_Srvcs</th>\n",
       "      <th>Tot_Sbmtd_Chrg</th>\n",
       "      <th>Tot_Mdcr_Alowd_Amt</th>\n",
       "      <th>Tot_Mdcr_Stdzd_Amt</th>\n",
       "      <th>Drug_Tot_HCPCS_Cds</th>\n",
       "      <th>...</th>\n",
       "      <th>Rndrng_Prvdr_Type_Slide Preparation Facility</th>\n",
       "      <th>Rndrng_Prvdr_Type_Speech Language Pathologist</th>\n",
       "      <th>Rndrng_Prvdr_Type_Sports Medicine</th>\n",
       "      <th>Rndrng_Prvdr_Type_Surgical Oncology</th>\n",
       "      <th>Rndrng_Prvdr_Type_Thoracic Surgery</th>\n",
       "      <th>Rndrng_Prvdr_Type_Undefined Physician type</th>\n",
       "      <th>Rndrng_Prvdr_Type_Undersea and Hyperbaric Medicine</th>\n",
       "      <th>Rndrng_Prvdr_Type_Unknown Supplier/Provider Specialty</th>\n",
       "      <th>Rndrng_Prvdr_Type_Urology</th>\n",
       "      <th>Rndrng_Prvdr_Type_Vascular Surgery</th>\n",
       "    </tr>\n",
       "  </thead>\n",
       "  <tbody>\n",
       "    <tr>\n",
       "      <th>0</th>\n",
       "      <td>1003000126</td>\n",
       "      <td>1</td>\n",
       "      <td>21502.0</td>\n",
       "      <td>18</td>\n",
       "      <td>610</td>\n",
       "      <td>1392.0</td>\n",
       "      <td>519136.00</td>\n",
       "      <td>156626.32</td>\n",
       "      <td>125266.10</td>\n",
       "      <td>0.0</td>\n",
       "      <td>...</td>\n",
       "      <td>0</td>\n",
       "      <td>0</td>\n",
       "      <td>0</td>\n",
       "      <td>0</td>\n",
       "      <td>0</td>\n",
       "      <td>0</td>\n",
       "      <td>0</td>\n",
       "      <td>0</td>\n",
       "      <td>0</td>\n",
       "      <td>0</td>\n",
       "    </tr>\n",
       "    <tr>\n",
       "      <th>1</th>\n",
       "      <td>1003000134</td>\n",
       "      <td>1</td>\n",
       "      <td>60201.0</td>\n",
       "      <td>20</td>\n",
       "      <td>3614</td>\n",
       "      <td>7835.0</td>\n",
       "      <td>1213264.00</td>\n",
       "      <td>298905.09</td>\n",
       "      <td>218268.63</td>\n",
       "      <td>0.0</td>\n",
       "      <td>...</td>\n",
       "      <td>0</td>\n",
       "      <td>0</td>\n",
       "      <td>0</td>\n",
       "      <td>0</td>\n",
       "      <td>0</td>\n",
       "      <td>0</td>\n",
       "      <td>0</td>\n",
       "      <td>0</td>\n",
       "      <td>0</td>\n",
       "      <td>0</td>\n",
       "    </tr>\n",
       "    <tr>\n",
       "      <th>4</th>\n",
       "      <td>1003000480</td>\n",
       "      <td>1</td>\n",
       "      <td>80045.0</td>\n",
       "      <td>30</td>\n",
       "      <td>104</td>\n",
       "      <td>159.0</td>\n",
       "      <td>210964.25</td>\n",
       "      <td>40069.88</td>\n",
       "      <td>30002.44</td>\n",
       "      <td>0.0</td>\n",
       "      <td>...</td>\n",
       "      <td>0</td>\n",
       "      <td>0</td>\n",
       "      <td>0</td>\n",
       "      <td>0</td>\n",
       "      <td>0</td>\n",
       "      <td>0</td>\n",
       "      <td>0</td>\n",
       "      <td>0</td>\n",
       "      <td>0</td>\n",
       "      <td>0</td>\n",
       "    </tr>\n",
       "    <tr>\n",
       "      <th>5</th>\n",
       "      <td>1003000522</td>\n",
       "      <td>1</td>\n",
       "      <td>32725.0</td>\n",
       "      <td>46</td>\n",
       "      <td>374</td>\n",
       "      <td>1319.0</td>\n",
       "      <td>349343.44</td>\n",
       "      <td>112849.81</td>\n",
       "      <td>87218.20</td>\n",
       "      <td>8.0</td>\n",
       "      <td>...</td>\n",
       "      <td>0</td>\n",
       "      <td>0</td>\n",
       "      <td>0</td>\n",
       "      <td>0</td>\n",
       "      <td>0</td>\n",
       "      <td>0</td>\n",
       "      <td>0</td>\n",
       "      <td>0</td>\n",
       "      <td>0</td>\n",
       "      <td>0</td>\n",
       "    </tr>\n",
       "    <tr>\n",
       "      <th>6</th>\n",
       "      <td>1003000530</td>\n",
       "      <td>0</td>\n",
       "      <td>18951.0</td>\n",
       "      <td>33</td>\n",
       "      <td>347</td>\n",
       "      <td>1485.0</td>\n",
       "      <td>234676.00</td>\n",
       "      <td>145869.56</td>\n",
       "      <td>106806.12</td>\n",
       "      <td>7.0</td>\n",
       "      <td>...</td>\n",
       "      <td>0</td>\n",
       "      <td>0</td>\n",
       "      <td>0</td>\n",
       "      <td>0</td>\n",
       "      <td>0</td>\n",
       "      <td>0</td>\n",
       "      <td>0</td>\n",
       "      <td>0</td>\n",
       "      <td>0</td>\n",
       "      <td>0</td>\n",
       "    </tr>\n",
       "  </tbody>\n",
       "</table>\n",
       "<p>5 rows × 146 columns</p>\n",
       "</div>"
      ],
      "text/plain": [
       "   Rndrng_NPI  Rndrng_Prvdr_Gndr  Rndrng_Prvdr_Zip5  Tot_HCPCS_Cds  Tot_Benes   \n",
       "0  1003000126                  1            21502.0             18        610  \\\n",
       "1  1003000134                  1            60201.0             20       3614   \n",
       "4  1003000480                  1            80045.0             30        104   \n",
       "5  1003000522                  1            32725.0             46        374   \n",
       "6  1003000530                  0            18951.0             33        347   \n",
       "\n",
       "   Tot_Srvcs  Tot_Sbmtd_Chrg  Tot_Mdcr_Alowd_Amt  Tot_Mdcr_Stdzd_Amt   \n",
       "0     1392.0       519136.00           156626.32           125266.10  \\\n",
       "1     7835.0      1213264.00           298905.09           218268.63   \n",
       "4      159.0       210964.25            40069.88            30002.44   \n",
       "5     1319.0       349343.44           112849.81            87218.20   \n",
       "6     1485.0       234676.00           145869.56           106806.12   \n",
       "\n",
       "   Drug_Tot_HCPCS_Cds  ...  Rndrng_Prvdr_Type_Slide Preparation Facility   \n",
       "0                 0.0  ...                                             0  \\\n",
       "1                 0.0  ...                                             0   \n",
       "4                 0.0  ...                                             0   \n",
       "5                 8.0  ...                                             0   \n",
       "6                 7.0  ...                                             0   \n",
       "\n",
       "   Rndrng_Prvdr_Type_Speech Language Pathologist   \n",
       "0                                              0  \\\n",
       "1                                              0   \n",
       "4                                              0   \n",
       "5                                              0   \n",
       "6                                              0   \n",
       "\n",
       "   Rndrng_Prvdr_Type_Sports Medicine  Rndrng_Prvdr_Type_Surgical Oncology   \n",
       "0                                  0                                    0  \\\n",
       "1                                  0                                    0   \n",
       "4                                  0                                    0   \n",
       "5                                  0                                    0   \n",
       "6                                  0                                    0   \n",
       "\n",
       "   Rndrng_Prvdr_Type_Thoracic Surgery   \n",
       "0                                   0  \\\n",
       "1                                   0   \n",
       "4                                   0   \n",
       "5                                   0   \n",
       "6                                   0   \n",
       "\n",
       "   Rndrng_Prvdr_Type_Undefined Physician type   \n",
       "0                                           0  \\\n",
       "1                                           0   \n",
       "4                                           0   \n",
       "5                                           0   \n",
       "6                                           0   \n",
       "\n",
       "   Rndrng_Prvdr_Type_Undersea and Hyperbaric Medicine   \n",
       "0                                                  0   \\\n",
       "1                                                  0    \n",
       "4                                                  0    \n",
       "5                                                  0    \n",
       "6                                                  0    \n",
       "\n",
       "   Rndrng_Prvdr_Type_Unknown Supplier/Provider Specialty   \n",
       "0                                                  0      \\\n",
       "1                                                  0       \n",
       "4                                                  0       \n",
       "5                                                  0       \n",
       "6                                                  0       \n",
       "\n",
       "   Rndrng_Prvdr_Type_Urology  Rndrng_Prvdr_Type_Vascular Surgery  \n",
       "0                          0                                   0  \n",
       "1                          0                                   0  \n",
       "4                          0                                   0  \n",
       "5                          0                                   0  \n",
       "6                          0                                   0  \n",
       "\n",
       "[5 rows x 146 columns]"
      ]
     },
     "execution_count": 72,
     "metadata": {},
     "output_type": "execute_result"
    }
   ],
   "source": [
    "data_df.head()"
   ]
  },
  {
   "cell_type": "markdown",
   "id": "2fd924f8-a0ff-4266-9603-45aa2c7d4797",
   "metadata": {},
   "source": [
    "## Add labels \n",
    "\n",
    "The LEIE database was downloaded from [here](https://oig.hhs.gov/exclusions/exclusions_list.asp) (5/10/2023 update). This is updated montly and indicates providers who are excluded from federally funded HC programs for various reasons. In line with prior work, use indicators most likely to be associated with Medicare fraud [source](https://journalofbigdata.springeropen.com/articles/10.1186/s40537-018-0138-3)."
   ]
  },
  {
   "cell_type": "code",
   "execution_count": 73,
   "id": "d1fe3bc5-aa1d-4536-91f5-c34dd8af9c39",
   "metadata": {},
   "outputs": [],
   "source": [
    "df_leie = pd.read_csv('../../data/raw/leie_5_10_2023.csv', low_memory=False)"
   ]
  },
  {
   "cell_type": "code",
   "execution_count": 74,
   "id": "881dff7d-75ad-4dc1-9b06-f8c2ced2ba8e",
   "metadata": {},
   "outputs": [],
   "source": [
    "# Drop irrelevant columns \n",
    "df_leie = df_leie.loc[:,['NPI','EXCLTYPE','EXCLDATE', 'WAIVERDATE']]\n",
    "\n",
    "#drop NPI = 0\n",
    "df_leie = df_leie[df_leie[\"NPI\"]>0]"
   ]
  },
  {
   "cell_type": "code",
   "execution_count": 75,
   "id": "981244e0-e3b6-44f6-8732-c196fe840a88",
   "metadata": {},
   "outputs": [],
   "source": [
    "# Remove whitespace and then only keep relevant exclusion codes \n",
    "df_leie['EXCLTYPE'] = df_leie['EXCLTYPE'].str.strip()\n",
    "df_leie = df_leie[df_leie['EXCLTYPE'].isin(['1128a1','1128a2','1128a3','1128b4','1128b7'])]"
   ]
  },
  {
   "cell_type": "code",
   "execution_count": 76,
   "id": "53bda426-d888-4807-ad9c-c5358f01ce2e",
   "metadata": {},
   "outputs": [
    {
     "data": {
      "text/plain": [
       "(5461, 4)"
      ]
     },
     "execution_count": 76,
     "metadata": {},
     "output_type": "execute_result"
    }
   ],
   "source": [
    "df_leie.shape"
   ]
  },
  {
   "cell_type": "code",
   "execution_count": 77,
   "id": "0af238cd-1a29-410c-8564-3e0898e4a793",
   "metadata": {},
   "outputs": [],
   "source": [
    "df_leie['exclusion_year'] = [x[0:4] for x in df_leie['EXCLDATE'].astype(str)]\n",
    "df_leie['exclusion_year'] = df_leie['exclusion_year'].astype(int)"
   ]
  },
  {
   "cell_type": "code",
   "execution_count": 78,
   "id": "363255af-0a77-4d38-942c-c9ae298765d9",
   "metadata": {},
   "outputs": [
    {
     "data": {
      "text/html": [
       "<div>\n",
       "<style scoped>\n",
       "    .dataframe tbody tr th:only-of-type {\n",
       "        vertical-align: middle;\n",
       "    }\n",
       "\n",
       "    .dataframe tbody tr th {\n",
       "        vertical-align: top;\n",
       "    }\n",
       "\n",
       "    .dataframe thead th {\n",
       "        text-align: right;\n",
       "    }\n",
       "</style>\n",
       "<table border=\"1\" class=\"dataframe\">\n",
       "  <thead>\n",
       "    <tr style=\"text-align: right;\">\n",
       "      <th></th>\n",
       "      <th>NPI</th>\n",
       "      <th>EXCLTYPE</th>\n",
       "      <th>EXCLDATE</th>\n",
       "      <th>WAIVERDATE</th>\n",
       "      <th>exclusion_year</th>\n",
       "    </tr>\n",
       "  </thead>\n",
       "  <tbody>\n",
       "    <tr>\n",
       "      <th>6</th>\n",
       "      <td>1922348218</td>\n",
       "      <td>1128a1</td>\n",
       "      <td>20180419</td>\n",
       "      <td>0</td>\n",
       "      <td>2018</td>\n",
       "    </tr>\n",
       "    <tr>\n",
       "      <th>30</th>\n",
       "      <td>1275600959</td>\n",
       "      <td>1128a1</td>\n",
       "      <td>20130320</td>\n",
       "      <td>0</td>\n",
       "      <td>2013</td>\n",
       "    </tr>\n",
       "    <tr>\n",
       "      <th>43</th>\n",
       "      <td>1265830335</td>\n",
       "      <td>1128a1</td>\n",
       "      <td>20220818</td>\n",
       "      <td>0</td>\n",
       "      <td>2022</td>\n",
       "    </tr>\n",
       "    <tr>\n",
       "      <th>63</th>\n",
       "      <td>1851631543</td>\n",
       "      <td>1128b7</td>\n",
       "      <td>20190326</td>\n",
       "      <td>0</td>\n",
       "      <td>2019</td>\n",
       "    </tr>\n",
       "    <tr>\n",
       "      <th>64</th>\n",
       "      <td>1902198435</td>\n",
       "      <td>1128a1</td>\n",
       "      <td>20160120</td>\n",
       "      <td>0</td>\n",
       "      <td>2016</td>\n",
       "    </tr>\n",
       "  </tbody>\n",
       "</table>\n",
       "</div>"
      ],
      "text/plain": [
       "           NPI EXCLTYPE  EXCLDATE  WAIVERDATE  exclusion_year\n",
       "6   1922348218   1128a1  20180419           0            2018\n",
       "30  1275600959   1128a1  20130320           0            2013\n",
       "43  1265830335   1128a1  20220818           0            2022\n",
       "63  1851631543   1128b7  20190326           0            2019\n",
       "64  1902198435   1128a1  20160120           0            2016"
      ]
     },
     "execution_count": 78,
     "metadata": {},
     "output_type": "execute_result"
    }
   ],
   "source": [
    "df_leie.head()"
   ]
  },
  {
   "cell_type": "code",
   "execution_count": 79,
   "id": "0b3ec791-7e92-4379-a24a-ecf982ded4f0",
   "metadata": {},
   "outputs": [
    {
     "data": {
      "text/plain": [
       "5389"
      ]
     },
     "execution_count": 79,
     "metadata": {},
     "output_type": "execute_result"
    }
   ],
   "source": [
    "len(df_leie['NPI'].unique())"
   ]
  },
  {
   "cell_type": "code",
   "execution_count": 80,
   "id": "cf9e25e3-5e6d-48dc-9209-ab6fad3dc1a7",
   "metadata": {},
   "outputs": [
    {
     "data": {
      "text/plain": [
       "1468"
      ]
     },
     "execution_count": 80,
     "metadata": {},
     "output_type": "execute_result"
    }
   ],
   "source": [
    "len(df_leie['NPI'][df_leie['exclusion_year'] >= 2020].unique())"
   ]
  },
  {
   "cell_type": "code",
   "execution_count": 82,
   "id": "903226b5-f4a1-4366-8224-d431b529160e",
   "metadata": {},
   "outputs": [],
   "source": [
    "df_leie_after_2019 = df_leie.loc[df_leie['exclusion_year'] >= 2020]"
   ]
  },
  {
   "cell_type": "code",
   "execution_count": 86,
   "id": "abf1e035-780f-434a-a0fb-583d3bf93cfb",
   "metadata": {},
   "outputs": [
    {
     "data": {
      "text/plain": [
       "1468"
      ]
     },
     "execution_count": 86,
     "metadata": {},
     "output_type": "execute_result"
    }
   ],
   "source": [
    "len(df_leie_after_2019['NPI'].unique())"
   ]
  },
  {
   "cell_type": "code",
   "execution_count": 90,
   "id": "2f55c120-f59f-4b08-ab1d-e1ef2eebb927",
   "metadata": {},
   "outputs": [
    {
     "name": "stderr",
     "output_type": "stream",
     "text": [
      "/var/folders/6m/dcb0chc94pl7hxnxbqp281jc0000gn/T/ipykernel_2701/2206586674.py:1: SettingWithCopyWarning: \n",
      "A value is trying to be set on a copy of a slice from a DataFrame.\n",
      "Try using .loc[row_indexer,col_indexer] = value instead\n",
      "\n",
      "See the caveats in the documentation: https://pandas.pydata.org/pandas-docs/stable/user_guide/indexing.html#returning-a-view-versus-a-copy\n",
      "  df_leie_after_2019['excluded'] = [1] * df_leie_after_2019.shape[0]\n"
     ]
    }
   ],
   "source": [
    "df_leie_after_2019['excluded'] = [1] * df_leie_after_2019.shape[0]"
   ]
  },
  {
   "cell_type": "code",
   "execution_count": 91,
   "id": "a6ae7a0d-92f5-4d31-9080-786d01c6340f",
   "metadata": {},
   "outputs": [
    {
     "data": {
      "text/html": [
       "<div>\n",
       "<style scoped>\n",
       "    .dataframe tbody tr th:only-of-type {\n",
       "        vertical-align: middle;\n",
       "    }\n",
       "\n",
       "    .dataframe tbody tr th {\n",
       "        vertical-align: top;\n",
       "    }\n",
       "\n",
       "    .dataframe thead th {\n",
       "        text-align: right;\n",
       "    }\n",
       "</style>\n",
       "<table border=\"1\" class=\"dataframe\">\n",
       "  <thead>\n",
       "    <tr style=\"text-align: right;\">\n",
       "      <th></th>\n",
       "      <th>NPI</th>\n",
       "      <th>EXCLTYPE</th>\n",
       "      <th>EXCLDATE</th>\n",
       "      <th>WAIVERDATE</th>\n",
       "      <th>exclusion_year</th>\n",
       "      <th>excluded</th>\n",
       "    </tr>\n",
       "  </thead>\n",
       "  <tbody>\n",
       "    <tr>\n",
       "      <th>43</th>\n",
       "      <td>1265830335</td>\n",
       "      <td>1128a1</td>\n",
       "      <td>20220818</td>\n",
       "      <td>0</td>\n",
       "      <td>2022</td>\n",
       "      <td>1</td>\n",
       "    </tr>\n",
       "    <tr>\n",
       "      <th>65</th>\n",
       "      <td>1073916631</td>\n",
       "      <td>1128b7</td>\n",
       "      <td>20210816</td>\n",
       "      <td>0</td>\n",
       "      <td>2021</td>\n",
       "      <td>1</td>\n",
       "    </tr>\n",
       "    <tr>\n",
       "      <th>80</th>\n",
       "      <td>1437510278</td>\n",
       "      <td>1128a1</td>\n",
       "      <td>20230420</td>\n",
       "      <td>0</td>\n",
       "      <td>2023</td>\n",
       "      <td>1</td>\n",
       "    </tr>\n",
       "    <tr>\n",
       "      <th>119</th>\n",
       "      <td>1801231436</td>\n",
       "      <td>1128a1</td>\n",
       "      <td>20211029</td>\n",
       "      <td>0</td>\n",
       "      <td>2021</td>\n",
       "      <td>1</td>\n",
       "    </tr>\n",
       "    <tr>\n",
       "      <th>139</th>\n",
       "      <td>1750442018</td>\n",
       "      <td>1128a1</td>\n",
       "      <td>20201020</td>\n",
       "      <td>0</td>\n",
       "      <td>2020</td>\n",
       "      <td>1</td>\n",
       "    </tr>\n",
       "  </tbody>\n",
       "</table>\n",
       "</div>"
      ],
      "text/plain": [
       "            NPI EXCLTYPE  EXCLDATE  WAIVERDATE  exclusion_year  excluded\n",
       "43   1265830335   1128a1  20220818           0            2022         1\n",
       "65   1073916631   1128b7  20210816           0            2021         1\n",
       "80   1437510278   1128a1  20230420           0            2023         1\n",
       "119  1801231436   1128a1  20211029           0            2021         1\n",
       "139  1750442018   1128a1  20201020           0            2020         1"
      ]
     },
     "execution_count": 91,
     "metadata": {},
     "output_type": "execute_result"
    }
   ],
   "source": [
    "df_leie_after_2019.head()"
   ]
  },
  {
   "cell_type": "markdown",
   "id": "4d32d747-b0b4-440d-ad50-bb347fa038e9",
   "metadata": {},
   "source": [
    "## Combine"
   ]
  },
  {
   "cell_type": "code",
   "execution_count": 104,
   "id": "ef1944cf-e758-4b77-a0f7-d13a916d3475",
   "metadata": {},
   "outputs": [],
   "source": [
    "combined_df = pd.merge(data_df, \n",
    "                       df_leie_after_2019.loc[:,['NPI', 'excluded']], \n",
    "                       left_on='Rndrng_NPI', \n",
    "                       right_on='NPI', \n",
    "                       how='left')\n",
    "combined_df = combined_df.drop(['NPI'], axis=1)"
   ]
  },
  {
   "cell_type": "code",
   "execution_count": 105,
   "id": "b9e7c6fb-6edf-4a0c-a332-7af5d8d3022b",
   "metadata": {},
   "outputs": [
    {
     "data": {
      "text/plain": [
       "(1915047, 147)"
      ]
     },
     "execution_count": 105,
     "metadata": {},
     "output_type": "execute_result"
    }
   ],
   "source": [
    "combined_df.shape"
   ]
  },
  {
   "cell_type": "code",
   "execution_count": 106,
   "id": "af1b2bc3-a9ec-4c2b-9427-ef32afca6b3e",
   "metadata": {},
   "outputs": [
    {
     "data": {
      "text/plain": [
       "(1915045, 146)"
      ]
     },
     "execution_count": 106,
     "metadata": {},
     "output_type": "execute_result"
    }
   ],
   "source": [
    "data_df.shape"
   ]
  },
  {
   "cell_type": "code",
   "execution_count": 107,
   "id": "68981047-457a-4c63-b5d3-a71e85b6cc97",
   "metadata": {},
   "outputs": [
    {
     "data": {
      "text/plain": [
       "0.0003047735504729085"
      ]
     },
     "execution_count": 107,
     "metadata": {},
     "output_type": "execute_result"
    }
   ],
   "source": [
    "# Proportion of positive cases\n",
    "num_fraudulent_providers = len(combined_df['Rndrng_NPI'][combined_df['excluded'] == 1].unique())\n",
    "num_fraudulent_providers/len(combined_df['Rndrng_NPI'].unique())"
   ]
  },
  {
   "cell_type": "code",
   "execution_count": 108,
   "id": "e6130bba-a5bf-4b3d-9fac-c2996860f5e2",
   "metadata": {},
   "outputs": [
    {
     "data": {
      "text/plain": [
       "329"
      ]
     },
     "execution_count": 108,
     "metadata": {},
     "output_type": "execute_result"
    }
   ],
   "source": [
    "num_fraudulent_providers"
   ]
  },
  {
   "cell_type": "code",
   "execution_count": 109,
   "id": "4041e2ee-d970-40a3-ad70-be88f27e3743",
   "metadata": {},
   "outputs": [
    {
     "data": {
      "text/plain": [
       "1079490"
      ]
     },
     "execution_count": 109,
     "metadata": {},
     "output_type": "execute_result"
    }
   ],
   "source": [
    "num_providers = len(combined_df['Rndrng_NPI'].unique())\n",
    "num_providers"
   ]
  },
  {
   "cell_type": "code",
   "execution_count": 120,
   "id": "f31a704d-c2bb-4099-8df4-2bb14eb378d0",
   "metadata": {},
   "outputs": [
    {
     "data": {
      "text/plain": [
       "Index(['Rndrng_NPI', 'Rndrng_Prvdr_Gndr', 'Rndrng_Prvdr_Zip5', 'Tot_HCPCS_Cds',\n",
       "       'Tot_Benes', 'Tot_Srvcs', 'Tot_Sbmtd_Chrg', 'Tot_Mdcr_Alowd_Amt',\n",
       "       'Tot_Mdcr_Stdzd_Amt', 'Drug_Tot_HCPCS_Cds',\n",
       "       ...\n",
       "       'Rndrng_Prvdr_Type_Speech Language Pathologist',\n",
       "       'Rndrng_Prvdr_Type_Sports Medicine',\n",
       "       'Rndrng_Prvdr_Type_Surgical Oncology',\n",
       "       'Rndrng_Prvdr_Type_Thoracic Surgery',\n",
       "       'Rndrng_Prvdr_Type_Undefined Physician type',\n",
       "       'Rndrng_Prvdr_Type_Undersea and Hyperbaric Medicine',\n",
       "       'Rndrng_Prvdr_Type_Unknown Supplier/Provider Specialty',\n",
       "       'Rndrng_Prvdr_Type_Urology', 'Rndrng_Prvdr_Type_Vascular Surgery',\n",
       "       'excluded'],\n",
       "      dtype='object', length=147)"
      ]
     },
     "execution_count": 120,
     "metadata": {},
     "output_type": "execute_result"
    }
   ],
   "source": [
    "combined_df.columns"
   ]
  },
  {
   "cell_type": "code",
   "execution_count": 121,
   "id": "ed1f7e6d-0ea6-42ed-887d-712133ba73bc",
   "metadata": {},
   "outputs": [],
   "source": [
    "combined_df['excluded'] = combined_df.excluded.fillna(0)"
   ]
  },
  {
   "cell_type": "code",
   "execution_count": 122,
   "id": "e68e0ed7-66c3-462b-843b-904d05473ae3",
   "metadata": {},
   "outputs": [
    {
     "data": {
      "text/html": [
       "<div>\n",
       "<style scoped>\n",
       "    .dataframe tbody tr th:only-of-type {\n",
       "        vertical-align: middle;\n",
       "    }\n",
       "\n",
       "    .dataframe tbody tr th {\n",
       "        vertical-align: top;\n",
       "    }\n",
       "\n",
       "    .dataframe thead th {\n",
       "        text-align: right;\n",
       "    }\n",
       "</style>\n",
       "<table border=\"1\" class=\"dataframe\">\n",
       "  <thead>\n",
       "    <tr style=\"text-align: right;\">\n",
       "      <th></th>\n",
       "      <th>Rndrng_NPI</th>\n",
       "      <th>Rndrng_Prvdr_Gndr</th>\n",
       "      <th>Rndrng_Prvdr_Zip5</th>\n",
       "      <th>Tot_HCPCS_Cds</th>\n",
       "      <th>Tot_Benes</th>\n",
       "      <th>Tot_Srvcs</th>\n",
       "      <th>Tot_Sbmtd_Chrg</th>\n",
       "      <th>Tot_Mdcr_Alowd_Amt</th>\n",
       "      <th>Tot_Mdcr_Stdzd_Amt</th>\n",
       "      <th>Drug_Tot_HCPCS_Cds</th>\n",
       "      <th>...</th>\n",
       "      <th>Rndrng_Prvdr_Type_Speech Language Pathologist</th>\n",
       "      <th>Rndrng_Prvdr_Type_Sports Medicine</th>\n",
       "      <th>Rndrng_Prvdr_Type_Surgical Oncology</th>\n",
       "      <th>Rndrng_Prvdr_Type_Thoracic Surgery</th>\n",
       "      <th>Rndrng_Prvdr_Type_Undefined Physician type</th>\n",
       "      <th>Rndrng_Prvdr_Type_Undersea and Hyperbaric Medicine</th>\n",
       "      <th>Rndrng_Prvdr_Type_Unknown Supplier/Provider Specialty</th>\n",
       "      <th>Rndrng_Prvdr_Type_Urology</th>\n",
       "      <th>Rndrng_Prvdr_Type_Vascular Surgery</th>\n",
       "      <th>excluded</th>\n",
       "    </tr>\n",
       "  </thead>\n",
       "  <tbody>\n",
       "    <tr>\n",
       "      <th>0</th>\n",
       "      <td>1003000126</td>\n",
       "      <td>1</td>\n",
       "      <td>21502.0</td>\n",
       "      <td>18</td>\n",
       "      <td>610</td>\n",
       "      <td>1392.0</td>\n",
       "      <td>519136.00</td>\n",
       "      <td>156626.32</td>\n",
       "      <td>125266.10</td>\n",
       "      <td>0.0</td>\n",
       "      <td>...</td>\n",
       "      <td>0</td>\n",
       "      <td>0</td>\n",
       "      <td>0</td>\n",
       "      <td>0</td>\n",
       "      <td>0</td>\n",
       "      <td>0</td>\n",
       "      <td>0</td>\n",
       "      <td>0</td>\n",
       "      <td>0</td>\n",
       "      <td>0.0</td>\n",
       "    </tr>\n",
       "    <tr>\n",
       "      <th>1</th>\n",
       "      <td>1003000134</td>\n",
       "      <td>1</td>\n",
       "      <td>60201.0</td>\n",
       "      <td>20</td>\n",
       "      <td>3614</td>\n",
       "      <td>7835.0</td>\n",
       "      <td>1213264.00</td>\n",
       "      <td>298905.09</td>\n",
       "      <td>218268.63</td>\n",
       "      <td>0.0</td>\n",
       "      <td>...</td>\n",
       "      <td>0</td>\n",
       "      <td>0</td>\n",
       "      <td>0</td>\n",
       "      <td>0</td>\n",
       "      <td>0</td>\n",
       "      <td>0</td>\n",
       "      <td>0</td>\n",
       "      <td>0</td>\n",
       "      <td>0</td>\n",
       "      <td>0.0</td>\n",
       "    </tr>\n",
       "    <tr>\n",
       "      <th>2</th>\n",
       "      <td>1003000480</td>\n",
       "      <td>1</td>\n",
       "      <td>80045.0</td>\n",
       "      <td>30</td>\n",
       "      <td>104</td>\n",
       "      <td>159.0</td>\n",
       "      <td>210964.25</td>\n",
       "      <td>40069.88</td>\n",
       "      <td>30002.44</td>\n",
       "      <td>0.0</td>\n",
       "      <td>...</td>\n",
       "      <td>0</td>\n",
       "      <td>0</td>\n",
       "      <td>0</td>\n",
       "      <td>0</td>\n",
       "      <td>0</td>\n",
       "      <td>0</td>\n",
       "      <td>0</td>\n",
       "      <td>0</td>\n",
       "      <td>0</td>\n",
       "      <td>0.0</td>\n",
       "    </tr>\n",
       "    <tr>\n",
       "      <th>3</th>\n",
       "      <td>1003000522</td>\n",
       "      <td>1</td>\n",
       "      <td>32725.0</td>\n",
       "      <td>46</td>\n",
       "      <td>374</td>\n",
       "      <td>1319.0</td>\n",
       "      <td>349343.44</td>\n",
       "      <td>112849.81</td>\n",
       "      <td>87218.20</td>\n",
       "      <td>8.0</td>\n",
       "      <td>...</td>\n",
       "      <td>0</td>\n",
       "      <td>0</td>\n",
       "      <td>0</td>\n",
       "      <td>0</td>\n",
       "      <td>0</td>\n",
       "      <td>0</td>\n",
       "      <td>0</td>\n",
       "      <td>0</td>\n",
       "      <td>0</td>\n",
       "      <td>0.0</td>\n",
       "    </tr>\n",
       "    <tr>\n",
       "      <th>4</th>\n",
       "      <td>1003000530</td>\n",
       "      <td>0</td>\n",
       "      <td>18951.0</td>\n",
       "      <td>33</td>\n",
       "      <td>347</td>\n",
       "      <td>1485.0</td>\n",
       "      <td>234676.00</td>\n",
       "      <td>145869.56</td>\n",
       "      <td>106806.12</td>\n",
       "      <td>7.0</td>\n",
       "      <td>...</td>\n",
       "      <td>0</td>\n",
       "      <td>0</td>\n",
       "      <td>0</td>\n",
       "      <td>0</td>\n",
       "      <td>0</td>\n",
       "      <td>0</td>\n",
       "      <td>0</td>\n",
       "      <td>0</td>\n",
       "      <td>0</td>\n",
       "      <td>0.0</td>\n",
       "    </tr>\n",
       "  </tbody>\n",
       "</table>\n",
       "<p>5 rows × 147 columns</p>\n",
       "</div>"
      ],
      "text/plain": [
       "   Rndrng_NPI  Rndrng_Prvdr_Gndr  Rndrng_Prvdr_Zip5  Tot_HCPCS_Cds  Tot_Benes   \n",
       "0  1003000126                  1            21502.0             18        610  \\\n",
       "1  1003000134                  1            60201.0             20       3614   \n",
       "2  1003000480                  1            80045.0             30        104   \n",
       "3  1003000522                  1            32725.0             46        374   \n",
       "4  1003000530                  0            18951.0             33        347   \n",
       "\n",
       "   Tot_Srvcs  Tot_Sbmtd_Chrg  Tot_Mdcr_Alowd_Amt  Tot_Mdcr_Stdzd_Amt   \n",
       "0     1392.0       519136.00           156626.32           125266.10  \\\n",
       "1     7835.0      1213264.00           298905.09           218268.63   \n",
       "2      159.0       210964.25            40069.88            30002.44   \n",
       "3     1319.0       349343.44           112849.81            87218.20   \n",
       "4     1485.0       234676.00           145869.56           106806.12   \n",
       "\n",
       "   Drug_Tot_HCPCS_Cds  ...  Rndrng_Prvdr_Type_Speech Language Pathologist   \n",
       "0                 0.0  ...                                              0  \\\n",
       "1                 0.0  ...                                              0   \n",
       "2                 0.0  ...                                              0   \n",
       "3                 8.0  ...                                              0   \n",
       "4                 7.0  ...                                              0   \n",
       "\n",
       "   Rndrng_Prvdr_Type_Sports Medicine  Rndrng_Prvdr_Type_Surgical Oncology   \n",
       "0                                  0                                    0  \\\n",
       "1                                  0                                    0   \n",
       "2                                  0                                    0   \n",
       "3                                  0                                    0   \n",
       "4                                  0                                    0   \n",
       "\n",
       "   Rndrng_Prvdr_Type_Thoracic Surgery   \n",
       "0                                   0  \\\n",
       "1                                   0   \n",
       "2                                   0   \n",
       "3                                   0   \n",
       "4                                   0   \n",
       "\n",
       "   Rndrng_Prvdr_Type_Undefined Physician type   \n",
       "0                                           0  \\\n",
       "1                                           0   \n",
       "2                                           0   \n",
       "3                                           0   \n",
       "4                                           0   \n",
       "\n",
       "   Rndrng_Prvdr_Type_Undersea and Hyperbaric Medicine   \n",
       "0                                                  0   \\\n",
       "1                                                  0    \n",
       "2                                                  0    \n",
       "3                                                  0    \n",
       "4                                                  0    \n",
       "\n",
       "   Rndrng_Prvdr_Type_Unknown Supplier/Provider Specialty   \n",
       "0                                                  0      \\\n",
       "1                                                  0       \n",
       "2                                                  0       \n",
       "3                                                  0       \n",
       "4                                                  0       \n",
       "\n",
       "   Rndrng_Prvdr_Type_Urology  Rndrng_Prvdr_Type_Vascular Surgery  excluded  \n",
       "0                          0                                   0       0.0  \n",
       "1                          0                                   0       0.0  \n",
       "2                          0                                   0       0.0  \n",
       "3                          0                                   0       0.0  \n",
       "4                          0                                   0       0.0  \n",
       "\n",
       "[5 rows x 147 columns]"
      ]
     },
     "execution_count": 122,
     "metadata": {},
     "output_type": "execute_result"
    }
   ],
   "source": [
    "combined_df.head()"
   ]
  },
  {
   "cell_type": "code",
   "execution_count": 125,
   "id": "f8588cec-5a55-4f63-91b5-32f79b85750e",
   "metadata": {},
   "outputs": [
    {
     "data": {
      "text/plain": [
       "excluded\n",
       "0.0    1914523\n",
       "1.0        524\n",
       "dtype: int64"
      ]
     },
     "execution_count": 125,
     "metadata": {},
     "output_type": "execute_result"
    }
   ],
   "source": [
    "combined_df.groupby(['excluded']).size()"
   ]
  },
  {
   "cell_type": "code",
   "execution_count": 126,
   "id": "cd217f7a-9b50-4609-8155-d41f91cbe16c",
   "metadata": {},
   "outputs": [],
   "source": [
    "combined_df.to_csv('../../data/processed/combined_processed_data.csv', \n",
    "                   index=False)"
   ]
  },
  {
   "cell_type": "code",
   "execution_count": null,
   "id": "8abb36f1-0f8a-461c-9192-51dec81378e2",
   "metadata": {},
   "outputs": [],
   "source": []
  },
  {
   "cell_type": "code",
   "execution_count": null,
   "id": "2ceb1344-bc5b-47fc-8080-e67cb792bcba",
   "metadata": {},
   "outputs": [],
   "source": []
  },
  {
   "cell_type": "code",
   "execution_count": null,
   "id": "a64d1433-7efd-463f-8f9f-031fa28b1b85",
   "metadata": {},
   "outputs": [],
   "source": []
  },
  {
   "cell_type": "code",
   "execution_count": null,
   "id": "b778a063-79a8-4f5b-a35f-cdc4c95f06df",
   "metadata": {},
   "outputs": [],
   "source": []
  },
  {
   "cell_type": "code",
   "execution_count": null,
   "id": "1912f2c9-b699-4e37-a5aa-ed47bc3d81de",
   "metadata": {},
   "outputs": [],
   "source": []
  },
  {
   "cell_type": "code",
   "execution_count": null,
   "id": "82f6dfbb-8dbd-4a2e-b133-f35b804a715c",
   "metadata": {},
   "outputs": [],
   "source": []
  },
  {
   "cell_type": "code",
   "execution_count": null,
   "id": "1c173642-a255-4a1a-b850-a41422edbf51",
   "metadata": {},
   "outputs": [],
   "source": []
  }
 ],
 "metadata": {
  "kernelspec": {
   "display_name": "Python (cs230 proj)",
   "language": "python",
   "name": "myenv"
  },
  "language_info": {
   "codemirror_mode": {
    "name": "ipython",
    "version": 3
   },
   "file_extension": ".py",
   "mimetype": "text/x-python",
   "name": "python",
   "nbconvert_exporter": "python",
   "pygments_lexer": "ipython3",
   "version": "3.10.11"
  }
 },
 "nbformat": 4,
 "nbformat_minor": 5
}
