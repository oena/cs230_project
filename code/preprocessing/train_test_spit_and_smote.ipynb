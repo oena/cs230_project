{
 "cells": [
  {
   "cell_type": "markdown",
   "id": "6230b7a0-5b46-43df-8129-d08fd81563e0",
   "metadata": {},
   "source": [
    "## Train test split of data and smote "
   ]
  },
  {
   "cell_type": "code",
   "execution_count": 8,
   "id": "6628fe20-c8bd-46fc-9c4f-f31f4c91f5a8",
   "metadata": {},
   "outputs": [],
   "source": [
    "import pandas as pd\n",
    "from sklearn.model_selection import train_test_split\n",
    "import imblearn\n",
    "import os"
   ]
  },
  {
   "cell_type": "code",
   "execution_count": 9,
   "id": "feb489b1-325f-4226-8a94-da0a720d66a3",
   "metadata": {},
   "outputs": [
    {
     "data": {
      "text/plain": [
       "'/Users/oana/Documents/Stanford/Spring2023/CS230/final_project/cs230_project/code/preprocessing'"
      ]
     },
     "execution_count": 9,
     "metadata": {},
     "output_type": "execute_result"
    }
   ],
   "source": [
    "os.getcwd()"
   ]
  },
  {
   "cell_type": "markdown",
   "id": "1ef0941f-f451-44bb-a782-10252ab43e79",
   "metadata": {},
   "source": [
    "## read in data"
   ]
  },
  {
   "cell_type": "code",
   "execution_count": 10,
   "id": "0196a384-a590-4c76-bd98-b5e95edad5e5",
   "metadata": {},
   "outputs": [],
   "source": [
    "data_df = pd.read_csv('../../data/processed/combined_processed_data.csv')"
   ]
  },
  {
   "cell_type": "code",
   "execution_count": 11,
   "id": "f52df407-32ef-4087-9871-ae9a0e91515a",
   "metadata": {},
   "outputs": [
    {
     "data": {
      "text/html": [
       "<div>\n",
       "<style scoped>\n",
       "    .dataframe tbody tr th:only-of-type {\n",
       "        vertical-align: middle;\n",
       "    }\n",
       "\n",
       "    .dataframe tbody tr th {\n",
       "        vertical-align: top;\n",
       "    }\n",
       "\n",
       "    .dataframe thead th {\n",
       "        text-align: right;\n",
       "    }\n",
       "</style>\n",
       "<table border=\"1\" class=\"dataframe\">\n",
       "  <thead>\n",
       "    <tr style=\"text-align: right;\">\n",
       "      <th></th>\n",
       "      <th>Rndrng_NPI</th>\n",
       "      <th>Rndrng_Prvdr_Gndr</th>\n",
       "      <th>Rndrng_Prvdr_Zip5</th>\n",
       "      <th>Tot_HCPCS_Cds</th>\n",
       "      <th>Tot_Benes</th>\n",
       "      <th>Tot_Srvcs</th>\n",
       "      <th>Tot_Sbmtd_Chrg</th>\n",
       "      <th>Tot_Mdcr_Alowd_Amt</th>\n",
       "      <th>Tot_Mdcr_Stdzd_Amt</th>\n",
       "      <th>Drug_Tot_HCPCS_Cds</th>\n",
       "      <th>...</th>\n",
       "      <th>Rndrng_Prvdr_Type_Speech Language Pathologist</th>\n",
       "      <th>Rndrng_Prvdr_Type_Sports Medicine</th>\n",
       "      <th>Rndrng_Prvdr_Type_Surgical Oncology</th>\n",
       "      <th>Rndrng_Prvdr_Type_Thoracic Surgery</th>\n",
       "      <th>Rndrng_Prvdr_Type_Undefined Physician type</th>\n",
       "      <th>Rndrng_Prvdr_Type_Undersea and Hyperbaric Medicine</th>\n",
       "      <th>Rndrng_Prvdr_Type_Unknown Supplier/Provider Specialty</th>\n",
       "      <th>Rndrng_Prvdr_Type_Urology</th>\n",
       "      <th>Rndrng_Prvdr_Type_Vascular Surgery</th>\n",
       "      <th>excluded</th>\n",
       "    </tr>\n",
       "  </thead>\n",
       "  <tbody>\n",
       "    <tr>\n",
       "      <th>0</th>\n",
       "      <td>1003000126</td>\n",
       "      <td>1</td>\n",
       "      <td>21502.0</td>\n",
       "      <td>18</td>\n",
       "      <td>610</td>\n",
       "      <td>1392.0</td>\n",
       "      <td>519136.00</td>\n",
       "      <td>156626.32</td>\n",
       "      <td>125266.10</td>\n",
       "      <td>0.0</td>\n",
       "      <td>...</td>\n",
       "      <td>0</td>\n",
       "      <td>0</td>\n",
       "      <td>0</td>\n",
       "      <td>0</td>\n",
       "      <td>0</td>\n",
       "      <td>0</td>\n",
       "      <td>0</td>\n",
       "      <td>0</td>\n",
       "      <td>0</td>\n",
       "      <td>0.0</td>\n",
       "    </tr>\n",
       "    <tr>\n",
       "      <th>1</th>\n",
       "      <td>1003000134</td>\n",
       "      <td>1</td>\n",
       "      <td>60201.0</td>\n",
       "      <td>20</td>\n",
       "      <td>3614</td>\n",
       "      <td>7835.0</td>\n",
       "      <td>1213264.00</td>\n",
       "      <td>298905.09</td>\n",
       "      <td>218268.63</td>\n",
       "      <td>0.0</td>\n",
       "      <td>...</td>\n",
       "      <td>0</td>\n",
       "      <td>0</td>\n",
       "      <td>0</td>\n",
       "      <td>0</td>\n",
       "      <td>0</td>\n",
       "      <td>0</td>\n",
       "      <td>0</td>\n",
       "      <td>0</td>\n",
       "      <td>0</td>\n",
       "      <td>0.0</td>\n",
       "    </tr>\n",
       "    <tr>\n",
       "      <th>2</th>\n",
       "      <td>1003000480</td>\n",
       "      <td>1</td>\n",
       "      <td>80045.0</td>\n",
       "      <td>30</td>\n",
       "      <td>104</td>\n",
       "      <td>159.0</td>\n",
       "      <td>210964.25</td>\n",
       "      <td>40069.88</td>\n",
       "      <td>30002.44</td>\n",
       "      <td>0.0</td>\n",
       "      <td>...</td>\n",
       "      <td>0</td>\n",
       "      <td>0</td>\n",
       "      <td>0</td>\n",
       "      <td>0</td>\n",
       "      <td>0</td>\n",
       "      <td>0</td>\n",
       "      <td>0</td>\n",
       "      <td>0</td>\n",
       "      <td>0</td>\n",
       "      <td>0.0</td>\n",
       "    </tr>\n",
       "    <tr>\n",
       "      <th>3</th>\n",
       "      <td>1003000522</td>\n",
       "      <td>1</td>\n",
       "      <td>32725.0</td>\n",
       "      <td>46</td>\n",
       "      <td>374</td>\n",
       "      <td>1319.0</td>\n",
       "      <td>349343.44</td>\n",
       "      <td>112849.81</td>\n",
       "      <td>87218.20</td>\n",
       "      <td>8.0</td>\n",
       "      <td>...</td>\n",
       "      <td>0</td>\n",
       "      <td>0</td>\n",
       "      <td>0</td>\n",
       "      <td>0</td>\n",
       "      <td>0</td>\n",
       "      <td>0</td>\n",
       "      <td>0</td>\n",
       "      <td>0</td>\n",
       "      <td>0</td>\n",
       "      <td>0.0</td>\n",
       "    </tr>\n",
       "    <tr>\n",
       "      <th>4</th>\n",
       "      <td>1003000530</td>\n",
       "      <td>0</td>\n",
       "      <td>18951.0</td>\n",
       "      <td>33</td>\n",
       "      <td>347</td>\n",
       "      <td>1485.0</td>\n",
       "      <td>234676.00</td>\n",
       "      <td>145869.56</td>\n",
       "      <td>106806.12</td>\n",
       "      <td>7.0</td>\n",
       "      <td>...</td>\n",
       "      <td>0</td>\n",
       "      <td>0</td>\n",
       "      <td>0</td>\n",
       "      <td>0</td>\n",
       "      <td>0</td>\n",
       "      <td>0</td>\n",
       "      <td>0</td>\n",
       "      <td>0</td>\n",
       "      <td>0</td>\n",
       "      <td>0.0</td>\n",
       "    </tr>\n",
       "  </tbody>\n",
       "</table>\n",
       "<p>5 rows × 147 columns</p>\n",
       "</div>"
      ],
      "text/plain": [
       "   Rndrng_NPI  Rndrng_Prvdr_Gndr  Rndrng_Prvdr_Zip5  Tot_HCPCS_Cds  Tot_Benes   \n",
       "0  1003000126                  1            21502.0             18        610  \\\n",
       "1  1003000134                  1            60201.0             20       3614   \n",
       "2  1003000480                  1            80045.0             30        104   \n",
       "3  1003000522                  1            32725.0             46        374   \n",
       "4  1003000530                  0            18951.0             33        347   \n",
       "\n",
       "   Tot_Srvcs  Tot_Sbmtd_Chrg  Tot_Mdcr_Alowd_Amt  Tot_Mdcr_Stdzd_Amt   \n",
       "0     1392.0       519136.00           156626.32           125266.10  \\\n",
       "1     7835.0      1213264.00           298905.09           218268.63   \n",
       "2      159.0       210964.25            40069.88            30002.44   \n",
       "3     1319.0       349343.44           112849.81            87218.20   \n",
       "4     1485.0       234676.00           145869.56           106806.12   \n",
       "\n",
       "   Drug_Tot_HCPCS_Cds  ...  Rndrng_Prvdr_Type_Speech Language Pathologist   \n",
       "0                 0.0  ...                                              0  \\\n",
       "1                 0.0  ...                                              0   \n",
       "2                 0.0  ...                                              0   \n",
       "3                 8.0  ...                                              0   \n",
       "4                 7.0  ...                                              0   \n",
       "\n",
       "   Rndrng_Prvdr_Type_Sports Medicine  Rndrng_Prvdr_Type_Surgical Oncology   \n",
       "0                                  0                                    0  \\\n",
       "1                                  0                                    0   \n",
       "2                                  0                                    0   \n",
       "3                                  0                                    0   \n",
       "4                                  0                                    0   \n",
       "\n",
       "   Rndrng_Prvdr_Type_Thoracic Surgery   \n",
       "0                                   0  \\\n",
       "1                                   0   \n",
       "2                                   0   \n",
       "3                                   0   \n",
       "4                                   0   \n",
       "\n",
       "   Rndrng_Prvdr_Type_Undefined Physician type   \n",
       "0                                           0  \\\n",
       "1                                           0   \n",
       "2                                           0   \n",
       "3                                           0   \n",
       "4                                           0   \n",
       "\n",
       "   Rndrng_Prvdr_Type_Undersea and Hyperbaric Medicine   \n",
       "0                                                  0   \\\n",
       "1                                                  0    \n",
       "2                                                  0    \n",
       "3                                                  0    \n",
       "4                                                  0    \n",
       "\n",
       "   Rndrng_Prvdr_Type_Unknown Supplier/Provider Specialty   \n",
       "0                                                  0      \\\n",
       "1                                                  0       \n",
       "2                                                  0       \n",
       "3                                                  0       \n",
       "4                                                  0       \n",
       "\n",
       "   Rndrng_Prvdr_Type_Urology  Rndrng_Prvdr_Type_Vascular Surgery  excluded  \n",
       "0                          0                                   0       0.0  \n",
       "1                          0                                   0       0.0  \n",
       "2                          0                                   0       0.0  \n",
       "3                          0                                   0       0.0  \n",
       "4                          0                                   0       0.0  \n",
       "\n",
       "[5 rows x 147 columns]"
      ]
     },
     "execution_count": 11,
     "metadata": {},
     "output_type": "execute_result"
    }
   ],
   "source": [
    "data_df.head()"
   ]
  },
  {
   "cell_type": "code",
   "execution_count": 13,
   "id": "8625ee37-02f0-45f3-954b-1d67d2d211a0",
   "metadata": {},
   "outputs": [],
   "source": [
    "y = data_df['excluded']\n",
    "X = data_df.drop(['excluded'], axis=1)"
   ]
  },
  {
   "cell_type": "code",
   "execution_count": 21,
   "id": "bbdffb1c-5006-476b-a1ed-f413e0b1a0cd",
   "metadata": {},
   "outputs": [],
   "source": [
    "X_train, X_test, y_train, y_test = train_test_split(X, y,\n",
    "                                                    stratify=y, \n",
    "                                                    test_size=0.05)"
   ]
  },
  {
   "cell_type": "code",
   "execution_count": 22,
   "id": "ec2b801d-a9ad-45b0-93f4-8b15e875ec4a",
   "metadata": {},
   "outputs": [
    {
     "data": {
      "text/plain": [
       "26.0"
      ]
     },
     "execution_count": 22,
     "metadata": {},
     "output_type": "execute_result"
    }
   ],
   "source": [
    "sum(y_test)"
   ]
  },
  {
   "cell_type": "code",
   "execution_count": 23,
   "id": "0eb6f28a-b6b6-4a4a-bf24-d7311387a508",
   "metadata": {},
   "outputs": [
    {
     "data": {
      "text/plain": [
       "498.0"
      ]
     },
     "execution_count": 23,
     "metadata": {},
     "output_type": "execute_result"
    }
   ],
   "source": [
    "sum(y_train)"
   ]
  },
  {
   "cell_type": "code",
   "execution_count": null,
   "id": "591e21c7-8311-4bee-8276-31a913e5479a",
   "metadata": {},
   "outputs": [],
   "source": []
  }
 ],
 "metadata": {
  "kernelspec": {
   "display_name": "Python (cs230 proj)",
   "language": "python",
   "name": "myenv"
  },
  "language_info": {
   "codemirror_mode": {
    "name": "ipython",
    "version": 3
   },
   "file_extension": ".py",
   "mimetype": "text/x-python",
   "name": "python",
   "nbconvert_exporter": "python",
   "pygments_lexer": "ipython3",
   "version": "3.10.11"
  }
 },
 "nbformat": 4,
 "nbformat_minor": 5
}
