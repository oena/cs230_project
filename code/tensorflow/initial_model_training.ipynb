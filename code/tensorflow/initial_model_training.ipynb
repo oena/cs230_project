{
 "cells": [
  {
   "cell_type": "code",
   "execution_count": 21,
   "id": "107be20b-7b7c-4177-bf44-840a51439dbc",
   "metadata": {},
   "outputs": [
    {
     "name": "stdout",
     "output_type": "stream",
     "text": [
      "TensorFlow version: 2.12.0\n"
     ]
    }
   ],
   "source": [
    "import os\n",
    "import numpy as np\n",
    "import pandas as pd\n",
    "import tensorflow as tf\n",
    "from tensorflow import keras\n",
    "print(\"TensorFlow version:\", tf.__version__)"
   ]
  },
  {
   "cell_type": "markdown",
   "id": "32193a5c-1ca9-43ce-8f3e-9f94528b227e",
   "metadata": {},
   "source": [
    "## Load data "
   ]
  },
  {
   "cell_type": "code",
   "execution_count": 7,
   "id": "0188772f-ffaf-4e92-b5b2-0b66e3c240af",
   "metadata": {},
   "outputs": [
    {
     "data": {
      "text/plain": [
       "'/Users/oana/Documents/Stanford/Spring2023/CS230/final_project/cs230_project/code/tensorflow'"
      ]
     },
     "execution_count": 7,
     "metadata": {},
     "output_type": "execute_result"
    }
   ],
   "source": [
    "os.getcwd()"
   ]
  },
  {
   "cell_type": "code",
   "execution_count": 23,
   "id": "507ba5e3-b52a-41a6-b506-b59fec5d54a3",
   "metadata": {},
   "outputs": [],
   "source": [
    "X_train = pd.read_csv('../../data/processed/X_train.csv')\n",
    "y_train = pd.read_csv('../../data/processed/y_train.csv')"
   ]
  },
  {
   "cell_type": "code",
   "execution_count": 12,
   "id": "a508ef22-e74d-41b6-86aa-d6364a102ca6",
   "metadata": {},
   "outputs": [
    {
     "data": {
      "text/html": [
       "<div>\n",
       "<style scoped>\n",
       "    .dataframe tbody tr th:only-of-type {\n",
       "        vertical-align: middle;\n",
       "    }\n",
       "\n",
       "    .dataframe tbody tr th {\n",
       "        vertical-align: top;\n",
       "    }\n",
       "\n",
       "    .dataframe thead th {\n",
       "        text-align: right;\n",
       "    }\n",
       "</style>\n",
       "<table border=\"1\" class=\"dataframe\">\n",
       "  <thead>\n",
       "    <tr style=\"text-align: right;\">\n",
       "      <th></th>\n",
       "      <th>Rndrng_NPI</th>\n",
       "      <th>Rndrng_Prvdr_Gndr</th>\n",
       "      <th>Rndrng_Prvdr_Zip5</th>\n",
       "      <th>Tot_HCPCS_Cds</th>\n",
       "      <th>Tot_Benes</th>\n",
       "      <th>Tot_Srvcs</th>\n",
       "      <th>Tot_Sbmtd_Chrg</th>\n",
       "      <th>Tot_Mdcr_Alowd_Amt</th>\n",
       "      <th>Tot_Mdcr_Stdzd_Amt</th>\n",
       "      <th>Drug_Tot_HCPCS_Cds</th>\n",
       "      <th>...</th>\n",
       "      <th>Rndrng_Prvdr_Type_Slide Preparation Facility</th>\n",
       "      <th>Rndrng_Prvdr_Type_Speech Language Pathologist</th>\n",
       "      <th>Rndrng_Prvdr_Type_Sports Medicine</th>\n",
       "      <th>Rndrng_Prvdr_Type_Surgical Oncology</th>\n",
       "      <th>Rndrng_Prvdr_Type_Thoracic Surgery</th>\n",
       "      <th>Rndrng_Prvdr_Type_Undefined Physician type</th>\n",
       "      <th>Rndrng_Prvdr_Type_Undersea and Hyperbaric Medicine</th>\n",
       "      <th>Rndrng_Prvdr_Type_Unknown Supplier/Provider Specialty</th>\n",
       "      <th>Rndrng_Prvdr_Type_Urology</th>\n",
       "      <th>Rndrng_Prvdr_Type_Vascular Surgery</th>\n",
       "    </tr>\n",
       "  </thead>\n",
       "  <tbody>\n",
       "    <tr>\n",
       "      <th>0</th>\n",
       "      <td>1154385557</td>\n",
       "      <td>1</td>\n",
       "      <td>50266.0</td>\n",
       "      <td>51</td>\n",
       "      <td>637</td>\n",
       "      <td>4705.0</td>\n",
       "      <td>1438282.53</td>\n",
       "      <td>330963.03</td>\n",
       "      <td>271736.89</td>\n",
       "      <td>6.0</td>\n",
       "      <td>...</td>\n",
       "      <td>0</td>\n",
       "      <td>0</td>\n",
       "      <td>0</td>\n",
       "      <td>0</td>\n",
       "      <td>0</td>\n",
       "      <td>0</td>\n",
       "      <td>0</td>\n",
       "      <td>0</td>\n",
       "      <td>0</td>\n",
       "      <td>0</td>\n",
       "    </tr>\n",
       "    <tr>\n",
       "      <th>1</th>\n",
       "      <td>1336409887</td>\n",
       "      <td>0</td>\n",
       "      <td>10457.0</td>\n",
       "      <td>20</td>\n",
       "      <td>297</td>\n",
       "      <td>1256.0</td>\n",
       "      <td>147861.00</td>\n",
       "      <td>56649.57</td>\n",
       "      <td>40377.33</td>\n",
       "      <td>0.0</td>\n",
       "      <td>...</td>\n",
       "      <td>0</td>\n",
       "      <td>0</td>\n",
       "      <td>0</td>\n",
       "      <td>0</td>\n",
       "      <td>0</td>\n",
       "      <td>0</td>\n",
       "      <td>0</td>\n",
       "      <td>0</td>\n",
       "      <td>0</td>\n",
       "      <td>0</td>\n",
       "    </tr>\n",
       "    <tr>\n",
       "      <th>2</th>\n",
       "      <td>1992947139</td>\n",
       "      <td>0</td>\n",
       "      <td>28480.0</td>\n",
       "      <td>6</td>\n",
       "      <td>54</td>\n",
       "      <td>3849.0</td>\n",
       "      <td>132698.92</td>\n",
       "      <td>109437.86</td>\n",
       "      <td>89860.75</td>\n",
       "      <td>0.0</td>\n",
       "      <td>...</td>\n",
       "      <td>0</td>\n",
       "      <td>0</td>\n",
       "      <td>0</td>\n",
       "      <td>0</td>\n",
       "      <td>0</td>\n",
       "      <td>0</td>\n",
       "      <td>0</td>\n",
       "      <td>0</td>\n",
       "      <td>0</td>\n",
       "      <td>0</td>\n",
       "    </tr>\n",
       "    <tr>\n",
       "      <th>3</th>\n",
       "      <td>1710395058</td>\n",
       "      <td>0</td>\n",
       "      <td>53098.0</td>\n",
       "      <td>20</td>\n",
       "      <td>248</td>\n",
       "      <td>668.0</td>\n",
       "      <td>95485.00</td>\n",
       "      <td>34351.16</td>\n",
       "      <td>24858.06</td>\n",
       "      <td>0.0</td>\n",
       "      <td>...</td>\n",
       "      <td>0</td>\n",
       "      <td>0</td>\n",
       "      <td>0</td>\n",
       "      <td>0</td>\n",
       "      <td>0</td>\n",
       "      <td>0</td>\n",
       "      <td>0</td>\n",
       "      <td>0</td>\n",
       "      <td>0</td>\n",
       "      <td>0</td>\n",
       "    </tr>\n",
       "    <tr>\n",
       "      <th>4</th>\n",
       "      <td>1346279965</td>\n",
       "      <td>1</td>\n",
       "      <td>31405.0</td>\n",
       "      <td>22</td>\n",
       "      <td>284</td>\n",
       "      <td>560.0</td>\n",
       "      <td>203149.00</td>\n",
       "      <td>62637.00</td>\n",
       "      <td>49052.22</td>\n",
       "      <td>0.0</td>\n",
       "      <td>...</td>\n",
       "      <td>0</td>\n",
       "      <td>0</td>\n",
       "      <td>0</td>\n",
       "      <td>0</td>\n",
       "      <td>0</td>\n",
       "      <td>0</td>\n",
       "      <td>0</td>\n",
       "      <td>0</td>\n",
       "      <td>0</td>\n",
       "      <td>0</td>\n",
       "    </tr>\n",
       "  </tbody>\n",
       "</table>\n",
       "<p>5 rows × 146 columns</p>\n",
       "</div>"
      ],
      "text/plain": [
       "   Rndrng_NPI  Rndrng_Prvdr_Gndr  Rndrng_Prvdr_Zip5  Tot_HCPCS_Cds  Tot_Benes   \n",
       "0  1154385557                  1            50266.0             51        637  \\\n",
       "1  1336409887                  0            10457.0             20        297   \n",
       "2  1992947139                  0            28480.0              6         54   \n",
       "3  1710395058                  0            53098.0             20        248   \n",
       "4  1346279965                  1            31405.0             22        284   \n",
       "\n",
       "   Tot_Srvcs  Tot_Sbmtd_Chrg  Tot_Mdcr_Alowd_Amt  Tot_Mdcr_Stdzd_Amt   \n",
       "0     4705.0      1438282.53           330963.03           271736.89  \\\n",
       "1     1256.0       147861.00            56649.57            40377.33   \n",
       "2     3849.0       132698.92           109437.86            89860.75   \n",
       "3      668.0        95485.00            34351.16            24858.06   \n",
       "4      560.0       203149.00            62637.00            49052.22   \n",
       "\n",
       "   Drug_Tot_HCPCS_Cds  ...  Rndrng_Prvdr_Type_Slide Preparation Facility   \n",
       "0                 6.0  ...                                             0  \\\n",
       "1                 0.0  ...                                             0   \n",
       "2                 0.0  ...                                             0   \n",
       "3                 0.0  ...                                             0   \n",
       "4                 0.0  ...                                             0   \n",
       "\n",
       "   Rndrng_Prvdr_Type_Speech Language Pathologist   \n",
       "0                                              0  \\\n",
       "1                                              0   \n",
       "2                                              0   \n",
       "3                                              0   \n",
       "4                                              0   \n",
       "\n",
       "   Rndrng_Prvdr_Type_Sports Medicine  Rndrng_Prvdr_Type_Surgical Oncology   \n",
       "0                                  0                                    0  \\\n",
       "1                                  0                                    0   \n",
       "2                                  0                                    0   \n",
       "3                                  0                                    0   \n",
       "4                                  0                                    0   \n",
       "\n",
       "   Rndrng_Prvdr_Type_Thoracic Surgery   \n",
       "0                                   0  \\\n",
       "1                                   0   \n",
       "2                                   0   \n",
       "3                                   0   \n",
       "4                                   0   \n",
       "\n",
       "   Rndrng_Prvdr_Type_Undefined Physician type   \n",
       "0                                           0  \\\n",
       "1                                           0   \n",
       "2                                           0   \n",
       "3                                           0   \n",
       "4                                           0   \n",
       "\n",
       "   Rndrng_Prvdr_Type_Undersea and Hyperbaric Medicine   \n",
       "0                                                  0   \\\n",
       "1                                                  0    \n",
       "2                                                  0    \n",
       "3                                                  0    \n",
       "4                                                  0    \n",
       "\n",
       "   Rndrng_Prvdr_Type_Unknown Supplier/Provider Specialty   \n",
       "0                                                  0      \\\n",
       "1                                                  0       \n",
       "2                                                  0       \n",
       "3                                                  0       \n",
       "4                                                  0       \n",
       "\n",
       "   Rndrng_Prvdr_Type_Urology  Rndrng_Prvdr_Type_Vascular Surgery  \n",
       "0                          0                                   0  \n",
       "1                          0                                   0  \n",
       "2                          0                                   0  \n",
       "3                          0                                   0  \n",
       "4                          0                                   0  \n",
       "\n",
       "[5 rows x 146 columns]"
      ]
     },
     "execution_count": 12,
     "metadata": {},
     "output_type": "execute_result"
    }
   ],
   "source": [
    "X_train.head()"
   ]
  },
  {
   "cell_type": "code",
   "execution_count": null,
   "id": "4cefedfa-6872-41c0-8a94-d0f0c58d4790",
   "metadata": {},
   "outputs": [],
   "source": [
    "# Remove provider ID from training data \n",
    "X_train = X_train.drop(['Rndrng_NPI'], axis=1)"
   ]
  },
  {
   "cell_type": "code",
   "execution_count": 38,
   "id": "161544ee-d4fe-48a2-945f-bddfdbefcce2",
   "metadata": {},
   "outputs": [],
   "source": [
    "train_features = np.array(X_train)"
   ]
  },
  {
   "cell_type": "code",
   "execution_count": 40,
   "id": "684d9a1d-f6c6-4b2d-b80e-dbe7d12a669b",
   "metadata": {},
   "outputs": [
    {
     "data": {
      "text/plain": [
       "0          0.0\n",
       "1          0.0\n",
       "2          0.0\n",
       "3          0.0\n",
       "4          0.0\n",
       "          ... \n",
       "1551182    0.0\n",
       "1551183    0.0\n",
       "1551184    0.0\n",
       "1551185    0.0\n",
       "1551186    0.0\n",
       "Name: excluded, Length: 1551187, dtype: float64"
      ]
     },
     "execution_count": 40,
     "metadata": {},
     "output_type": "execute_result"
    }
   ],
   "source": [
    "y_train['excluded']"
   ]
  },
  {
   "cell_type": "code",
   "execution_count": 41,
   "id": "b20a68eb-2dc8-4369-95f3-867c293210bc",
   "metadata": {},
   "outputs": [],
   "source": [
    "train_labels = np.array(y_train['excluded'])"
   ]
  },
  {
   "cell_type": "code",
   "execution_count": 62,
   "id": "8c5f313d-73c0-4f63-a1ff-bcc4342dbed4",
   "metadata": {},
   "outputs": [],
   "source": [
    "# Model starting point: https://www.tensorflow.org/tutorials/structured_data/imbalanced_data\n",
    "METRICS = [\n",
    "      keras.metrics.TruePositives(name='tp'),\n",
    "      keras.metrics.FalsePositives(name='fp'),\n",
    "      keras.metrics.TrueNegatives(name='tn'),\n",
    "      keras.metrics.FalseNegatives(name='fn'), \n",
    "      keras.metrics.BinaryAccuracy(name='accuracy'),\n",
    "      keras.metrics.Precision(name='precision'),\n",
    "      keras.metrics.Recall(name='recall'),\n",
    "      keras.metrics.AUC(name='auc'),\n",
    "      keras.metrics.AUC(name='prc', curve='PR'), # precision-recall curve\n",
    "]\n",
    "\n",
    "def make_model(metrics=METRICS, output_bias=None):\n",
    "  if output_bias is not None:\n",
    "    output_bias = tf.keras.initializers.Constant(output_bias)\n",
    "  model = keras.Sequential([\n",
    "      keras.layers.Dense(\n",
    "          16, activation='relu',\n",
    "          input_shape=(train_features.shape[-1],)),\n",
    "      keras.layers.Dropout(0.5),\n",
    "      keras.layers.Dense(1, activation='sigmoid',\n",
    "                         bias_initializer=output_bias),\n",
    "  ])\n",
    "\n",
    "  model.compile(\n",
    "      optimizer=keras.optimizers.Adam(learning_rate=1e-3),\n",
    "      loss=keras.losses.BinaryCrossentropy(),\n",
    "      metrics=metrics)\n",
    "\n",
    "  return model"
   ]
  },
  {
   "cell_type": "code",
   "execution_count": 63,
   "id": "e43b811d-e4b7-4ff8-94e7-7c0ef5ab8804",
   "metadata": {},
   "outputs": [],
   "source": [
    "EPOCHS = 100\n",
    "BATCH_SIZE = 200\n",
    "\n",
    "early_stopping = tf.keras.callbacks.EarlyStopping(\n",
    "    #monitor='val_prc', \n",
    "    verbose=1,\n",
    "    #patience=10,\n",
    "    mode='max',\n",
    "    restore_best_weights=True)"
   ]
  },
  {
   "cell_type": "code",
   "execution_count": 64,
   "id": "b5379ea6-6f1e-4c9c-b226-9db868c5fedc",
   "metadata": {},
   "outputs": [
    {
     "name": "stdout",
     "output_type": "stream",
     "text": [
      "Model: \"sequential_5\"\n",
      "_________________________________________________________________\n",
      " Layer (type)                Output Shape              Param #   \n",
      "=================================================================\n",
      " dense_10 (Dense)            (None, 16)                2336      \n",
      "                                                                 \n",
      " dropout_5 (Dropout)         (None, 16)                0         \n",
      "                                                                 \n",
      " dense_11 (Dense)            (None, 1)                 17        \n",
      "                                                                 \n",
      "=================================================================\n",
      "Total params: 2,353\n",
      "Trainable params: 2,353\n",
      "Non-trainable params: 0\n",
      "_________________________________________________________________\n"
     ]
    }
   ],
   "source": [
    "basic_model = make_model()\n",
    "basic_model.summary()"
   ]
  },
  {
   "cell_type": "code",
   "execution_count": 67,
   "id": "fb4cdcba-92ce-4dbf-837f-7ad3ad74275c",
   "metadata": {},
   "outputs": [
    {
     "name": "stdout",
     "output_type": "stream",
     "text": [
      "7756/7756 [==============================] - 9s 1ms/step - loss: nan - tp: 0.0000e+00 - fp: 0.0000e+00 - tn: 1550762.0000 - fn: 425.0000 - accuracy: 0.9997 - precision: 0.0000e+00 - recall: 0.0000e+00 - auc: 1.9112e-04 - prc: 3.2029e-06\n"
     ]
    }
   ],
   "source": [
    "results = basic_model.evaluate(train_features, \n",
    "                               train_labels, \n",
    "                               batch_size=BATCH_SIZE, \n",
    "                               verbose=1)"
   ]
  },
  {
   "cell_type": "code",
   "execution_count": 66,
   "id": "a0450193-5c68-4107-88d0-d96d9adcb9fa",
   "metadata": {},
   "outputs": [
    {
     "data": {
      "text/plain": [
       "[nan,\n",
       " 0.0,\n",
       " 0.0,\n",
       " 1550762.0,\n",
       " 425.0,\n",
       " 0.9997259974479675,\n",
       " 0.0,\n",
       " 0.0,\n",
       " 0.00019112425798084587,\n",
       " 3.2028813166107284e-06]"
      ]
     },
     "execution_count": 66,
     "metadata": {},
     "output_type": "execute_result"
    }
   ],
   "source": [
    "results"
   ]
  },
  {
   "cell_type": "code",
   "execution_count": 55,
   "id": "a4082071-7aa3-4e43-bd7b-d17a48f345b9",
   "metadata": {},
   "outputs": [
    {
     "name": "stdout",
     "output_type": "stream",
     "text": [
      "Loss: nan\n"
     ]
    }
   ],
   "source": [
    "print(\"Loss: {:0.4f}\".format(results[0]))"
   ]
  },
  {
   "cell_type": "code",
   "execution_count": null,
   "id": "84563048-f37f-4670-84ab-c1bfa3b8d68b",
   "metadata": {},
   "outputs": [],
   "source": [
    "# Set output layer's bias to reflect inbalanced data\n",
    "# initial_bias = np.log([pos/neg])\n"
   ]
  }
 ],
 "metadata": {
  "kernelspec": {
   "display_name": "Python (cs230 proj)",
   "language": "python",
   "name": "myenv"
  },
  "language_info": {
   "codemirror_mode": {
    "name": "ipython",
    "version": 3
   },
   "file_extension": ".py",
   "mimetype": "text/x-python",
   "name": "python",
   "nbconvert_exporter": "python",
   "pygments_lexer": "ipython3",
   "version": "3.10.11"
  }
 },
 "nbformat": 4,
 "nbformat_minor": 5
}
